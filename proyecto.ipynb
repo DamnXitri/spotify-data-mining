{
 "cells": [
  {
   "cell_type": "markdown",
   "metadata": {},
   "source": [
    "# Proyecto Grupo 5 - Análisis Musical en Spotify"
   ]
  },
  {
   "cell_type": "markdown",
   "metadata": {},
   "source": [
    "# Librerias y Config"
   ]
  },
  {
   "cell_type": "code",
   "execution_count": 1,
   "metadata": {},
   "outputs": [],
   "source": [
    "import datetime\n",
    "import typing\n",
    "\n",
    "import numpy as np\n",
    "import pandas as pd\n",
    "\n",
    "import seaborn as sns\n",
    "import matplotlib.pyplot as plt"
   ]
  },
  {
   "cell_type": "code",
   "execution_count": 2,
   "metadata": {},
   "outputs": [],
   "source": [
    "pd.set_option('display.max_colwidth', None)\n",
    "pd.set_option('display.max_columns', 50)\n",
    "pd.set_option('display.max_rows', 50)\n",
    "pd.set_option('display.float_format', lambda x: '%.4f' % x)"
   ]
  },
  {
   "cell_type": "markdown",
   "metadata": {},
   "source": [
    "# spotify.sqlite\n",
    "\n",
    "`spotify.sqlite` es el archivo con el que partimos este proyecto, obtenido de [los siguientes datos de kaggle](https://www.kaggle.com/datasets/maltegrosse/8-m-spotify-tracks-genre-audio-features). Contiene millones de canciones junto al analisis de caracteristicas que provee la api de spotify."
   ]
  },
  {
   "cell_type": "markdown",
   "metadata": {},
   "source": [
    "### Cargando datos\n",
    "\n",
    "Estos se encuentran contenidos en una BDD `spotify.sqlite`, la cual tendremos en una carpeta `data`."
   ]
  },
  {
   "cell_type": "code",
   "execution_count": null,
   "metadata": {},
   "outputs": [],
   "source": [
    "import sqlite3\n",
    "\n",
    "# funcion para cargar las tablas de la base de datos en un diccionario de dataframes\n",
    "def load_data():\n",
    "  # conexion a la base de datos\n",
    "  conn = sqlite3.connect(\n",
    "    database='data/spotify.sqlite'\n",
    "  )\n",
    "  # para que no haya problemas con los caracteres especiales\n",
    "  conn.text_factory = lambda b: b.decode(encoding = 'utf-8', errors = 'ignore')\n",
    "  \n",
    "  # lista de tablas de la base de datos\n",
    "  tables = [\n",
    "    \"r_albums_artists\",\n",
    "    \"r_albums_tracks\",\n",
    "    \"r_artist_genre\",\n",
    "    \"r_track_artist\",\n",
    "    \"genres\",\n",
    "    \"albums\",\n",
    "    \"artists\",\n",
    "    \"audio_features\",\n",
    "    \"tracks\",\n",
    "  ]\n",
    "\n",
    "  # diccionario de dataframes\n",
    "  dataframes : typing.Dict[str, pd.DataFrame] = {}\n",
    "  \n",
    "  # cargar cada tabla en un dataframe\n",
    "  for table in tables:\n",
    "    dataframes[table] = pd.read_sql_query(\n",
    "      sql = f\"SELECT * FROM {table}\",\n",
    "      con = conn\n",
    "    )\n",
    "  \n",
    "  # cerrar la conexion a la base de datos\n",
    "  conn.close()\n",
    "\n",
    "  return dataframes\n",
    "\n",
    "# ejecutar la funcion\n",
    "dataframes : typing.Dict[str, pd.DataFrame] = load_data()\n",
    "[\n",
    "  tracks, artists, albums, genres, audio_features, \n",
    "  r_albums_artists, r_albums_tracks, r_artist_genre, r_track_artist\n",
    "] = [\n",
    "  dataframes['tracks'], dataframes['artists'], dataframes['albums'], dataframes['genres'], dataframes['audio_features'] ,\n",
    "  dataframes['r_albums_artists'], dataframes['r_albums_tracks'], dataframes['r_artist_genre'], dataframes['r_track_artist']\n",
    "]\n",
    "# ver las tablas cargadas\n",
    "dataframes.keys()"
   ]
  },
  {
   "cell_type": "markdown",
   "metadata": {},
   "source": [
    "### Formato de las tablas"
   ]
  },
  {
   "cell_type": "code",
   "execution_count": null,
   "metadata": {},
   "outputs": [],
   "source": [
    "info_df = pd.DataFrame()\n",
    "info_df['tabla'] = dataframes.keys()\n",
    "info_df['filas'] = [dataframes[i].shape[0] for i in dataframes.keys()]\n",
    "info_df['columnas'] = [dataframes[i].shape[1] for i in dataframes.keys()]\n",
    "info_df['nombre_columnas'] = [list(dataframes[i].columns) for i in dataframes.keys()]\n",
    "\n",
    "info_df.set_index('tabla', inplace=True)\n",
    "info_df"
   ]
  },
  {
   "cell_type": "markdown",
   "metadata": {},
   "source": [
    "### Estadisticas y exploración inicial"
   ]
  },
  {
   "cell_type": "markdown",
   "metadata": {},
   "source": [
    "Las tablas `r_albums_artists`, `r_albums_tracks`, `r_artist_genre` solamente contienen ids, por lo que no contienen estadisticas interesantes"
   ]
  },
  {
   "cell_type": "markdown",
   "metadata": {},
   "source": [
    "#### albums"
   ]
  },
  {
   "cell_type": "code",
   "execution_count": null,
   "metadata": {},
   "outputs": [],
   "source": [
    "albums.head()"
   ]
  },
  {
   "cell_type": "code",
   "execution_count": null,
   "metadata": {},
   "outputs": [],
   "source": [
    "albums.shape"
   ]
  },
  {
   "cell_type": "code",
   "execution_count": null,
   "metadata": {},
   "outputs": [],
   "source": [
    "albums.info()"
   ]
  },
  {
   "cell_type": "code",
   "execution_count": null,
   "metadata": {},
   "outputs": [],
   "source": [
    "albums.describe()"
   ]
  },
  {
   "cell_type": "markdown",
   "metadata": {},
   "source": [
    "En base a las celdas anteriores, consideramos: \n",
    "\n",
    "- Formalizar `release_date`, estan en formato timestamp unix, por lo que seria conveniente tener esa informacion como fecha. \\\n",
    "  Ademas debemos tener cuidado con los timestamps negativos, los que nos pueden traer problemas (algunos van al año 0)\n",
    "- Analizar si la popularidad del album es importante, pues 75% de sus valores es 0 en un rango de 0 a 100\n"
   ]
  },
  {
   "cell_type": "code",
   "execution_count": null,
   "metadata": {},
   "outputs": [],
   "source": [
    "albums['album_type'].value_counts()"
   ]
  },
  {
   "cell_type": "code",
   "execution_count": null,
   "metadata": {},
   "outputs": [],
   "source": [
    "albums['album_group'].value_counts()"
   ]
  },
  {
   "cell_type": "code",
   "execution_count": null,
   "metadata": {},
   "outputs": [],
   "source": [
    "(albums['album_group'] == '').value_counts()"
   ]
  },
  {
   "cell_type": "markdown",
   "metadata": {},
   "source": [
    "En base a las celdas anteriores, consideramos: \n",
    "\n",
    "- `album_group`, que solo contiene strings vacios, es candidato a eliminar."
   ]
  },
  {
   "cell_type": "markdown",
   "metadata": {},
   "source": [
    "#### artists"
   ]
  },
  {
   "cell_type": "code",
   "execution_count": null,
   "metadata": {},
   "outputs": [],
   "source": [
    "artists.head()"
   ]
  },
  {
   "cell_type": "code",
   "execution_count": null,
   "metadata": {},
   "outputs": [],
   "source": [
    "artists.shape"
   ]
  },
  {
   "cell_type": "code",
   "execution_count": null,
   "metadata": {},
   "outputs": [],
   "source": [
    "artists.info()"
   ]
  },
  {
   "cell_type": "code",
   "execution_count": null,
   "metadata": {},
   "outputs": [],
   "source": [
    "artists.describe()"
   ]
  },
  {
   "cell_type": "markdown",
   "metadata": {},
   "source": [
    "Aqui no consideramos modificar los datos. Pero hay que considerar un analisis mas en profundidad de las columnas de popularidad y seguidores."
   ]
  },
  {
   "cell_type": "markdown",
   "metadata": {},
   "source": [
    "#### tracks"
   ]
  },
  {
   "cell_type": "code",
   "execution_count": null,
   "metadata": {},
   "outputs": [],
   "source": [
    "tracks.head()"
   ]
  },
  {
   "cell_type": "code",
   "execution_count": null,
   "metadata": {},
   "outputs": [],
   "source": [
    "tracks.shape"
   ]
  },
  {
   "cell_type": "code",
   "execution_count": null,
   "metadata": {},
   "outputs": [],
   "source": [
    "tracks.info()"
   ]
  },
  {
   "cell_type": "code",
   "execution_count": null,
   "metadata": {},
   "outputs": [],
   "source": [
    "tracks.describe()"
   ]
  },
  {
   "cell_type": "markdown",
   "metadata": {},
   "source": [
    "A partir de las celdas anteriores, consideramos:\n",
    "\n",
    "- `disc_number` es candidato a eliminar, pues tiene poca varianza y algunos outliers.\n",
    "- Analizar si `track_number` puede ser una columna util o no. Parece tener outliers (ver `max`).\n",
    "- `is_playable` es candidato a eliminar, pues su count indica que muchos de sus valores son nulos."
   ]
  },
  {
   "cell_type": "code",
   "execution_count": null,
   "metadata": {},
   "outputs": [],
   "source": [
    "tracks['disc_number'].value_counts()"
   ]
  },
  {
   "cell_type": "code",
   "execution_count": null,
   "metadata": {},
   "outputs": [],
   "source": [
    "tracks['disc_number'].max()"
   ]
  },
  {
   "cell_type": "code",
   "execution_count": null,
   "metadata": {},
   "outputs": [],
   "source": [
    "tracks['disc_number'].var()"
   ]
  },
  {
   "cell_type": "code",
   "execution_count": null,
   "metadata": {},
   "outputs": [],
   "source": [
    "tracks['track_number'].value_counts()"
   ]
  },
  {
   "cell_type": "markdown",
   "metadata": {},
   "source": [
    "OPAAA, que paso ahi?\n",
    "investiguemos 😎"
   ]
  },
  {
   "cell_type": "code",
   "execution_count": null,
   "metadata": {},
   "outputs": [],
   "source": [
    "tracks['track_number'].max()"
   ]
  },
  {
   "cell_type": "code",
   "execution_count": null,
   "metadata": {},
   "outputs": [],
   "source": [
    "tracks[tracks['track_number'] >= 1000].sample(5)"
   ]
  },
  {
   "cell_type": "markdown",
   "metadata": {},
   "source": [
    "Curioso, estas canciones estan relacionadas y tienen su numero de **_Chapter_** como `track_number`, esto nos genera una serie de outliers que posiblemente van de track number 1 a 1522. Extendamos la busqueda."
   ]
  },
  {
   "cell_type": "code",
   "execution_count": null,
   "metadata": {},
   "outputs": [],
   "source": [
    "# obtenemos todos los tracks del album que contiene el track con el numero mas alto\n",
    "r_albums_tracks[\n",
    "  r_albums_tracks['album_id'] == r_albums_tracks[\n",
    "    # album que tiene el track con el numero mas alto\n",
    "    r_albums_tracks['track_id'] == tracks[\n",
    "      # track con el numero mas alto\n",
    "      tracks['track_number'] == tracks['track_number'].max()\n",
    "    ]['id'].values[0]\n",
    "  ]['album_id'].values[0]\n",
    "].shape"
   ]
  },
  {
   "cell_type": "markdown",
   "metadata": {},
   "source": [
    "Exactamente lo que pensabamos, tenemos nuestro primer outlier. Utilizemos `track_number` como filtro para ver si encontramos otros."
   ]
  },
  {
   "cell_type": "code",
   "execution_count": null,
   "metadata": {},
   "outputs": [],
   "source": [
    "tracks[tracks['track_number'] >= 500].sample(5)"
   ]
  },
  {
   "cell_type": "markdown",
   "metadata": {},
   "source": [
    "En efecto, Aparece nuevamente el conde de montecristo, pero ademas comenzamos a encontrar audios de la biblia (?), efectos de sonido y canciones de musica clasica (posiblemente de albumes recopilatorios).\n",
    "\n",
    "En base a esto podemos definir que `track_number` nos puede servir como filtro a todos estos datos que no nos sean utiles y que quizas podemos excluir los albumes recopilatorios de los datos.\n",
    "\n",
    "Finalmente, hay que decidir donde pondremos nuestro limite a considerar y si excluimos los albumes recopilatorios de los datos."
   ]
  },
  {
   "cell_type": "code",
   "execution_count": null,
   "metadata": {},
   "outputs": [],
   "source": [
    "tracks['is_playable'].value_counts()"
   ]
  },
  {
   "cell_type": "markdown",
   "metadata": {},
   "source": [
    "Ya habiamos visto que a esta columna le faltaban muchos datos, comprobemos cuantos son nulos."
   ]
  },
  {
   "cell_type": "code",
   "execution_count": null,
   "metadata": {},
   "outputs": [],
   "source": [
    "tracks[tracks['is_playable'].isna()].shape"
   ]
  },
  {
   "cell_type": "markdown",
   "metadata": {},
   "source": [
    "Hay muchos nulos en esta columna!!! Claramente es eliminable."
   ]
  },
  {
   "cell_type": "code",
   "execution_count": null,
   "metadata": {},
   "outputs": [],
   "source": [
    "tracks['explicit'].value_counts()"
   ]
  },
  {
   "cell_type": "code",
   "execution_count": null,
   "metadata": {},
   "outputs": [],
   "source": [
    "tracks['duration'].value_counts()"
   ]
  },
  {
   "cell_type": "markdown",
   "metadata": {},
   "source": [
    "La duracion tambien evidencia presencia de algunos outliers, sin embargo, conviene excluir a los albumes recopilatorios del analisis y verificar nuevamente."
   ]
  },
  {
   "cell_type": "markdown",
   "metadata": {},
   "source": [
    "#### audio_features"
   ]
  },
  {
   "cell_type": "code",
   "execution_count": null,
   "metadata": {},
   "outputs": [],
   "source": [
    "audio_features.head()"
   ]
  },
  {
   "cell_type": "code",
   "execution_count": null,
   "metadata": {},
   "outputs": [],
   "source": [
    "audio_features.shape"
   ]
  },
  {
   "cell_type": "code",
   "execution_count": null,
   "metadata": {},
   "outputs": [],
   "source": [
    "audio_features.info()"
   ]
  },
  {
   "cell_type": "code",
   "execution_count": null,
   "metadata": {},
   "outputs": [],
   "source": [
    "audio_features.describe()"
   ]
  },
  {
   "cell_type": "markdown",
   "metadata": {},
   "source": [
    "Aqui solo eliminaremos `analysis_url` (no nos sirve sin un token), pues es la tabla con la informacion de mayor interes."
   ]
  },
  {
   "cell_type": "markdown",
   "metadata": {},
   "source": [
    "#### genres"
   ]
  },
  {
   "cell_type": "code",
   "execution_count": null,
   "metadata": {},
   "outputs": [],
   "source": [
    "genres.head()"
   ]
  },
  {
   "cell_type": "code",
   "execution_count": null,
   "metadata": {},
   "outputs": [],
   "source": [
    "genres.shape"
   ]
  },
  {
   "cell_type": "code",
   "execution_count": null,
   "metadata": {},
   "outputs": [],
   "source": [
    "genres.info()"
   ]
  },
  {
   "cell_type": "code",
   "execution_count": null,
   "metadata": {},
   "outputs": [],
   "source": [
    "genres.value_counts()"
   ]
  },
  {
   "cell_type": "markdown",
   "metadata": {},
   "source": [
    "Esta tabla va relacionada al artista, no a las canciones o albumes, por lo que hay que considerar si es realmente util o no."
   ]
  },
  {
   "cell_type": "markdown",
   "metadata": {},
   "source": [
    "### Eliminar y modificar columnas"
   ]
  },
  {
   "cell_type": "markdown",
   "metadata": {},
   "source": [
    "#### albums"
   ]
  },
  {
   "cell_type": "markdown",
   "metadata": {},
   "source": [
    "Inicialmente, modificaremos `release_date` para que sea en formato de fecha y no timestamp, luego eliminamos `album_group` debido a que todos son valores vacios."
   ]
  },
  {
   "cell_type": "code",
   "execution_count": null,
   "metadata": {},
   "outputs": [],
   "source": [
    "# debido a limitaciones en los timestamps de pandas, utilizamos la clase datetime de python (la columna será de tipo object para pandas)\n",
    "# no tan fun fact: pd.Timestamp.min es el 1 de enero de 1677 :(\n",
    "\n",
    "# Para rematar, fromtimestamp() no acepta fechas negativas, por lo que tenemos que hacer un workaround con timedelta\n",
    "\n",
    "# funcion para convertir un timestamp a una fecha\n",
    "def convert_timestamp_to_date(timestamp):\n",
    "  try:\n",
    "    # pasamos el timestamp a dias y luego a fecha\n",
    "    return (datetime.datetime.fromtimestamp(0) + datetime.timedelta(days = timestamp / 1000 / 60 / 60 / 24)).date()\n",
    "  # existe un limite para las fechas negativas, lo que nos da un error de OverflowError\n",
    "  except OverflowError:\n",
    "    # si el timestamp es positivo, devolvemos la fecha maxima\n",
    "    if timestamp > 0:\n",
    "      return datetime.datetime.max.date()\n",
    "    # si el timestamp es negativo, devolvemos la fecha minima\n",
    "    else:\n",
    "      return datetime.datetime.min.date()"
   ]
  },
  {
   "cell_type": "code",
   "execution_count": null,
   "metadata": {},
   "outputs": [],
   "source": [
    "# pasar release_date de timestamp a datetime\n",
    "albums['album_release_date'] = albums['release_date'].apply(\n",
    "  lambda x: convert_timestamp_to_date(x)\n",
    ")\n",
    "albums['album_release_year'] = albums['album_release_date'].apply(\n",
    "  lambda x: x.year\n",
    ")\n",
    "albums['album_release_month'] = albums['album_release_date'].apply(\n",
    "  lambda x: x.month\n",
    ")\n",
    "# OJO: probablemente no sea muy preciso\n",
    "albums['album_release_day'] = albums['album_release_date'].apply(\n",
    "  lambda x: x.day\n",
    ")\n",
    "\n",
    "albums.drop(columns=[\n",
    "  'album_group', 'release_date',\n",
    "], inplace=True)\n",
    "albums.rename(columns={\n",
    "  'id': 'album_id',\n",
    "  'name': 'album_name',\n",
    "  'popularity': 'album_popularity',\n",
    "}, inplace=True)\n",
    "albums.head()"
   ]
  },
  {
   "cell_type": "code",
   "execution_count": null,
   "metadata": {},
   "outputs": [],
   "source": [
    "albums.describe().apply(lambda s: s.apply(lambda x: format(x, '.0f')))"
   ]
  },
  {
   "cell_type": "markdown",
   "metadata": {},
   "source": [
    "#### artists"
   ]
  },
  {
   "cell_type": "code",
   "execution_count": null,
   "metadata": {},
   "outputs": [],
   "source": [
    "artists.rename(columns={\n",
    "  'id': 'artist_id',\n",
    "  'name': 'artist_name',\n",
    "  'popularity': 'artist_popularity',\n",
    "  'followers': 'artist_followers',\n",
    "}, inplace=True)\n",
    "artists.head()"
   ]
  },
  {
   "cell_type": "markdown",
   "metadata": {},
   "source": [
    "#### tracks"
   ]
  },
  {
   "cell_type": "markdown",
   "metadata": {},
   "source": [
    "Inicialmente, consideramos eliminar `disc_number` por baja varianza y `is_playable` por muchos valores nulos.\n",
    "Ademas cambiaremos algunos nombres de columnas."
   ]
  },
  {
   "cell_type": "code",
   "execution_count": null,
   "metadata": {},
   "outputs": [],
   "source": [
    "tracks.drop(columns=[\n",
    "  'preview_url', 'disc_number', 'is_playable'\n",
    "], inplace=True)\n",
    "tracks.rename(columns={\n",
    "  'id': 'track_id',\n",
    "  'name': 'track_name',\n",
    "  'duration': 'track_duration_ms',\n",
    "  'track_number': 'track_number_in_album',\n",
    "  'explicit': 'track_explicit',\n",
    "  'popularity': 'track_popularity'\n",
    "}, inplace=True)\n",
    "tracks.head()"
   ]
  },
  {
   "cell_type": "markdown",
   "metadata": {},
   "source": [
    "#### audio_features"
   ]
  },
  {
   "cell_type": "code",
   "execution_count": null,
   "metadata": {},
   "outputs": [],
   "source": [
    "audio_features.drop(columns=[\n",
    "  'analysis_url',\n",
    "], inplace=True)\n",
    "audio_features.rename(columns={\n",
    "  'id': 'audio_feature_id',\n",
    "  'duration_ms': 'feature_duration_ms',\n",
    "}, inplace=True)\n",
    "audio_features.head()"
   ]
  },
  {
   "cell_type": "markdown",
   "metadata": {},
   "source": [
    "### Mergear tablas"
   ]
  },
  {
   "cell_type": "code",
   "execution_count": null,
   "metadata": {},
   "outputs": [],
   "source": [
    "merged_data = pd.merge(\n",
    "  left = r_albums_tracks,\n",
    "  right = tracks,\n",
    "  how = 'inner',\n",
    "  on = 'track_id',\n",
    ")\n",
    "\n",
    "merged_data = pd.merge(\n",
    "  left = merged_data,\n",
    "  right = albums,\n",
    "  how = 'inner',\n",
    "  on = 'album_id',\n",
    ")\n",
    "\n",
    "merged_data = pd.merge(\n",
    "  left = r_albums_artists,\n",
    "  right = merged_data,\n",
    "  how = 'inner',\n",
    "  on = 'album_id',\n",
    ")\n",
    "\n",
    "merged_data = pd.merge(\n",
    "  left = merged_data,\n",
    "  right = artists,\n",
    "  how = 'inner',\n",
    "  on = 'artist_id',\n",
    ")\n",
    "\n",
    "merged_data = pd.merge(\n",
    "  left = merged_data,\n",
    "  right = audio_features,\n",
    "  how = 'inner',\n",
    "  on = 'audio_feature_id',\n",
    ")"
   ]
  },
  {
   "cell_type": "code",
   "execution_count": null,
   "metadata": {},
   "outputs": [],
   "source": [
    "merged_data.head()"
   ]
  },
  {
   "cell_type": "code",
   "execution_count": null,
   "metadata": {},
   "outputs": [],
   "source": [
    "merged_data.shape"
   ]
  },
  {
   "cell_type": "code",
   "execution_count": null,
   "metadata": {},
   "outputs": [],
   "source": [
    "merged_data.info()"
   ]
  },
  {
   "cell_type": "markdown",
   "metadata": {},
   "source": [
    "### Limitar/Filtrar data mergeada"
   ]
  },
  {
   "cell_type": "markdown",
   "metadata": {},
   "source": [
    "Dentro de las modificaciones para el hito 2, consideramos limitar el periodo, la duracion y eliminar los albumes recopilatorios. \\\n",
    "Además, aqui tambien eliminaremos completamente los albumes que posean más de 30 canciones, eliminando uno de los casos que vimos durante la exploración."
   ]
  },
  {
   "cell_type": "code",
   "execution_count": null,
   "metadata": {},
   "outputs": [],
   "source": [
    "MIN_YEAR_TO_CONSIDER = 2000\n",
    "MAX_YEAR_TO_CONSIDER = 2019\n",
    "MIN_TRACK_DURATION = 1 * 60 * 1000 # 1 minuto como minimo\n",
    "MAX_TRACK_DURATION = 6 * 60 * 1000 # 6 minutos como maximo\n",
    "MAX_TRACK_NUMBER_IN_ALBUM = 30 # 30 canciones como maximo en un album (si no se cumple, se eliminan todas las canciones del album)\n",
    "DELETED_TYPES = ['compilation']\n",
    "\n",
    "merged_data = merged_data[\n",
    "  (merged_data['album_release_year'] >= MIN_YEAR_TO_CONSIDER) &\n",
    "  (merged_data['album_release_year'] <= MAX_YEAR_TO_CONSIDER) &\n",
    "  (merged_data['track_duration_ms'] >= MIN_TRACK_DURATION) &\n",
    "  (merged_data['track_duration_ms'] <= MAX_TRACK_DURATION) &\n",
    "  (~merged_data['album_type'].isin(DELETED_TYPES))\n",
    "]\n",
    "\n",
    "removable_albums_ids = merged_data[\n",
    "  merged_data['track_number_in_album'] > MAX_TRACK_NUMBER_IN_ALBUM\n",
    "]['album_id'].unique()\n",
    "\n",
    "merged_data = merged_data[\n",
    "  ~merged_data['album_id'].isin(removable_albums_ids)\n",
    "]\n",
    "\n",
    "merged_data.drop_duplicates(subset=[\n",
    "  'track_id', 'artist_id', 'album_id'\n",
    "], inplace=True)\n"
   ]
  },
  {
   "cell_type": "code",
   "execution_count": null,
   "metadata": {},
   "outputs": [],
   "source": [
    "merged_data.info()"
   ]
  },
  {
   "cell_type": "markdown",
   "metadata": {},
   "source": [
    "### Guardado de datos en un csv"
   ]
  },
  {
   "cell_type": "code",
   "execution_count": null,
   "metadata": {},
   "outputs": [],
   "source": [
    "# cambiar estos valores para guardar el dataframe\n",
    "SAVE = False\n",
    "if SAVE:\n",
    "  merged_data.to_csv('data/merged_data.csv', index=False)"
   ]
  },
  {
   "cell_type": "markdown",
   "metadata": {},
   "source": [
    "## Graficando"
   ]
  },
  {
   "cell_type": "code",
   "execution_count": null,
   "metadata": {},
   "outputs": [],
   "source": [
    "# tomamos una muestra de los datos\n",
    "fraction = 0.4\n",
    "sampled_data = merged_data.sample(frac=fraction, random_state=42)\n",
    "sampled_data.shape"
   ]
  },
  {
   "cell_type": "code",
   "execution_count": null,
   "metadata": {},
   "outputs": [],
   "source": [
    "sampled_data['track_duration_s'] = sampled_data['track_duration_ms'] / 1000"
   ]
  },
  {
   "cell_type": "code",
   "execution_count": null,
   "metadata": {},
   "outputs": [],
   "source": [
    "# histograma de la duracion de las canciones\n",
    "sns.histplot(\n",
    "  data = sampled_data,\n",
    "  x = 'track_duration_s',\n",
    "  bins = 100,\n",
    "  kde = True,\n",
    ")"
   ]
  },
  {
   "cell_type": "code",
   "execution_count": null,
   "metadata": {},
   "outputs": [],
   "source": [
    "sns.histplot(\n",
    "  data = sampled_data,\n",
    "  x = 'track_popularity',\n",
    "  bins = 25,\n",
    "  kde = True,\n",
    ")\n"
   ]
  },
  {
   "cell_type": "code",
   "execution_count": null,
   "metadata": {},
   "outputs": [],
   "source": [
    "# plot release year\n",
    "sns.histplot(\n",
    "  data = sampled_data,\n",
    "  x = 'album_release_year',\n",
    "  bins = 20,\n",
    ")"
   ]
  },
  {
   "cell_type": "code",
   "execution_count": null,
   "metadata": {},
   "outputs": [],
   "source": [
    "\n",
    "# plot multiples histogramas (13 columnas/features)\n",
    "fig, axs = plt.subplots(4, 4, figsize=(20, 20))\n",
    "\n",
    "columns = sampled_data.columns[-13:]\n",
    "for i, col in enumerate(columns):\n",
    "  sns.histplot(\n",
    "    data = sampled_data,\n",
    "    x = col,\n",
    "    ax = axs[i // 4][i % 4],\n",
    "    bins = 25,\n",
    "    kde = True,\n",
    "  )\n"
   ]
  },
  {
   "cell_type": "markdown",
   "metadata": {},
   "source": [
    "# merged_data.csv\n",
    "\n",
    "`merged_data.csv` es el archivo resultante del procesamiento hecho en la seccion de `spotify.sqlite`, contiene todos los datos que consideramos luego de limpieza y seleccion de sus registros en un solo dataframe."
   ]
  },
  {
   "cell_type": "markdown",
   "metadata": {},
   "source": [
    "## carga"
   ]
  },
  {
   "cell_type": "code",
   "execution_count": null,
   "metadata": {},
   "outputs": [],
   "source": [
    "merged_data = pd.read_csv('data/merged_data.csv')\n",
    "merged_data.head()"
   ]
  },
  {
   "cell_type": "code",
   "execution_count": null,
   "metadata": {},
   "outputs": [],
   "source": [
    "merged_data.shape"
   ]
  },
  {
   "cell_type": "code",
   "execution_count": null,
   "metadata": {},
   "outputs": [],
   "source": [
    "merged_data.info()"
   ]
  },
  {
   "cell_type": "markdown",
   "metadata": {},
   "source": [
    "# songs_normalize.csv\n",
    "\n",
    "`songs_normalize.csv` es [un dataset de kaggle](https://www.kaggle.com/datasets/paradisejoy/top-hits-spotify-from-20002019) de los mejores hits de spotify, considerando desde 2000 al 2019."
   ]
  },
  {
   "cell_type": "markdown",
   "metadata": {},
   "source": [
    "## carga y modificaciones iniciales"
   ]
  },
  {
   "cell_type": "code",
   "execution_count": 3,
   "metadata": {},
   "outputs": [
    {
     "data": {
      "text/html": [
       "<div>\n",
       "<style scoped>\n",
       "    .dataframe tbody tr th:only-of-type {\n",
       "        vertical-align: middle;\n",
       "    }\n",
       "\n",
       "    .dataframe tbody tr th {\n",
       "        vertical-align: top;\n",
       "    }\n",
       "\n",
       "    .dataframe thead th {\n",
       "        text-align: right;\n",
       "    }\n",
       "</style>\n",
       "<table border=\"1\" class=\"dataframe\">\n",
       "  <thead>\n",
       "    <tr style=\"text-align: right;\">\n",
       "      <th></th>\n",
       "      <th>artist</th>\n",
       "      <th>song</th>\n",
       "      <th>duration_ms</th>\n",
       "      <th>explicit</th>\n",
       "      <th>year</th>\n",
       "      <th>popularity</th>\n",
       "      <th>danceability</th>\n",
       "      <th>energy</th>\n",
       "      <th>key</th>\n",
       "      <th>loudness</th>\n",
       "      <th>mode</th>\n",
       "      <th>speechiness</th>\n",
       "      <th>acousticness</th>\n",
       "      <th>instrumentalness</th>\n",
       "      <th>liveness</th>\n",
       "      <th>valence</th>\n",
       "      <th>tempo</th>\n",
       "      <th>genre</th>\n",
       "    </tr>\n",
       "  </thead>\n",
       "  <tbody>\n",
       "    <tr>\n",
       "      <th>0</th>\n",
       "      <td>Britney Spears</td>\n",
       "      <td>Oops!...I Did It Again</td>\n",
       "      <td>211160</td>\n",
       "      <td>False</td>\n",
       "      <td>2000</td>\n",
       "      <td>77</td>\n",
       "      <td>0.7510</td>\n",
       "      <td>0.8340</td>\n",
       "      <td>1</td>\n",
       "      <td>-5.4440</td>\n",
       "      <td>0</td>\n",
       "      <td>0.0437</td>\n",
       "      <td>0.3000</td>\n",
       "      <td>0.0000</td>\n",
       "      <td>0.3550</td>\n",
       "      <td>0.8940</td>\n",
       "      <td>95.0530</td>\n",
       "      <td>pop</td>\n",
       "    </tr>\n",
       "    <tr>\n",
       "      <th>1</th>\n",
       "      <td>blink-182</td>\n",
       "      <td>All The Small Things</td>\n",
       "      <td>167066</td>\n",
       "      <td>False</td>\n",
       "      <td>1999</td>\n",
       "      <td>79</td>\n",
       "      <td>0.4340</td>\n",
       "      <td>0.8970</td>\n",
       "      <td>0</td>\n",
       "      <td>-4.9180</td>\n",
       "      <td>1</td>\n",
       "      <td>0.0488</td>\n",
       "      <td>0.0103</td>\n",
       "      <td>0.0000</td>\n",
       "      <td>0.6120</td>\n",
       "      <td>0.6840</td>\n",
       "      <td>148.7260</td>\n",
       "      <td>rock, pop</td>\n",
       "    </tr>\n",
       "    <tr>\n",
       "      <th>2</th>\n",
       "      <td>Faith Hill</td>\n",
       "      <td>Breathe</td>\n",
       "      <td>250546</td>\n",
       "      <td>False</td>\n",
       "      <td>1999</td>\n",
       "      <td>66</td>\n",
       "      <td>0.5290</td>\n",
       "      <td>0.4960</td>\n",
       "      <td>7</td>\n",
       "      <td>-9.0070</td>\n",
       "      <td>1</td>\n",
       "      <td>0.0290</td>\n",
       "      <td>0.1730</td>\n",
       "      <td>0.0000</td>\n",
       "      <td>0.2510</td>\n",
       "      <td>0.2780</td>\n",
       "      <td>136.8590</td>\n",
       "      <td>pop, country</td>\n",
       "    </tr>\n",
       "    <tr>\n",
       "      <th>3</th>\n",
       "      <td>Bon Jovi</td>\n",
       "      <td>It's My Life</td>\n",
       "      <td>224493</td>\n",
       "      <td>False</td>\n",
       "      <td>2000</td>\n",
       "      <td>78</td>\n",
       "      <td>0.5510</td>\n",
       "      <td>0.9130</td>\n",
       "      <td>0</td>\n",
       "      <td>-4.0630</td>\n",
       "      <td>0</td>\n",
       "      <td>0.0466</td>\n",
       "      <td>0.0263</td>\n",
       "      <td>0.0000</td>\n",
       "      <td>0.3470</td>\n",
       "      <td>0.5440</td>\n",
       "      <td>119.9920</td>\n",
       "      <td>rock, metal</td>\n",
       "    </tr>\n",
       "    <tr>\n",
       "      <th>4</th>\n",
       "      <td>*NSYNC</td>\n",
       "      <td>Bye Bye Bye</td>\n",
       "      <td>200560</td>\n",
       "      <td>False</td>\n",
       "      <td>2000</td>\n",
       "      <td>65</td>\n",
       "      <td>0.6140</td>\n",
       "      <td>0.9280</td>\n",
       "      <td>8</td>\n",
       "      <td>-4.8060</td>\n",
       "      <td>0</td>\n",
       "      <td>0.0516</td>\n",
       "      <td>0.0408</td>\n",
       "      <td>0.0010</td>\n",
       "      <td>0.0845</td>\n",
       "      <td>0.8790</td>\n",
       "      <td>172.6560</td>\n",
       "      <td>pop</td>\n",
       "    </tr>\n",
       "  </tbody>\n",
       "</table>\n",
       "</div>"
      ],
      "text/plain": [
       "           artist                    song  duration_ms  explicit  year  \\\n",
       "0  Britney Spears  Oops!...I Did It Again       211160     False  2000   \n",
       "1       blink-182    All The Small Things       167066     False  1999   \n",
       "2      Faith Hill                 Breathe       250546     False  1999   \n",
       "3        Bon Jovi            It's My Life       224493     False  2000   \n",
       "4          *NSYNC             Bye Bye Bye       200560     False  2000   \n",
       "\n",
       "   popularity  danceability  energy  key  loudness  mode  speechiness  \\\n",
       "0          77        0.7510  0.8340    1   -5.4440     0       0.0437   \n",
       "1          79        0.4340  0.8970    0   -4.9180     1       0.0488   \n",
       "2          66        0.5290  0.4960    7   -9.0070     1       0.0290   \n",
       "3          78        0.5510  0.9130    0   -4.0630     0       0.0466   \n",
       "4          65        0.6140  0.9280    8   -4.8060     0       0.0516   \n",
       "\n",
       "   acousticness  instrumentalness  liveness  valence    tempo         genre  \n",
       "0        0.3000            0.0000    0.3550   0.8940  95.0530           pop  \n",
       "1        0.0103            0.0000    0.6120   0.6840 148.7260     rock, pop  \n",
       "2        0.1730            0.0000    0.2510   0.2780 136.8590  pop, country  \n",
       "3        0.0263            0.0000    0.3470   0.5440 119.9920   rock, metal  \n",
       "4        0.0408            0.0010    0.0845   0.8790 172.6560           pop  "
      ]
     },
     "execution_count": 3,
     "metadata": {},
     "output_type": "execute_result"
    }
   ],
   "source": [
    "songs_normalize = pd.read_csv('data/songs_normalize.csv')\n",
    "songs_normalize.head()"
   ]
  },
  {
   "cell_type": "code",
   "execution_count": 4,
   "metadata": {},
   "outputs": [
    {
     "data": {
      "text/plain": [
       "(2000, 18)"
      ]
     },
     "execution_count": 4,
     "metadata": {},
     "output_type": "execute_result"
    }
   ],
   "source": [
    "songs_normalize.shape"
   ]
  },
  {
   "cell_type": "markdown",
   "metadata": {},
   "source": [
    "2000 filas y 18 columnas"
   ]
  },
  {
   "cell_type": "code",
   "execution_count": 5,
   "metadata": {},
   "outputs": [
    {
     "name": "stdout",
     "output_type": "stream",
     "text": [
      "<class 'pandas.core.frame.DataFrame'>\n",
      "RangeIndex: 2000 entries, 0 to 1999\n",
      "Data columns (total 18 columns):\n",
      " #   Column            Non-Null Count  Dtype  \n",
      "---  ------            --------------  -----  \n",
      " 0   artist            2000 non-null   object \n",
      " 1   song              2000 non-null   object \n",
      " 2   duration_ms       2000 non-null   int64  \n",
      " 3   explicit          2000 non-null   bool   \n",
      " 4   year              2000 non-null   int64  \n",
      " 5   popularity        2000 non-null   int64  \n",
      " 6   danceability      2000 non-null   float64\n",
      " 7   energy            2000 non-null   float64\n",
      " 8   key               2000 non-null   int64  \n",
      " 9   loudness          2000 non-null   float64\n",
      " 10  mode              2000 non-null   int64  \n",
      " 11  speechiness       2000 non-null   float64\n",
      " 12  acousticness      2000 non-null   float64\n",
      " 13  instrumentalness  2000 non-null   float64\n",
      " 14  liveness          2000 non-null   float64\n",
      " 15  valence           2000 non-null   float64\n",
      " 16  tempo             2000 non-null   float64\n",
      " 17  genre             2000 non-null   object \n",
      "dtypes: bool(1), float64(9), int64(5), object(3)\n",
      "memory usage: 267.7+ KB\n"
     ]
    }
   ],
   "source": [
    "songs_normalize.info()"
   ]
  },
  {
   "cell_type": "markdown",
   "metadata": {},
   "source": [
    "Podemos tratar un poco la columna `genre`, para que sea una lista de generos para cada cancion"
   ]
  },
  {
   "cell_type": "code",
   "execution_count": 6,
   "metadata": {},
   "outputs": [
    {
     "data": {
      "text/plain": [
       "0             [pop]\n",
       "1       [rock, pop]\n",
       "2    [pop, country]\n",
       "3     [rock, metal]\n",
       "4             [pop]\n",
       "Name: genre, dtype: object"
      ]
     },
     "execution_count": 6,
     "metadata": {},
     "output_type": "execute_result"
    }
   ],
   "source": [
    "songs_normalize['genre'] = songs_normalize['genre'].apply(\n",
    "  # split and then strip each genre\n",
    "  lambda x: [i.strip() for i in x.split(',')]\n",
    ")\n",
    "songs_normalize['genre'].head()"
   ]
  },
  {
   "cell_type": "markdown",
   "metadata": {},
   "source": [
    "## analisis y tratamiento de nulos"
   ]
  },
  {
   "cell_type": "code",
   "execution_count": 7,
   "metadata": {},
   "outputs": [
    {
     "name": "stdout",
     "output_type": "stream",
     "text": [
      "=== Has NaN? ===\n",
      "artist False\n",
      "song False\n",
      "duration_ms False\n",
      "explicit False\n",
      "year False\n",
      "popularity False\n",
      "danceability False\n",
      "energy False\n",
      "key False\n",
      "loudness False\n",
      "mode False\n",
      "speechiness False\n",
      "acousticness False\n",
      "instrumentalness False\n",
      "liveness False\n",
      "valence False\n",
      "tempo False\n",
      "genre False\n"
     ]
    }
   ],
   "source": [
    "print(f\"=== Has NaN? ===\")\n",
    "for col in songs_normalize.columns:\n",
    "  if col == 'genre':\n",
    "    print(col, songs_normalize[col].apply(lambda x: len(x) == 0).any())\n",
    "  else:\n",
    "    print(col, songs_normalize[col].hasnans)"
   ]
  },
  {
   "cell_type": "markdown",
   "metadata": {},
   "source": [
    "## analisis de columnas"
   ]
  },
  {
   "cell_type": "code",
   "execution_count": 8,
   "metadata": {},
   "outputs": [
    {
     "data": {
      "text/html": [
       "<div>\n",
       "<style scoped>\n",
       "    .dataframe tbody tr th:only-of-type {\n",
       "        vertical-align: middle;\n",
       "    }\n",
       "\n",
       "    .dataframe tbody tr th {\n",
       "        vertical-align: top;\n",
       "    }\n",
       "\n",
       "    .dataframe thead th {\n",
       "        text-align: right;\n",
       "    }\n",
       "</style>\n",
       "<table border=\"1\" class=\"dataframe\">\n",
       "  <thead>\n",
       "    <tr style=\"text-align: right;\">\n",
       "      <th></th>\n",
       "      <th>duration_ms</th>\n",
       "      <th>year</th>\n",
       "      <th>popularity</th>\n",
       "      <th>danceability</th>\n",
       "      <th>energy</th>\n",
       "      <th>key</th>\n",
       "      <th>loudness</th>\n",
       "      <th>mode</th>\n",
       "      <th>speechiness</th>\n",
       "      <th>acousticness</th>\n",
       "      <th>instrumentalness</th>\n",
       "      <th>liveness</th>\n",
       "      <th>valence</th>\n",
       "      <th>tempo</th>\n",
       "    </tr>\n",
       "  </thead>\n",
       "  <tbody>\n",
       "    <tr>\n",
       "      <th>count</th>\n",
       "      <td>2000.0000</td>\n",
       "      <td>2000.0000</td>\n",
       "      <td>2000.0000</td>\n",
       "      <td>2000.0000</td>\n",
       "      <td>2000.0000</td>\n",
       "      <td>2000.0000</td>\n",
       "      <td>2000.0000</td>\n",
       "      <td>2000.0000</td>\n",
       "      <td>2000.0000</td>\n",
       "      <td>2000.0000</td>\n",
       "      <td>2000.0000</td>\n",
       "      <td>2000.0000</td>\n",
       "      <td>2000.0000</td>\n",
       "      <td>2000.0000</td>\n",
       "    </tr>\n",
       "    <tr>\n",
       "      <th>mean</th>\n",
       "      <td>228748.1245</td>\n",
       "      <td>2009.4940</td>\n",
       "      <td>59.8725</td>\n",
       "      <td>0.6674</td>\n",
       "      <td>0.7204</td>\n",
       "      <td>5.3780</td>\n",
       "      <td>-5.5124</td>\n",
       "      <td>0.5535</td>\n",
       "      <td>0.1036</td>\n",
       "      <td>0.1290</td>\n",
       "      <td>0.0152</td>\n",
       "      <td>0.1812</td>\n",
       "      <td>0.5517</td>\n",
       "      <td>120.1226</td>\n",
       "    </tr>\n",
       "    <tr>\n",
       "      <th>std</th>\n",
       "      <td>39136.5690</td>\n",
       "      <td>5.8600</td>\n",
       "      <td>21.3356</td>\n",
       "      <td>0.1404</td>\n",
       "      <td>0.1527</td>\n",
       "      <td>3.6151</td>\n",
       "      <td>1.9335</td>\n",
       "      <td>0.4973</td>\n",
       "      <td>0.0962</td>\n",
       "      <td>0.1733</td>\n",
       "      <td>0.0878</td>\n",
       "      <td>0.1407</td>\n",
       "      <td>0.2209</td>\n",
       "      <td>26.9671</td>\n",
       "    </tr>\n",
       "    <tr>\n",
       "      <th>min</th>\n",
       "      <td>113000.0000</td>\n",
       "      <td>1998.0000</td>\n",
       "      <td>0.0000</td>\n",
       "      <td>0.1290</td>\n",
       "      <td>0.0549</td>\n",
       "      <td>0.0000</td>\n",
       "      <td>-20.5140</td>\n",
       "      <td>0.0000</td>\n",
       "      <td>0.0232</td>\n",
       "      <td>0.0000</td>\n",
       "      <td>0.0000</td>\n",
       "      <td>0.0215</td>\n",
       "      <td>0.0381</td>\n",
       "      <td>60.0190</td>\n",
       "    </tr>\n",
       "    <tr>\n",
       "      <th>25%</th>\n",
       "      <td>203580.0000</td>\n",
       "      <td>2004.0000</td>\n",
       "      <td>56.0000</td>\n",
       "      <td>0.5810</td>\n",
       "      <td>0.6220</td>\n",
       "      <td>2.0000</td>\n",
       "      <td>-6.4902</td>\n",
       "      <td>0.0000</td>\n",
       "      <td>0.0396</td>\n",
       "      <td>0.0140</td>\n",
       "      <td>0.0000</td>\n",
       "      <td>0.0881</td>\n",
       "      <td>0.3868</td>\n",
       "      <td>98.9857</td>\n",
       "    </tr>\n",
       "    <tr>\n",
       "      <th>50%</th>\n",
       "      <td>223279.5000</td>\n",
       "      <td>2010.0000</td>\n",
       "      <td>65.5000</td>\n",
       "      <td>0.6760</td>\n",
       "      <td>0.7360</td>\n",
       "      <td>6.0000</td>\n",
       "      <td>-5.2850</td>\n",
       "      <td>1.0000</td>\n",
       "      <td>0.0599</td>\n",
       "      <td>0.0557</td>\n",
       "      <td>0.0000</td>\n",
       "      <td>0.1240</td>\n",
       "      <td>0.5575</td>\n",
       "      <td>120.0215</td>\n",
       "    </tr>\n",
       "    <tr>\n",
       "      <th>75%</th>\n",
       "      <td>248133.0000</td>\n",
       "      <td>2015.0000</td>\n",
       "      <td>73.0000</td>\n",
       "      <td>0.7640</td>\n",
       "      <td>0.8390</td>\n",
       "      <td>8.0000</td>\n",
       "      <td>-4.1677</td>\n",
       "      <td>1.0000</td>\n",
       "      <td>0.1290</td>\n",
       "      <td>0.1762</td>\n",
       "      <td>0.0001</td>\n",
       "      <td>0.2410</td>\n",
       "      <td>0.7300</td>\n",
       "      <td>134.2655</td>\n",
       "    </tr>\n",
       "    <tr>\n",
       "      <th>max</th>\n",
       "      <td>484146.0000</td>\n",
       "      <td>2020.0000</td>\n",
       "      <td>89.0000</td>\n",
       "      <td>0.9750</td>\n",
       "      <td>0.9990</td>\n",
       "      <td>11.0000</td>\n",
       "      <td>-0.2760</td>\n",
       "      <td>1.0000</td>\n",
       "      <td>0.5760</td>\n",
       "      <td>0.9760</td>\n",
       "      <td>0.9850</td>\n",
       "      <td>0.8530</td>\n",
       "      <td>0.9730</td>\n",
       "      <td>210.8510</td>\n",
       "    </tr>\n",
       "  </tbody>\n",
       "</table>\n",
       "</div>"
      ],
      "text/plain": [
       "       duration_ms      year  popularity  danceability    energy       key  \\\n",
       "count    2000.0000 2000.0000   2000.0000     2000.0000 2000.0000 2000.0000   \n",
       "mean   228748.1245 2009.4940     59.8725        0.6674    0.7204    5.3780   \n",
       "std     39136.5690    5.8600     21.3356        0.1404    0.1527    3.6151   \n",
       "min    113000.0000 1998.0000      0.0000        0.1290    0.0549    0.0000   \n",
       "25%    203580.0000 2004.0000     56.0000        0.5810    0.6220    2.0000   \n",
       "50%    223279.5000 2010.0000     65.5000        0.6760    0.7360    6.0000   \n",
       "75%    248133.0000 2015.0000     73.0000        0.7640    0.8390    8.0000   \n",
       "max    484146.0000 2020.0000     89.0000        0.9750    0.9990   11.0000   \n",
       "\n",
       "       loudness      mode  speechiness  acousticness  instrumentalness  \\\n",
       "count 2000.0000 2000.0000    2000.0000     2000.0000         2000.0000   \n",
       "mean    -5.5124    0.5535       0.1036        0.1290            0.0152   \n",
       "std      1.9335    0.4973       0.0962        0.1733            0.0878   \n",
       "min    -20.5140    0.0000       0.0232        0.0000            0.0000   \n",
       "25%     -6.4902    0.0000       0.0396        0.0140            0.0000   \n",
       "50%     -5.2850    1.0000       0.0599        0.0557            0.0000   \n",
       "75%     -4.1677    1.0000       0.1290        0.1762            0.0001   \n",
       "max     -0.2760    1.0000       0.5760        0.9760            0.9850   \n",
       "\n",
       "       liveness   valence     tempo  \n",
       "count 2000.0000 2000.0000 2000.0000  \n",
       "mean     0.1812    0.5517  120.1226  \n",
       "std      0.1407    0.2209   26.9671  \n",
       "min      0.0215    0.0381   60.0190  \n",
       "25%      0.0881    0.3868   98.9857  \n",
       "50%      0.1240    0.5575  120.0215  \n",
       "75%      0.2410    0.7300  134.2655  \n",
       "max      0.8530    0.9730  210.8510  "
      ]
     },
     "execution_count": 8,
     "metadata": {},
     "output_type": "execute_result"
    }
   ],
   "source": [
    "songs_normalize.describe()"
   ]
  },
  {
   "cell_type": "code",
   "execution_count": 9,
   "metadata": {},
   "outputs": [
    {
     "name": "stdout",
     "output_type": "stream",
     "text": [
      "<class 'pandas.core.frame.DataFrame'>\n",
      "RangeIndex: 2000 entries, 0 to 1999\n",
      "Data columns (total 18 columns):\n",
      " #   Column            Non-Null Count  Dtype  \n",
      "---  ------            --------------  -----  \n",
      " 0   artist            2000 non-null   object \n",
      " 1   song              2000 non-null   object \n",
      " 2   duration_ms       2000 non-null   int64  \n",
      " 3   explicit          2000 non-null   bool   \n",
      " 4   year              2000 non-null   int64  \n",
      " 5   popularity        2000 non-null   int64  \n",
      " 6   danceability      2000 non-null   float64\n",
      " 7   energy            2000 non-null   float64\n",
      " 8   key               2000 non-null   int64  \n",
      " 9   loudness          2000 non-null   float64\n",
      " 10  mode              2000 non-null   int64  \n",
      " 11  speechiness       2000 non-null   float64\n",
      " 12  acousticness      2000 non-null   float64\n",
      " 13  instrumentalness  2000 non-null   float64\n",
      " 14  liveness          2000 non-null   float64\n",
      " 15  valence           2000 non-null   float64\n",
      " 16  tempo             2000 non-null   float64\n",
      " 17  genre             2000 non-null   object \n",
      "dtypes: bool(1), float64(9), int64(5), object(3)\n",
      "memory usage: 267.7+ KB\n"
     ]
    }
   ],
   "source": [
    "songs_normalize.info()"
   ]
  },
  {
   "cell_type": "code",
   "execution_count": 10,
   "metadata": {},
   "outputs": [
    {
     "data": {
      "text/plain": [
       "explicit\n",
       "False    1449\n",
       "True      551\n",
       "Name: count, dtype: int64"
      ]
     },
     "execution_count": 10,
     "metadata": {},
     "output_type": "execute_result"
    }
   ],
   "source": [
    "songs_normalize['explicit'].value_counts()"
   ]
  },
  {
   "cell_type": "code",
   "execution_count": 11,
   "metadata": {},
   "outputs": [
    {
     "data": {
      "text/plain": [
       "year\n",
       "1998      1\n",
       "1999     38\n",
       "2000     74\n",
       "2001    108\n",
       "2002     90\n",
       "2003     97\n",
       "2004     96\n",
       "2005    104\n",
       "2006     95\n",
       "2007     94\n",
       "2008     97\n",
       "2009     84\n",
       "2010    107\n",
       "2011     99\n",
       "2012    115\n",
       "2013     89\n",
       "2014    104\n",
       "2015     99\n",
       "2016     99\n",
       "2017    111\n",
       "2018    107\n",
       "2019     89\n",
       "2020      3\n",
       "Name: count, dtype: int64"
      ]
     },
     "execution_count": 11,
     "metadata": {},
     "output_type": "execute_result"
    }
   ],
   "source": [
    "songs_normalize['year'].value_counts().sort_index()"
   ]
  },
  {
   "cell_type": "markdown",
   "metadata": {},
   "source": [
    "Tenemos un buen balance de canciones que salieron en los 2000 - 2019, pero fuera de ese rango existe una cantidad significativa de canciones."
   ]
  },
  {
   "cell_type": "code",
   "execution_count": 12,
   "metadata": {},
   "outputs": [
    {
     "data": {
      "text/html": [
       "<div>\n",
       "<style scoped>\n",
       "    .dataframe tbody tr th:only-of-type {\n",
       "        vertical-align: middle;\n",
       "    }\n",
       "\n",
       "    .dataframe tbody tr th {\n",
       "        vertical-align: top;\n",
       "    }\n",
       "\n",
       "    .dataframe thead th {\n",
       "        text-align: right;\n",
       "    }\n",
       "</style>\n",
       "<table border=\"1\" class=\"dataframe\">\n",
       "  <thead>\n",
       "    <tr style=\"text-align: right;\">\n",
       "      <th></th>\n",
       "      <th>count</th>\n",
       "    </tr>\n",
       "  </thead>\n",
       "  <tbody>\n",
       "    <tr>\n",
       "      <th>pop</th>\n",
       "      <td>1633</td>\n",
       "    </tr>\n",
       "    <tr>\n",
       "      <th>hip hop</th>\n",
       "      <td>778</td>\n",
       "    </tr>\n",
       "    <tr>\n",
       "      <th>R&amp;B</th>\n",
       "      <td>452</td>\n",
       "    </tr>\n",
       "    <tr>\n",
       "      <th>Dance/Electronic</th>\n",
       "      <td>390</td>\n",
       "    </tr>\n",
       "    <tr>\n",
       "      <th>rock</th>\n",
       "      <td>234</td>\n",
       "    </tr>\n",
       "  </tbody>\n",
       "</table>\n",
       "</div>"
      ],
      "text/plain": [
       "                  count\n",
       "pop                1633\n",
       "hip hop             778\n",
       "R&B                 452\n",
       "Dance/Electronic    390\n",
       "rock                234"
      ]
     },
     "execution_count": 12,
     "metadata": {},
     "output_type": "execute_result"
    }
   ],
   "source": [
    "# obtain the genres\n",
    "songs_normalize_genres = dict()\n",
    "for genre_list in songs_normalize['genre']:\n",
    "  for genre in genre_list:\n",
    "    if genre not in songs_normalize_genres:\n",
    "      songs_normalize_genres[genre] = 0\n",
    "    songs_normalize_genres[genre] += 1\n",
    "\n",
    "songs_normalize_genres = pd.DataFrame.from_dict(songs_normalize_genres, orient='index', columns=['count'])\n",
    "songs_normalize_genres.sort_values(by='count', ascending=False, inplace=True)\n",
    "songs_normalize_genres.head()"
   ]
  },
  {
   "cell_type": "code",
   "execution_count": 13,
   "metadata": {},
   "outputs": [
    {
     "data": {
      "text/plain": [
       "(15, 1)"
      ]
     },
     "execution_count": 13,
     "metadata": {},
     "output_type": "execute_result"
    }
   ],
   "source": [
    "songs_normalize_genres.shape"
   ]
  },
  {
   "cell_type": "markdown",
   "metadata": {},
   "source": [
    "Solamente hay 15 generos"
   ]
  },
  {
   "cell_type": "markdown",
   "metadata": {},
   "source": [
    "# charts.csv\n",
    "\n",
    "`charts.csv` es [un dataset de kaggle](https://www.kaggle.com/datasets/dhruvildave/spotify-charts) que compila las colecciones \"Top 200\" y \"50 virales\" desde 2017 al 2021. Estas colecciones se publican globalmente cada 2-3 dias, dando informacion valiosa historica y alto valor de analisis."
   ]
  },
  {
   "cell_type": "markdown",
   "metadata": {},
   "source": [
    "## carga y modificaciones iniciales"
   ]
  },
  {
   "cell_type": "code",
   "execution_count": 14,
   "metadata": {},
   "outputs": [
    {
     "data": {
      "text/html": [
       "<div>\n",
       "<style scoped>\n",
       "    .dataframe tbody tr th:only-of-type {\n",
       "        vertical-align: middle;\n",
       "    }\n",
       "\n",
       "    .dataframe tbody tr th {\n",
       "        vertical-align: top;\n",
       "    }\n",
       "\n",
       "    .dataframe thead th {\n",
       "        text-align: right;\n",
       "    }\n",
       "</style>\n",
       "<table border=\"1\" class=\"dataframe\">\n",
       "  <thead>\n",
       "    <tr style=\"text-align: right;\">\n",
       "      <th></th>\n",
       "      <th>title</th>\n",
       "      <th>rank</th>\n",
       "      <th>date</th>\n",
       "      <th>artist</th>\n",
       "      <th>url</th>\n",
       "      <th>region</th>\n",
       "      <th>chart</th>\n",
       "      <th>trend</th>\n",
       "      <th>streams</th>\n",
       "    </tr>\n",
       "  </thead>\n",
       "  <tbody>\n",
       "    <tr>\n",
       "      <th>0</th>\n",
       "      <td>Chantaje (feat. Maluma)</td>\n",
       "      <td>1</td>\n",
       "      <td>2017-01-01</td>\n",
       "      <td>Shakira</td>\n",
       "      <td>https://open.spotify.com/track/6mICuAdrwEjh6Y6lroV2Kg</td>\n",
       "      <td>Argentina</td>\n",
       "      <td>top200</td>\n",
       "      <td>SAME_POSITION</td>\n",
       "      <td>253019.0000</td>\n",
       "    </tr>\n",
       "    <tr>\n",
       "      <th>1</th>\n",
       "      <td>Vente Pa' Ca (feat. Maluma)</td>\n",
       "      <td>2</td>\n",
       "      <td>2017-01-01</td>\n",
       "      <td>Ricky Martin</td>\n",
       "      <td>https://open.spotify.com/track/7DM4BPaS7uofFul3ywMe46</td>\n",
       "      <td>Argentina</td>\n",
       "      <td>top200</td>\n",
       "      <td>MOVE_UP</td>\n",
       "      <td>223988.0000</td>\n",
       "    </tr>\n",
       "    <tr>\n",
       "      <th>2</th>\n",
       "      <td>Reggaetón Lento (Bailemos)</td>\n",
       "      <td>3</td>\n",
       "      <td>2017-01-01</td>\n",
       "      <td>CNCO</td>\n",
       "      <td>https://open.spotify.com/track/3AEZUABDXNtecAOSC1qTfo</td>\n",
       "      <td>Argentina</td>\n",
       "      <td>top200</td>\n",
       "      <td>MOVE_DOWN</td>\n",
       "      <td>210943.0000</td>\n",
       "    </tr>\n",
       "    <tr>\n",
       "      <th>3</th>\n",
       "      <td>Safari</td>\n",
       "      <td>4</td>\n",
       "      <td>2017-01-01</td>\n",
       "      <td>J Balvin, Pharrell Williams, BIA, Sky</td>\n",
       "      <td>https://open.spotify.com/track/6rQSrBHf7HlZjtcMZ4S4bO</td>\n",
       "      <td>Argentina</td>\n",
       "      <td>top200</td>\n",
       "      <td>SAME_POSITION</td>\n",
       "      <td>173865.0000</td>\n",
       "    </tr>\n",
       "    <tr>\n",
       "      <th>4</th>\n",
       "      <td>Shaky Shaky</td>\n",
       "      <td>5</td>\n",
       "      <td>2017-01-01</td>\n",
       "      <td>Daddy Yankee</td>\n",
       "      <td>https://open.spotify.com/track/58IL315gMSTD37DOZPJ2hf</td>\n",
       "      <td>Argentina</td>\n",
       "      <td>top200</td>\n",
       "      <td>MOVE_UP</td>\n",
       "      <td>153956.0000</td>\n",
       "    </tr>\n",
       "  </tbody>\n",
       "</table>\n",
       "</div>"
      ],
      "text/plain": [
       "                         title  rank        date  \\\n",
       "0      Chantaje (feat. Maluma)     1  2017-01-01   \n",
       "1  Vente Pa' Ca (feat. Maluma)     2  2017-01-01   \n",
       "2   Reggaetón Lento (Bailemos)     3  2017-01-01   \n",
       "3                       Safari     4  2017-01-01   \n",
       "4                  Shaky Shaky     5  2017-01-01   \n",
       "\n",
       "                                  artist  \\\n",
       "0                                Shakira   \n",
       "1                           Ricky Martin   \n",
       "2                                   CNCO   \n",
       "3  J Balvin, Pharrell Williams, BIA, Sky   \n",
       "4                           Daddy Yankee   \n",
       "\n",
       "                                                     url     region   chart  \\\n",
       "0  https://open.spotify.com/track/6mICuAdrwEjh6Y6lroV2Kg  Argentina  top200   \n",
       "1  https://open.spotify.com/track/7DM4BPaS7uofFul3ywMe46  Argentina  top200   \n",
       "2  https://open.spotify.com/track/3AEZUABDXNtecAOSC1qTfo  Argentina  top200   \n",
       "3  https://open.spotify.com/track/6rQSrBHf7HlZjtcMZ4S4bO  Argentina  top200   \n",
       "4  https://open.spotify.com/track/58IL315gMSTD37DOZPJ2hf  Argentina  top200   \n",
       "\n",
       "           trend     streams  \n",
       "0  SAME_POSITION 253019.0000  \n",
       "1        MOVE_UP 223988.0000  \n",
       "2      MOVE_DOWN 210943.0000  \n",
       "3  SAME_POSITION 173865.0000  \n",
       "4        MOVE_UP 153956.0000  "
      ]
     },
     "execution_count": 14,
     "metadata": {},
     "output_type": "execute_result"
    }
   ],
   "source": [
    "charts = pd.read_csv('data/charts.csv')\n",
    "charts.head()"
   ]
  },
  {
   "cell_type": "code",
   "execution_count": 15,
   "metadata": {},
   "outputs": [
    {
     "data": {
      "text/plain": [
       "(26173514, 9)"
      ]
     },
     "execution_count": 15,
     "metadata": {},
     "output_type": "execute_result"
    }
   ],
   "source": [
    "charts.shape"
   ]
  },
  {
   "cell_type": "markdown",
   "metadata": {},
   "source": [
    "26.173.541 filas y 9 columnas"
   ]
  },
  {
   "cell_type": "code",
   "execution_count": 16,
   "metadata": {},
   "outputs": [
    {
     "name": "stdout",
     "output_type": "stream",
     "text": [
      "<class 'pandas.core.frame.DataFrame'>\n",
      "RangeIndex: 26173514 entries, 0 to 26173513\n",
      "Data columns (total 9 columns):\n",
      " #   Column   Dtype  \n",
      "---  ------   -----  \n",
      " 0   title    object \n",
      " 1   rank     int64  \n",
      " 2   date     object \n",
      " 3   artist   object \n",
      " 4   url      object \n",
      " 5   region   object \n",
      " 6   chart    object \n",
      " 7   trend    object \n",
      " 8   streams  float64\n",
      "dtypes: float64(1), int64(1), object(7)\n",
      "memory usage: 1.8+ GB\n"
     ]
    }
   ],
   "source": [
    "charts.info()"
   ]
  },
  {
   "cell_type": "markdown",
   "metadata": {},
   "source": [
    "Inicialmente notemos que hay columnas que podemos expresar como de tipo fechas y otras declarar como columnas categoricas."
   ]
  },
  {
   "cell_type": "code",
   "execution_count": 17,
   "metadata": {},
   "outputs": [],
   "source": [
    "charts['date'] = pd.to_datetime(charts['date'])\n",
    "charts['region'] = charts['region'].astype('category')\n",
    "charts['chart'] = charts['chart'].astype('category')\n",
    "charts['trend'] = charts['trend'].astype('category')"
   ]
  },
  {
   "cell_type": "code",
   "execution_count": 18,
   "metadata": {},
   "outputs": [
    {
     "name": "stdout",
     "output_type": "stream",
     "text": [
      "<class 'pandas.core.frame.DataFrame'>\n",
      "RangeIndex: 26173514 entries, 0 to 26173513\n",
      "Data columns (total 9 columns):\n",
      " #   Column   Dtype         \n",
      "---  ------   -----         \n",
      " 0   title    object        \n",
      " 1   rank     int64         \n",
      " 2   date     datetime64[ns]\n",
      " 3   artist   object        \n",
      " 4   url      object        \n",
      " 5   region   category      \n",
      " 6   chart    category      \n",
      " 7   trend    category      \n",
      " 8   streams  float64       \n",
      "dtypes: category(3), datetime64[ns](1), float64(1), int64(1), object(3)\n",
      "memory usage: 1.2+ GB\n"
     ]
    }
   ],
   "source": [
    "charts.info()"
   ]
  },
  {
   "cell_type": "markdown",
   "metadata": {},
   "source": [
    "## analisis y tratamiento de nulos"
   ]
  },
  {
   "cell_type": "code",
   "execution_count": 19,
   "metadata": {},
   "outputs": [
    {
     "name": "stdout",
     "output_type": "stream",
     "text": [
      "=== Has NaN? ===\n",
      "title True\n",
      "rank False\n",
      "date False\n",
      "artist True\n",
      "url False\n",
      "region False\n",
      "chart False\n",
      "trend False\n",
      "streams True\n"
     ]
    }
   ],
   "source": [
    "print(f\"=== Has NaN? ===\")\n",
    "for col in charts.columns:\n",
    "  print(col, charts[col].hasnans)"
   ]
  },
  {
   "cell_type": "code",
   "execution_count": 20,
   "metadata": {},
   "outputs": [
    {
     "data": {
      "text/plain": [
       "True"
      ]
     },
     "execution_count": 20,
     "metadata": {},
     "output_type": "execute_result"
    }
   ],
   "source": [
    "charts['title'].hasnans"
   ]
  },
  {
   "cell_type": "markdown",
   "metadata": {},
   "source": [
    "`title` tiene valores faltantes, veamos cuantos son"
   ]
  },
  {
   "cell_type": "code",
   "execution_count": 21,
   "metadata": {},
   "outputs": [
    {
     "data": {
      "text/plain": [
       "(11, 9)"
      ]
     },
     "execution_count": 21,
     "metadata": {},
     "output_type": "execute_result"
    }
   ],
   "source": [
    "charts[charts['title'].isna()].shape"
   ]
  },
  {
   "cell_type": "markdown",
   "metadata": {},
   "source": [
    "solamente 11 filas con titulo de cancion faltante veamos cuales son"
   ]
  },
  {
   "cell_type": "code",
   "execution_count": 22,
   "metadata": {},
   "outputs": [
    {
     "data": {
      "text/html": [
       "<div>\n",
       "<style scoped>\n",
       "    .dataframe tbody tr th:only-of-type {\n",
       "        vertical-align: middle;\n",
       "    }\n",
       "\n",
       "    .dataframe tbody tr th {\n",
       "        vertical-align: top;\n",
       "    }\n",
       "\n",
       "    .dataframe thead th {\n",
       "        text-align: right;\n",
       "    }\n",
       "</style>\n",
       "<table border=\"1\" class=\"dataframe\">\n",
       "  <thead>\n",
       "    <tr style=\"text-align: right;\">\n",
       "      <th></th>\n",
       "      <th>title</th>\n",
       "      <th>rank</th>\n",
       "      <th>date</th>\n",
       "      <th>artist</th>\n",
       "      <th>url</th>\n",
       "      <th>region</th>\n",
       "      <th>chart</th>\n",
       "      <th>trend</th>\n",
       "      <th>streams</th>\n",
       "    </tr>\n",
       "  </thead>\n",
       "  <tbody>\n",
       "    <tr>\n",
       "      <th>7305002</th>\n",
       "      <td>NaN</td>\n",
       "      <td>120</td>\n",
       "      <td>2019-06-24</td>\n",
       "      <td>Nissy</td>\n",
       "      <td>https://open.spotify.com/track/4cP6KmNvTFkLHZo6fVJq0c</td>\n",
       "      <td>Japan</td>\n",
       "      <td>top200</td>\n",
       "      <td>NEW_ENTRY</td>\n",
       "      <td>11942.0000</td>\n",
       "    </tr>\n",
       "    <tr>\n",
       "      <th>7401555</th>\n",
       "      <td>NaN</td>\n",
       "      <td>167</td>\n",
       "      <td>2019-06-25</td>\n",
       "      <td>Nissy</td>\n",
       "      <td>https://open.spotify.com/track/4cP6KmNvTFkLHZo6fVJq0c</td>\n",
       "      <td>Japan</td>\n",
       "      <td>top200</td>\n",
       "      <td>MOVE_DOWN</td>\n",
       "      <td>10310.0000</td>\n",
       "    </tr>\n",
       "    <tr>\n",
       "      <th>7479161</th>\n",
       "      <td>NaN</td>\n",
       "      <td>128</td>\n",
       "      <td>2019-06-26</td>\n",
       "      <td>Nissy</td>\n",
       "      <td>https://open.spotify.com/track/4cP6KmNvTFkLHZo6fVJq0c</td>\n",
       "      <td>Japan</td>\n",
       "      <td>top200</td>\n",
       "      <td>MOVE_UP</td>\n",
       "      <td>11620.0000</td>\n",
       "    </tr>\n",
       "    <tr>\n",
       "      <th>7563494</th>\n",
       "      <td>NaN</td>\n",
       "      <td>164</td>\n",
       "      <td>2019-06-27</td>\n",
       "      <td>Nissy</td>\n",
       "      <td>https://open.spotify.com/track/4cP6KmNvTFkLHZo6fVJq0c</td>\n",
       "      <td>Japan</td>\n",
       "      <td>top200</td>\n",
       "      <td>MOVE_DOWN</td>\n",
       "      <td>10229.0000</td>\n",
       "    </tr>\n",
       "    <tr>\n",
       "      <th>7670140</th>\n",
       "      <td>NaN</td>\n",
       "      <td>174</td>\n",
       "      <td>2019-06-28</td>\n",
       "      <td>Nissy</td>\n",
       "      <td>https://open.spotify.com/track/4cP6KmNvTFkLHZo6fVJq0c</td>\n",
       "      <td>Japan</td>\n",
       "      <td>top200</td>\n",
       "      <td>MOVE_DOWN</td>\n",
       "      <td>9348.0000</td>\n",
       "    </tr>\n",
       "    <tr>\n",
       "      <th>7772268</th>\n",
       "      <td>NaN</td>\n",
       "      <td>188</td>\n",
       "      <td>2019-06-29</td>\n",
       "      <td>Nissy</td>\n",
       "      <td>https://open.spotify.com/track/4cP6KmNvTFkLHZo6fVJq0c</td>\n",
       "      <td>Japan</td>\n",
       "      <td>top200</td>\n",
       "      <td>MOVE_DOWN</td>\n",
       "      <td>9808.0000</td>\n",
       "    </tr>\n",
       "    <tr>\n",
       "      <th>7879888</th>\n",
       "      <td>NaN</td>\n",
       "      <td>169</td>\n",
       "      <td>2019-06-30</td>\n",
       "      <td>Nissy</td>\n",
       "      <td>https://open.spotify.com/track/4cP6KmNvTFkLHZo6fVJq0c</td>\n",
       "      <td>Japan</td>\n",
       "      <td>top200</td>\n",
       "      <td>MOVE_UP</td>\n",
       "      <td>10900.0000</td>\n",
       "    </tr>\n",
       "    <tr>\n",
       "      <th>14391788</th>\n",
       "      <td>NaN</td>\n",
       "      <td>38</td>\n",
       "      <td>2019-07-15</td>\n",
       "      <td>Nissy</td>\n",
       "      <td>https://open.spotify.com/track/4cP6KmNvTFkLHZo6fVJq0c</td>\n",
       "      <td>Japan</td>\n",
       "      <td>viral50</td>\n",
       "      <td>NEW_ENTRY</td>\n",
       "      <td>NaN</td>\n",
       "    </tr>\n",
       "    <tr>\n",
       "      <th>14481594</th>\n",
       "      <td>NaN</td>\n",
       "      <td>48</td>\n",
       "      <td>2019-07-16</td>\n",
       "      <td>Nissy</td>\n",
       "      <td>https://open.spotify.com/track/4cP6KmNvTFkLHZo6fVJq0c</td>\n",
       "      <td>Japan</td>\n",
       "      <td>viral50</td>\n",
       "      <td>MOVE_DOWN</td>\n",
       "      <td>NaN</td>\n",
       "    </tr>\n",
       "    <tr>\n",
       "      <th>14768101</th>\n",
       "      <td>NaN</td>\n",
       "      <td>46</td>\n",
       "      <td>2019-07-17</td>\n",
       "      <td>Nissy</td>\n",
       "      <td>https://open.spotify.com/track/4cP6KmNvTFkLHZo6fVJq0c</td>\n",
       "      <td>Japan</td>\n",
       "      <td>viral50</td>\n",
       "      <td>MOVE_UP</td>\n",
       "      <td>NaN</td>\n",
       "    </tr>\n",
       "    <tr>\n",
       "      <th>14773425</th>\n",
       "      <td>NaN</td>\n",
       "      <td>48</td>\n",
       "      <td>2019-07-18</td>\n",
       "      <td>Nissy</td>\n",
       "      <td>https://open.spotify.com/track/4cP6KmNvTFkLHZo6fVJq0c</td>\n",
       "      <td>Japan</td>\n",
       "      <td>viral50</td>\n",
       "      <td>MOVE_DOWN</td>\n",
       "      <td>NaN</td>\n",
       "    </tr>\n",
       "  </tbody>\n",
       "</table>\n",
       "</div>"
      ],
      "text/plain": [
       "         title  rank       date artist  \\\n",
       "7305002    NaN   120 2019-06-24  Nissy   \n",
       "7401555    NaN   167 2019-06-25  Nissy   \n",
       "7479161    NaN   128 2019-06-26  Nissy   \n",
       "7563494    NaN   164 2019-06-27  Nissy   \n",
       "7670140    NaN   174 2019-06-28  Nissy   \n",
       "7772268    NaN   188 2019-06-29  Nissy   \n",
       "7879888    NaN   169 2019-06-30  Nissy   \n",
       "14391788   NaN    38 2019-07-15  Nissy   \n",
       "14481594   NaN    48 2019-07-16  Nissy   \n",
       "14768101   NaN    46 2019-07-17  Nissy   \n",
       "14773425   NaN    48 2019-07-18  Nissy   \n",
       "\n",
       "                                                            url region  \\\n",
       "7305002   https://open.spotify.com/track/4cP6KmNvTFkLHZo6fVJq0c  Japan   \n",
       "7401555   https://open.spotify.com/track/4cP6KmNvTFkLHZo6fVJq0c  Japan   \n",
       "7479161   https://open.spotify.com/track/4cP6KmNvTFkLHZo6fVJq0c  Japan   \n",
       "7563494   https://open.spotify.com/track/4cP6KmNvTFkLHZo6fVJq0c  Japan   \n",
       "7670140   https://open.spotify.com/track/4cP6KmNvTFkLHZo6fVJq0c  Japan   \n",
       "7772268   https://open.spotify.com/track/4cP6KmNvTFkLHZo6fVJq0c  Japan   \n",
       "7879888   https://open.spotify.com/track/4cP6KmNvTFkLHZo6fVJq0c  Japan   \n",
       "14391788  https://open.spotify.com/track/4cP6KmNvTFkLHZo6fVJq0c  Japan   \n",
       "14481594  https://open.spotify.com/track/4cP6KmNvTFkLHZo6fVJq0c  Japan   \n",
       "14768101  https://open.spotify.com/track/4cP6KmNvTFkLHZo6fVJq0c  Japan   \n",
       "14773425  https://open.spotify.com/track/4cP6KmNvTFkLHZo6fVJq0c  Japan   \n",
       "\n",
       "            chart      trend    streams  \n",
       "7305002    top200  NEW_ENTRY 11942.0000  \n",
       "7401555    top200  MOVE_DOWN 10310.0000  \n",
       "7479161    top200    MOVE_UP 11620.0000  \n",
       "7563494    top200  MOVE_DOWN 10229.0000  \n",
       "7670140    top200  MOVE_DOWN  9348.0000  \n",
       "7772268    top200  MOVE_DOWN  9808.0000  \n",
       "7879888    top200    MOVE_UP 10900.0000  \n",
       "14391788  viral50  NEW_ENTRY        NaN  \n",
       "14481594  viral50  MOVE_DOWN        NaN  \n",
       "14768101  viral50    MOVE_UP        NaN  \n",
       "14773425  viral50  MOVE_DOWN        NaN  "
      ]
     },
     "execution_count": 22,
     "metadata": {},
     "output_type": "execute_result"
    }
   ],
   "source": [
    "charts[charts['title'].isna()]"
   ]
  },
  {
   "cell_type": "markdown",
   "metadata": {},
   "source": [
    "Accediendo a la url y al artista por internet, podemos encontrar que existe una cancion llamada \"NA\", probablemente ocurrio algun error al ser cargadas. Podemos arreglarlo facilmente."
   ]
  },
  {
   "cell_type": "code",
   "execution_count": 23,
   "metadata": {},
   "outputs": [],
   "source": [
    "# fix the title \"NA\"\n",
    "charts.loc[charts['title'].isna(), 'title'] = 'NA'"
   ]
  },
  {
   "cell_type": "code",
   "execution_count": 24,
   "metadata": {},
   "outputs": [
    {
     "data": {
      "text/plain": [
       "(0, 9)"
      ]
     },
     "execution_count": 24,
     "metadata": {},
     "output_type": "execute_result"
    }
   ],
   "source": [
    "charts[charts['title'].isna()].shape"
   ]
  },
  {
   "cell_type": "code",
   "execution_count": 25,
   "metadata": {},
   "outputs": [
    {
     "data": {
      "text/html": [
       "<div>\n",
       "<style scoped>\n",
       "    .dataframe tbody tr th:only-of-type {\n",
       "        vertical-align: middle;\n",
       "    }\n",
       "\n",
       "    .dataframe tbody tr th {\n",
       "        vertical-align: top;\n",
       "    }\n",
       "\n",
       "    .dataframe thead th {\n",
       "        text-align: right;\n",
       "    }\n",
       "</style>\n",
       "<table border=\"1\" class=\"dataframe\">\n",
       "  <thead>\n",
       "    <tr style=\"text-align: right;\">\n",
       "      <th></th>\n",
       "      <th>title</th>\n",
       "      <th>rank</th>\n",
       "      <th>date</th>\n",
       "      <th>artist</th>\n",
       "      <th>url</th>\n",
       "      <th>region</th>\n",
       "      <th>chart</th>\n",
       "      <th>trend</th>\n",
       "      <th>streams</th>\n",
       "    </tr>\n",
       "  </thead>\n",
       "  <tbody>\n",
       "    <tr>\n",
       "      <th>7305002</th>\n",
       "      <td>NA</td>\n",
       "      <td>120</td>\n",
       "      <td>2019-06-24</td>\n",
       "      <td>Nissy</td>\n",
       "      <td>https://open.spotify.com/track/4cP6KmNvTFkLHZo6fVJq0c</td>\n",
       "      <td>Japan</td>\n",
       "      <td>top200</td>\n",
       "      <td>NEW_ENTRY</td>\n",
       "      <td>11942.0000</td>\n",
       "    </tr>\n",
       "    <tr>\n",
       "      <th>7401555</th>\n",
       "      <td>NA</td>\n",
       "      <td>167</td>\n",
       "      <td>2019-06-25</td>\n",
       "      <td>Nissy</td>\n",
       "      <td>https://open.spotify.com/track/4cP6KmNvTFkLHZo6fVJq0c</td>\n",
       "      <td>Japan</td>\n",
       "      <td>top200</td>\n",
       "      <td>MOVE_DOWN</td>\n",
       "      <td>10310.0000</td>\n",
       "    </tr>\n",
       "    <tr>\n",
       "      <th>7479161</th>\n",
       "      <td>NA</td>\n",
       "      <td>128</td>\n",
       "      <td>2019-06-26</td>\n",
       "      <td>Nissy</td>\n",
       "      <td>https://open.spotify.com/track/4cP6KmNvTFkLHZo6fVJq0c</td>\n",
       "      <td>Japan</td>\n",
       "      <td>top200</td>\n",
       "      <td>MOVE_UP</td>\n",
       "      <td>11620.0000</td>\n",
       "    </tr>\n",
       "    <tr>\n",
       "      <th>7563494</th>\n",
       "      <td>NA</td>\n",
       "      <td>164</td>\n",
       "      <td>2019-06-27</td>\n",
       "      <td>Nissy</td>\n",
       "      <td>https://open.spotify.com/track/4cP6KmNvTFkLHZo6fVJq0c</td>\n",
       "      <td>Japan</td>\n",
       "      <td>top200</td>\n",
       "      <td>MOVE_DOWN</td>\n",
       "      <td>10229.0000</td>\n",
       "    </tr>\n",
       "    <tr>\n",
       "      <th>7670140</th>\n",
       "      <td>NA</td>\n",
       "      <td>174</td>\n",
       "      <td>2019-06-28</td>\n",
       "      <td>Nissy</td>\n",
       "      <td>https://open.spotify.com/track/4cP6KmNvTFkLHZo6fVJq0c</td>\n",
       "      <td>Japan</td>\n",
       "      <td>top200</td>\n",
       "      <td>MOVE_DOWN</td>\n",
       "      <td>9348.0000</td>\n",
       "    </tr>\n",
       "    <tr>\n",
       "      <th>7772268</th>\n",
       "      <td>NA</td>\n",
       "      <td>188</td>\n",
       "      <td>2019-06-29</td>\n",
       "      <td>Nissy</td>\n",
       "      <td>https://open.spotify.com/track/4cP6KmNvTFkLHZo6fVJq0c</td>\n",
       "      <td>Japan</td>\n",
       "      <td>top200</td>\n",
       "      <td>MOVE_DOWN</td>\n",
       "      <td>9808.0000</td>\n",
       "    </tr>\n",
       "    <tr>\n",
       "      <th>7879888</th>\n",
       "      <td>NA</td>\n",
       "      <td>169</td>\n",
       "      <td>2019-06-30</td>\n",
       "      <td>Nissy</td>\n",
       "      <td>https://open.spotify.com/track/4cP6KmNvTFkLHZo6fVJq0c</td>\n",
       "      <td>Japan</td>\n",
       "      <td>top200</td>\n",
       "      <td>MOVE_UP</td>\n",
       "      <td>10900.0000</td>\n",
       "    </tr>\n",
       "    <tr>\n",
       "      <th>14391788</th>\n",
       "      <td>NA</td>\n",
       "      <td>38</td>\n",
       "      <td>2019-07-15</td>\n",
       "      <td>Nissy</td>\n",
       "      <td>https://open.spotify.com/track/4cP6KmNvTFkLHZo6fVJq0c</td>\n",
       "      <td>Japan</td>\n",
       "      <td>viral50</td>\n",
       "      <td>NEW_ENTRY</td>\n",
       "      <td>NaN</td>\n",
       "    </tr>\n",
       "    <tr>\n",
       "      <th>14481594</th>\n",
       "      <td>NA</td>\n",
       "      <td>48</td>\n",
       "      <td>2019-07-16</td>\n",
       "      <td>Nissy</td>\n",
       "      <td>https://open.spotify.com/track/4cP6KmNvTFkLHZo6fVJq0c</td>\n",
       "      <td>Japan</td>\n",
       "      <td>viral50</td>\n",
       "      <td>MOVE_DOWN</td>\n",
       "      <td>NaN</td>\n",
       "    </tr>\n",
       "    <tr>\n",
       "      <th>14768101</th>\n",
       "      <td>NA</td>\n",
       "      <td>46</td>\n",
       "      <td>2019-07-17</td>\n",
       "      <td>Nissy</td>\n",
       "      <td>https://open.spotify.com/track/4cP6KmNvTFkLHZo6fVJq0c</td>\n",
       "      <td>Japan</td>\n",
       "      <td>viral50</td>\n",
       "      <td>MOVE_UP</td>\n",
       "      <td>NaN</td>\n",
       "    </tr>\n",
       "    <tr>\n",
       "      <th>14773425</th>\n",
       "      <td>NA</td>\n",
       "      <td>48</td>\n",
       "      <td>2019-07-18</td>\n",
       "      <td>Nissy</td>\n",
       "      <td>https://open.spotify.com/track/4cP6KmNvTFkLHZo6fVJq0c</td>\n",
       "      <td>Japan</td>\n",
       "      <td>viral50</td>\n",
       "      <td>MOVE_DOWN</td>\n",
       "      <td>NaN</td>\n",
       "    </tr>\n",
       "  </tbody>\n",
       "</table>\n",
       "</div>"
      ],
      "text/plain": [
       "         title  rank       date artist  \\\n",
       "7305002     NA   120 2019-06-24  Nissy   \n",
       "7401555     NA   167 2019-06-25  Nissy   \n",
       "7479161     NA   128 2019-06-26  Nissy   \n",
       "7563494     NA   164 2019-06-27  Nissy   \n",
       "7670140     NA   174 2019-06-28  Nissy   \n",
       "7772268     NA   188 2019-06-29  Nissy   \n",
       "7879888     NA   169 2019-06-30  Nissy   \n",
       "14391788    NA    38 2019-07-15  Nissy   \n",
       "14481594    NA    48 2019-07-16  Nissy   \n",
       "14768101    NA    46 2019-07-17  Nissy   \n",
       "14773425    NA    48 2019-07-18  Nissy   \n",
       "\n",
       "                                                            url region  \\\n",
       "7305002   https://open.spotify.com/track/4cP6KmNvTFkLHZo6fVJq0c  Japan   \n",
       "7401555   https://open.spotify.com/track/4cP6KmNvTFkLHZo6fVJq0c  Japan   \n",
       "7479161   https://open.spotify.com/track/4cP6KmNvTFkLHZo6fVJq0c  Japan   \n",
       "7563494   https://open.spotify.com/track/4cP6KmNvTFkLHZo6fVJq0c  Japan   \n",
       "7670140   https://open.spotify.com/track/4cP6KmNvTFkLHZo6fVJq0c  Japan   \n",
       "7772268   https://open.spotify.com/track/4cP6KmNvTFkLHZo6fVJq0c  Japan   \n",
       "7879888   https://open.spotify.com/track/4cP6KmNvTFkLHZo6fVJq0c  Japan   \n",
       "14391788  https://open.spotify.com/track/4cP6KmNvTFkLHZo6fVJq0c  Japan   \n",
       "14481594  https://open.spotify.com/track/4cP6KmNvTFkLHZo6fVJq0c  Japan   \n",
       "14768101  https://open.spotify.com/track/4cP6KmNvTFkLHZo6fVJq0c  Japan   \n",
       "14773425  https://open.spotify.com/track/4cP6KmNvTFkLHZo6fVJq0c  Japan   \n",
       "\n",
       "            chart      trend    streams  \n",
       "7305002    top200  NEW_ENTRY 11942.0000  \n",
       "7401555    top200  MOVE_DOWN 10310.0000  \n",
       "7479161    top200    MOVE_UP 11620.0000  \n",
       "7563494    top200  MOVE_DOWN 10229.0000  \n",
       "7670140    top200  MOVE_DOWN  9348.0000  \n",
       "7772268    top200  MOVE_DOWN  9808.0000  \n",
       "7879888    top200    MOVE_UP 10900.0000  \n",
       "14391788  viral50  NEW_ENTRY        NaN  \n",
       "14481594  viral50  MOVE_DOWN        NaN  \n",
       "14768101  viral50    MOVE_UP        NaN  \n",
       "14773425  viral50  MOVE_DOWN        NaN  "
      ]
     },
     "execution_count": 25,
     "metadata": {},
     "output_type": "execute_result"
    }
   ],
   "source": [
    "charts[charts['title']=='NA']"
   ]
  },
  {
   "cell_type": "code",
   "execution_count": 26,
   "metadata": {},
   "outputs": [
    {
     "data": {
      "text/plain": [
       "True"
      ]
     },
     "execution_count": 26,
     "metadata": {},
     "output_type": "execute_result"
    }
   ],
   "source": [
    "charts['artist'].hasnans"
   ]
  },
  {
   "cell_type": "markdown",
   "metadata": {},
   "source": [
    "`artist` tiene valores faltantes, veamos cuantos son"
   ]
  },
  {
   "cell_type": "code",
   "execution_count": 27,
   "metadata": {},
   "outputs": [
    {
     "data": {
      "text/plain": [
       "(18, 9)"
      ]
     },
     "execution_count": 27,
     "metadata": {},
     "output_type": "execute_result"
    }
   ],
   "source": [
    "charts[charts['artist'].isna()].shape"
   ]
  },
  {
   "cell_type": "markdown",
   "metadata": {},
   "source": [
    "solamente 18 filas tienen artista faltante, veamos cuales son"
   ]
  },
  {
   "cell_type": "code",
   "execution_count": 28,
   "metadata": {},
   "outputs": [
    {
     "data": {
      "text/html": [
       "<div>\n",
       "<style scoped>\n",
       "    .dataframe tbody tr th:only-of-type {\n",
       "        vertical-align: middle;\n",
       "    }\n",
       "\n",
       "    .dataframe tbody tr th {\n",
       "        vertical-align: top;\n",
       "    }\n",
       "\n",
       "    .dataframe thead th {\n",
       "        text-align: right;\n",
       "    }\n",
       "</style>\n",
       "<table border=\"1\" class=\"dataframe\">\n",
       "  <thead>\n",
       "    <tr style=\"text-align: right;\">\n",
       "      <th></th>\n",
       "      <th>title</th>\n",
       "      <th>rank</th>\n",
       "      <th>date</th>\n",
       "      <th>artist</th>\n",
       "      <th>url</th>\n",
       "      <th>region</th>\n",
       "      <th>chart</th>\n",
       "      <th>trend</th>\n",
       "      <th>streams</th>\n",
       "    </tr>\n",
       "  </thead>\n",
       "  <tbody>\n",
       "    <tr>\n",
       "      <th>20596664</th>\n",
       "      <td>NO GOOD</td>\n",
       "      <td>10</td>\n",
       "      <td>2020-07-13</td>\n",
       "      <td>NaN</td>\n",
       "      <td>https://open.spotify.com/track/4Qnz8tARYhUtDNePNsLx2C</td>\n",
       "      <td>Japan</td>\n",
       "      <td>viral50</td>\n",
       "      <td>NEW_ENTRY</td>\n",
       "      <td>NaN</td>\n",
       "    </tr>\n",
       "    <tr>\n",
       "      <th>20616457</th>\n",
       "      <td>NO GOOD</td>\n",
       "      <td>10</td>\n",
       "      <td>2020-07-14</td>\n",
       "      <td>NaN</td>\n",
       "      <td>https://open.spotify.com/track/4Qnz8tARYhUtDNePNsLx2C</td>\n",
       "      <td>Japan</td>\n",
       "      <td>viral50</td>\n",
       "      <td>SAME_POSITION</td>\n",
       "      <td>NaN</td>\n",
       "    </tr>\n",
       "    <tr>\n",
       "      <th>20640094</th>\n",
       "      <td>NO GOOD</td>\n",
       "      <td>10</td>\n",
       "      <td>2020-07-15</td>\n",
       "      <td>NaN</td>\n",
       "      <td>https://open.spotify.com/track/4Qnz8tARYhUtDNePNsLx2C</td>\n",
       "      <td>Japan</td>\n",
       "      <td>viral50</td>\n",
       "      <td>SAME_POSITION</td>\n",
       "      <td>NaN</td>\n",
       "    </tr>\n",
       "    <tr>\n",
       "      <th>20661724</th>\n",
       "      <td>NO GOOD</td>\n",
       "      <td>10</td>\n",
       "      <td>2020-07-16</td>\n",
       "      <td>NaN</td>\n",
       "      <td>https://open.spotify.com/track/4Qnz8tARYhUtDNePNsLx2C</td>\n",
       "      <td>Japan</td>\n",
       "      <td>viral50</td>\n",
       "      <td>SAME_POSITION</td>\n",
       "      <td>NaN</td>\n",
       "    </tr>\n",
       "    <tr>\n",
       "      <th>20677645</th>\n",
       "      <td>NO GOOD</td>\n",
       "      <td>10</td>\n",
       "      <td>2020-07-17</td>\n",
       "      <td>NaN</td>\n",
       "      <td>https://open.spotify.com/track/4Qnz8tARYhUtDNePNsLx2C</td>\n",
       "      <td>Japan</td>\n",
       "      <td>viral50</td>\n",
       "      <td>SAME_POSITION</td>\n",
       "      <td>NaN</td>\n",
       "    </tr>\n",
       "    <tr>\n",
       "      <th>20705363</th>\n",
       "      <td>NO GOOD</td>\n",
       "      <td>10</td>\n",
       "      <td>2020-07-18</td>\n",
       "      <td>NaN</td>\n",
       "      <td>https://open.spotify.com/track/4Qnz8tARYhUtDNePNsLx2C</td>\n",
       "      <td>Japan</td>\n",
       "      <td>viral50</td>\n",
       "      <td>SAME_POSITION</td>\n",
       "      <td>NaN</td>\n",
       "    </tr>\n",
       "    <tr>\n",
       "      <th>20726697</th>\n",
       "      <td>NO GOOD</td>\n",
       "      <td>10</td>\n",
       "      <td>2020-07-19</td>\n",
       "      <td>NaN</td>\n",
       "      <td>https://open.spotify.com/track/4Qnz8tARYhUtDNePNsLx2C</td>\n",
       "      <td>Japan</td>\n",
       "      <td>viral50</td>\n",
       "      <td>SAME_POSITION</td>\n",
       "      <td>NaN</td>\n",
       "    </tr>\n",
       "    <tr>\n",
       "      <th>20748638</th>\n",
       "      <td>NO GOOD</td>\n",
       "      <td>13</td>\n",
       "      <td>2020-07-20</td>\n",
       "      <td>NaN</td>\n",
       "      <td>https://open.spotify.com/track/4Qnz8tARYhUtDNePNsLx2C</td>\n",
       "      <td>Japan</td>\n",
       "      <td>viral50</td>\n",
       "      <td>MOVE_DOWN</td>\n",
       "      <td>NaN</td>\n",
       "    </tr>\n",
       "    <tr>\n",
       "      <th>20788975</th>\n",
       "      <td>NO GOOD</td>\n",
       "      <td>14</td>\n",
       "      <td>2020-07-21</td>\n",
       "      <td>NaN</td>\n",
       "      <td>https://open.spotify.com/track/4Qnz8tARYhUtDNePNsLx2C</td>\n",
       "      <td>Japan</td>\n",
       "      <td>viral50</td>\n",
       "      <td>MOVE_DOWN</td>\n",
       "      <td>NaN</td>\n",
       "    </tr>\n",
       "    <tr>\n",
       "      <th>20833982</th>\n",
       "      <td>NO GOOD</td>\n",
       "      <td>19</td>\n",
       "      <td>2020-07-22</td>\n",
       "      <td>NaN</td>\n",
       "      <td>https://open.spotify.com/track/4Qnz8tARYhUtDNePNsLx2C</td>\n",
       "      <td>Japan</td>\n",
       "      <td>viral50</td>\n",
       "      <td>MOVE_DOWN</td>\n",
       "      <td>NaN</td>\n",
       "    </tr>\n",
       "    <tr>\n",
       "      <th>20865824</th>\n",
       "      <td>NO GOOD</td>\n",
       "      <td>23</td>\n",
       "      <td>2020-07-23</td>\n",
       "      <td>NaN</td>\n",
       "      <td>https://open.spotify.com/track/4Qnz8tARYhUtDNePNsLx2C</td>\n",
       "      <td>Japan</td>\n",
       "      <td>viral50</td>\n",
       "      <td>MOVE_DOWN</td>\n",
       "      <td>NaN</td>\n",
       "    </tr>\n",
       "    <tr>\n",
       "      <th>20887012</th>\n",
       "      <td>NO GOOD</td>\n",
       "      <td>20</td>\n",
       "      <td>2020-07-24</td>\n",
       "      <td>NaN</td>\n",
       "      <td>https://open.spotify.com/track/4Qnz8tARYhUtDNePNsLx2C</td>\n",
       "      <td>Japan</td>\n",
       "      <td>viral50</td>\n",
       "      <td>MOVE_UP</td>\n",
       "      <td>NaN</td>\n",
       "    </tr>\n",
       "    <tr>\n",
       "      <th>20903930</th>\n",
       "      <td>NO GOOD</td>\n",
       "      <td>21</td>\n",
       "      <td>2020-07-25</td>\n",
       "      <td>NaN</td>\n",
       "      <td>https://open.spotify.com/track/4Qnz8tARYhUtDNePNsLx2C</td>\n",
       "      <td>Japan</td>\n",
       "      <td>viral50</td>\n",
       "      <td>MOVE_DOWN</td>\n",
       "      <td>NaN</td>\n",
       "    </tr>\n",
       "    <tr>\n",
       "      <th>20932541</th>\n",
       "      <td>NO GOOD</td>\n",
       "      <td>24</td>\n",
       "      <td>2020-07-26</td>\n",
       "      <td>NaN</td>\n",
       "      <td>https://open.spotify.com/track/4Qnz8tARYhUtDNePNsLx2C</td>\n",
       "      <td>Japan</td>\n",
       "      <td>viral50</td>\n",
       "      <td>MOVE_DOWN</td>\n",
       "      <td>NaN</td>\n",
       "    </tr>\n",
       "    <tr>\n",
       "      <th>20960407</th>\n",
       "      <td>NO GOOD</td>\n",
       "      <td>36</td>\n",
       "      <td>2020-07-27</td>\n",
       "      <td>NaN</td>\n",
       "      <td>https://open.spotify.com/track/4Qnz8tARYhUtDNePNsLx2C</td>\n",
       "      <td>Japan</td>\n",
       "      <td>viral50</td>\n",
       "      <td>MOVE_DOWN</td>\n",
       "      <td>NaN</td>\n",
       "    </tr>\n",
       "    <tr>\n",
       "      <th>20992837</th>\n",
       "      <td>NO GOOD</td>\n",
       "      <td>43</td>\n",
       "      <td>2020-07-28</td>\n",
       "      <td>NaN</td>\n",
       "      <td>https://open.spotify.com/track/4Qnz8tARYhUtDNePNsLx2C</td>\n",
       "      <td>Japan</td>\n",
       "      <td>viral50</td>\n",
       "      <td>MOVE_DOWN</td>\n",
       "      <td>NaN</td>\n",
       "    </tr>\n",
       "    <tr>\n",
       "      <th>21026109</th>\n",
       "      <td>NO GOOD</td>\n",
       "      <td>40</td>\n",
       "      <td>2020-07-29</td>\n",
       "      <td>NaN</td>\n",
       "      <td>https://open.spotify.com/track/4Qnz8tARYhUtDNePNsLx2C</td>\n",
       "      <td>Japan</td>\n",
       "      <td>viral50</td>\n",
       "      <td>MOVE_UP</td>\n",
       "      <td>NaN</td>\n",
       "    </tr>\n",
       "    <tr>\n",
       "      <th>21057585</th>\n",
       "      <td>NO GOOD</td>\n",
       "      <td>46</td>\n",
       "      <td>2020-07-30</td>\n",
       "      <td>NaN</td>\n",
       "      <td>https://open.spotify.com/track/4Qnz8tARYhUtDNePNsLx2C</td>\n",
       "      <td>Japan</td>\n",
       "      <td>viral50</td>\n",
       "      <td>MOVE_DOWN</td>\n",
       "      <td>NaN</td>\n",
       "    </tr>\n",
       "  </tbody>\n",
       "</table>\n",
       "</div>"
      ],
      "text/plain": [
       "            title  rank       date artist  \\\n",
       "20596664  NO GOOD    10 2020-07-13    NaN   \n",
       "20616457  NO GOOD    10 2020-07-14    NaN   \n",
       "20640094  NO GOOD    10 2020-07-15    NaN   \n",
       "20661724  NO GOOD    10 2020-07-16    NaN   \n",
       "20677645  NO GOOD    10 2020-07-17    NaN   \n",
       "20705363  NO GOOD    10 2020-07-18    NaN   \n",
       "20726697  NO GOOD    10 2020-07-19    NaN   \n",
       "20748638  NO GOOD    13 2020-07-20    NaN   \n",
       "20788975  NO GOOD    14 2020-07-21    NaN   \n",
       "20833982  NO GOOD    19 2020-07-22    NaN   \n",
       "20865824  NO GOOD    23 2020-07-23    NaN   \n",
       "20887012  NO GOOD    20 2020-07-24    NaN   \n",
       "20903930  NO GOOD    21 2020-07-25    NaN   \n",
       "20932541  NO GOOD    24 2020-07-26    NaN   \n",
       "20960407  NO GOOD    36 2020-07-27    NaN   \n",
       "20992837  NO GOOD    43 2020-07-28    NaN   \n",
       "21026109  NO GOOD    40 2020-07-29    NaN   \n",
       "21057585  NO GOOD    46 2020-07-30    NaN   \n",
       "\n",
       "                                                            url region  \\\n",
       "20596664  https://open.spotify.com/track/4Qnz8tARYhUtDNePNsLx2C  Japan   \n",
       "20616457  https://open.spotify.com/track/4Qnz8tARYhUtDNePNsLx2C  Japan   \n",
       "20640094  https://open.spotify.com/track/4Qnz8tARYhUtDNePNsLx2C  Japan   \n",
       "20661724  https://open.spotify.com/track/4Qnz8tARYhUtDNePNsLx2C  Japan   \n",
       "20677645  https://open.spotify.com/track/4Qnz8tARYhUtDNePNsLx2C  Japan   \n",
       "20705363  https://open.spotify.com/track/4Qnz8tARYhUtDNePNsLx2C  Japan   \n",
       "20726697  https://open.spotify.com/track/4Qnz8tARYhUtDNePNsLx2C  Japan   \n",
       "20748638  https://open.spotify.com/track/4Qnz8tARYhUtDNePNsLx2C  Japan   \n",
       "20788975  https://open.spotify.com/track/4Qnz8tARYhUtDNePNsLx2C  Japan   \n",
       "20833982  https://open.spotify.com/track/4Qnz8tARYhUtDNePNsLx2C  Japan   \n",
       "20865824  https://open.spotify.com/track/4Qnz8tARYhUtDNePNsLx2C  Japan   \n",
       "20887012  https://open.spotify.com/track/4Qnz8tARYhUtDNePNsLx2C  Japan   \n",
       "20903930  https://open.spotify.com/track/4Qnz8tARYhUtDNePNsLx2C  Japan   \n",
       "20932541  https://open.spotify.com/track/4Qnz8tARYhUtDNePNsLx2C  Japan   \n",
       "20960407  https://open.spotify.com/track/4Qnz8tARYhUtDNePNsLx2C  Japan   \n",
       "20992837  https://open.spotify.com/track/4Qnz8tARYhUtDNePNsLx2C  Japan   \n",
       "21026109  https://open.spotify.com/track/4Qnz8tARYhUtDNePNsLx2C  Japan   \n",
       "21057585  https://open.spotify.com/track/4Qnz8tARYhUtDNePNsLx2C  Japan   \n",
       "\n",
       "            chart          trend  streams  \n",
       "20596664  viral50      NEW_ENTRY      NaN  \n",
       "20616457  viral50  SAME_POSITION      NaN  \n",
       "20640094  viral50  SAME_POSITION      NaN  \n",
       "20661724  viral50  SAME_POSITION      NaN  \n",
       "20677645  viral50  SAME_POSITION      NaN  \n",
       "20705363  viral50  SAME_POSITION      NaN  \n",
       "20726697  viral50  SAME_POSITION      NaN  \n",
       "20748638  viral50      MOVE_DOWN      NaN  \n",
       "20788975  viral50      MOVE_DOWN      NaN  \n",
       "20833982  viral50      MOVE_DOWN      NaN  \n",
       "20865824  viral50      MOVE_DOWN      NaN  \n",
       "20887012  viral50        MOVE_UP      NaN  \n",
       "20903930  viral50      MOVE_DOWN      NaN  \n",
       "20932541  viral50      MOVE_DOWN      NaN  \n",
       "20960407  viral50      MOVE_DOWN      NaN  \n",
       "20992837  viral50      MOVE_DOWN      NaN  \n",
       "21026109  viral50        MOVE_UP      NaN  \n",
       "21057585  viral50      MOVE_DOWN      NaN  "
      ]
     },
     "execution_count": 28,
     "metadata": {},
     "output_type": "execute_result"
    }
   ],
   "source": [
    "charts[charts['artist'].isna()]"
   ]
  },
  {
   "cell_type": "markdown",
   "metadata": {},
   "source": [
    "Buscando en internet la cancion, podemos identificar que el artista tiene nombre \"N/A\", probablemente ocurrio algun error al ser cargadas. Solucionemoslo."
   ]
  },
  {
   "cell_type": "code",
   "execution_count": 29,
   "metadata": {},
   "outputs": [],
   "source": [
    "# fix the artist name \"N/A\"\n",
    "charts.loc[charts['artist'].isna(), 'artist'] = 'N/A'"
   ]
  },
  {
   "cell_type": "code",
   "execution_count": 30,
   "metadata": {},
   "outputs": [
    {
     "data": {
      "text/plain": [
       "(0, 9)"
      ]
     },
     "execution_count": 30,
     "metadata": {},
     "output_type": "execute_result"
    }
   ],
   "source": [
    "charts[charts['artist'].isna()].shape"
   ]
  },
  {
   "cell_type": "code",
   "execution_count": 31,
   "metadata": {},
   "outputs": [
    {
     "data": {
      "text/html": [
       "<div>\n",
       "<style scoped>\n",
       "    .dataframe tbody tr th:only-of-type {\n",
       "        vertical-align: middle;\n",
       "    }\n",
       "\n",
       "    .dataframe tbody tr th {\n",
       "        vertical-align: top;\n",
       "    }\n",
       "\n",
       "    .dataframe thead th {\n",
       "        text-align: right;\n",
       "    }\n",
       "</style>\n",
       "<table border=\"1\" class=\"dataframe\">\n",
       "  <thead>\n",
       "    <tr style=\"text-align: right;\">\n",
       "      <th></th>\n",
       "      <th>title</th>\n",
       "      <th>rank</th>\n",
       "      <th>date</th>\n",
       "      <th>artist</th>\n",
       "      <th>url</th>\n",
       "      <th>region</th>\n",
       "      <th>chart</th>\n",
       "      <th>trend</th>\n",
       "      <th>streams</th>\n",
       "    </tr>\n",
       "  </thead>\n",
       "  <tbody>\n",
       "    <tr>\n",
       "      <th>20596664</th>\n",
       "      <td>NO GOOD</td>\n",
       "      <td>10</td>\n",
       "      <td>2020-07-13</td>\n",
       "      <td>N/A</td>\n",
       "      <td>https://open.spotify.com/track/4Qnz8tARYhUtDNePNsLx2C</td>\n",
       "      <td>Japan</td>\n",
       "      <td>viral50</td>\n",
       "      <td>NEW_ENTRY</td>\n",
       "      <td>NaN</td>\n",
       "    </tr>\n",
       "    <tr>\n",
       "      <th>20616457</th>\n",
       "      <td>NO GOOD</td>\n",
       "      <td>10</td>\n",
       "      <td>2020-07-14</td>\n",
       "      <td>N/A</td>\n",
       "      <td>https://open.spotify.com/track/4Qnz8tARYhUtDNePNsLx2C</td>\n",
       "      <td>Japan</td>\n",
       "      <td>viral50</td>\n",
       "      <td>SAME_POSITION</td>\n",
       "      <td>NaN</td>\n",
       "    </tr>\n",
       "    <tr>\n",
       "      <th>20640094</th>\n",
       "      <td>NO GOOD</td>\n",
       "      <td>10</td>\n",
       "      <td>2020-07-15</td>\n",
       "      <td>N/A</td>\n",
       "      <td>https://open.spotify.com/track/4Qnz8tARYhUtDNePNsLx2C</td>\n",
       "      <td>Japan</td>\n",
       "      <td>viral50</td>\n",
       "      <td>SAME_POSITION</td>\n",
       "      <td>NaN</td>\n",
       "    </tr>\n",
       "    <tr>\n",
       "      <th>20661724</th>\n",
       "      <td>NO GOOD</td>\n",
       "      <td>10</td>\n",
       "      <td>2020-07-16</td>\n",
       "      <td>N/A</td>\n",
       "      <td>https://open.spotify.com/track/4Qnz8tARYhUtDNePNsLx2C</td>\n",
       "      <td>Japan</td>\n",
       "      <td>viral50</td>\n",
       "      <td>SAME_POSITION</td>\n",
       "      <td>NaN</td>\n",
       "    </tr>\n",
       "    <tr>\n",
       "      <th>20677645</th>\n",
       "      <td>NO GOOD</td>\n",
       "      <td>10</td>\n",
       "      <td>2020-07-17</td>\n",
       "      <td>N/A</td>\n",
       "      <td>https://open.spotify.com/track/4Qnz8tARYhUtDNePNsLx2C</td>\n",
       "      <td>Japan</td>\n",
       "      <td>viral50</td>\n",
       "      <td>SAME_POSITION</td>\n",
       "      <td>NaN</td>\n",
       "    </tr>\n",
       "    <tr>\n",
       "      <th>20705363</th>\n",
       "      <td>NO GOOD</td>\n",
       "      <td>10</td>\n",
       "      <td>2020-07-18</td>\n",
       "      <td>N/A</td>\n",
       "      <td>https://open.spotify.com/track/4Qnz8tARYhUtDNePNsLx2C</td>\n",
       "      <td>Japan</td>\n",
       "      <td>viral50</td>\n",
       "      <td>SAME_POSITION</td>\n",
       "      <td>NaN</td>\n",
       "    </tr>\n",
       "    <tr>\n",
       "      <th>20726697</th>\n",
       "      <td>NO GOOD</td>\n",
       "      <td>10</td>\n",
       "      <td>2020-07-19</td>\n",
       "      <td>N/A</td>\n",
       "      <td>https://open.spotify.com/track/4Qnz8tARYhUtDNePNsLx2C</td>\n",
       "      <td>Japan</td>\n",
       "      <td>viral50</td>\n",
       "      <td>SAME_POSITION</td>\n",
       "      <td>NaN</td>\n",
       "    </tr>\n",
       "    <tr>\n",
       "      <th>20748638</th>\n",
       "      <td>NO GOOD</td>\n",
       "      <td>13</td>\n",
       "      <td>2020-07-20</td>\n",
       "      <td>N/A</td>\n",
       "      <td>https://open.spotify.com/track/4Qnz8tARYhUtDNePNsLx2C</td>\n",
       "      <td>Japan</td>\n",
       "      <td>viral50</td>\n",
       "      <td>MOVE_DOWN</td>\n",
       "      <td>NaN</td>\n",
       "    </tr>\n",
       "    <tr>\n",
       "      <th>20788975</th>\n",
       "      <td>NO GOOD</td>\n",
       "      <td>14</td>\n",
       "      <td>2020-07-21</td>\n",
       "      <td>N/A</td>\n",
       "      <td>https://open.spotify.com/track/4Qnz8tARYhUtDNePNsLx2C</td>\n",
       "      <td>Japan</td>\n",
       "      <td>viral50</td>\n",
       "      <td>MOVE_DOWN</td>\n",
       "      <td>NaN</td>\n",
       "    </tr>\n",
       "    <tr>\n",
       "      <th>20833982</th>\n",
       "      <td>NO GOOD</td>\n",
       "      <td>19</td>\n",
       "      <td>2020-07-22</td>\n",
       "      <td>N/A</td>\n",
       "      <td>https://open.spotify.com/track/4Qnz8tARYhUtDNePNsLx2C</td>\n",
       "      <td>Japan</td>\n",
       "      <td>viral50</td>\n",
       "      <td>MOVE_DOWN</td>\n",
       "      <td>NaN</td>\n",
       "    </tr>\n",
       "    <tr>\n",
       "      <th>20865824</th>\n",
       "      <td>NO GOOD</td>\n",
       "      <td>23</td>\n",
       "      <td>2020-07-23</td>\n",
       "      <td>N/A</td>\n",
       "      <td>https://open.spotify.com/track/4Qnz8tARYhUtDNePNsLx2C</td>\n",
       "      <td>Japan</td>\n",
       "      <td>viral50</td>\n",
       "      <td>MOVE_DOWN</td>\n",
       "      <td>NaN</td>\n",
       "    </tr>\n",
       "    <tr>\n",
       "      <th>20887012</th>\n",
       "      <td>NO GOOD</td>\n",
       "      <td>20</td>\n",
       "      <td>2020-07-24</td>\n",
       "      <td>N/A</td>\n",
       "      <td>https://open.spotify.com/track/4Qnz8tARYhUtDNePNsLx2C</td>\n",
       "      <td>Japan</td>\n",
       "      <td>viral50</td>\n",
       "      <td>MOVE_UP</td>\n",
       "      <td>NaN</td>\n",
       "    </tr>\n",
       "    <tr>\n",
       "      <th>20903930</th>\n",
       "      <td>NO GOOD</td>\n",
       "      <td>21</td>\n",
       "      <td>2020-07-25</td>\n",
       "      <td>N/A</td>\n",
       "      <td>https://open.spotify.com/track/4Qnz8tARYhUtDNePNsLx2C</td>\n",
       "      <td>Japan</td>\n",
       "      <td>viral50</td>\n",
       "      <td>MOVE_DOWN</td>\n",
       "      <td>NaN</td>\n",
       "    </tr>\n",
       "    <tr>\n",
       "      <th>20932541</th>\n",
       "      <td>NO GOOD</td>\n",
       "      <td>24</td>\n",
       "      <td>2020-07-26</td>\n",
       "      <td>N/A</td>\n",
       "      <td>https://open.spotify.com/track/4Qnz8tARYhUtDNePNsLx2C</td>\n",
       "      <td>Japan</td>\n",
       "      <td>viral50</td>\n",
       "      <td>MOVE_DOWN</td>\n",
       "      <td>NaN</td>\n",
       "    </tr>\n",
       "    <tr>\n",
       "      <th>20960407</th>\n",
       "      <td>NO GOOD</td>\n",
       "      <td>36</td>\n",
       "      <td>2020-07-27</td>\n",
       "      <td>N/A</td>\n",
       "      <td>https://open.spotify.com/track/4Qnz8tARYhUtDNePNsLx2C</td>\n",
       "      <td>Japan</td>\n",
       "      <td>viral50</td>\n",
       "      <td>MOVE_DOWN</td>\n",
       "      <td>NaN</td>\n",
       "    </tr>\n",
       "    <tr>\n",
       "      <th>20992837</th>\n",
       "      <td>NO GOOD</td>\n",
       "      <td>43</td>\n",
       "      <td>2020-07-28</td>\n",
       "      <td>N/A</td>\n",
       "      <td>https://open.spotify.com/track/4Qnz8tARYhUtDNePNsLx2C</td>\n",
       "      <td>Japan</td>\n",
       "      <td>viral50</td>\n",
       "      <td>MOVE_DOWN</td>\n",
       "      <td>NaN</td>\n",
       "    </tr>\n",
       "    <tr>\n",
       "      <th>21026109</th>\n",
       "      <td>NO GOOD</td>\n",
       "      <td>40</td>\n",
       "      <td>2020-07-29</td>\n",
       "      <td>N/A</td>\n",
       "      <td>https://open.spotify.com/track/4Qnz8tARYhUtDNePNsLx2C</td>\n",
       "      <td>Japan</td>\n",
       "      <td>viral50</td>\n",
       "      <td>MOVE_UP</td>\n",
       "      <td>NaN</td>\n",
       "    </tr>\n",
       "    <tr>\n",
       "      <th>21057585</th>\n",
       "      <td>NO GOOD</td>\n",
       "      <td>46</td>\n",
       "      <td>2020-07-30</td>\n",
       "      <td>N/A</td>\n",
       "      <td>https://open.spotify.com/track/4Qnz8tARYhUtDNePNsLx2C</td>\n",
       "      <td>Japan</td>\n",
       "      <td>viral50</td>\n",
       "      <td>MOVE_DOWN</td>\n",
       "      <td>NaN</td>\n",
       "    </tr>\n",
       "  </tbody>\n",
       "</table>\n",
       "</div>"
      ],
      "text/plain": [
       "            title  rank       date artist  \\\n",
       "20596664  NO GOOD    10 2020-07-13    N/A   \n",
       "20616457  NO GOOD    10 2020-07-14    N/A   \n",
       "20640094  NO GOOD    10 2020-07-15    N/A   \n",
       "20661724  NO GOOD    10 2020-07-16    N/A   \n",
       "20677645  NO GOOD    10 2020-07-17    N/A   \n",
       "20705363  NO GOOD    10 2020-07-18    N/A   \n",
       "20726697  NO GOOD    10 2020-07-19    N/A   \n",
       "20748638  NO GOOD    13 2020-07-20    N/A   \n",
       "20788975  NO GOOD    14 2020-07-21    N/A   \n",
       "20833982  NO GOOD    19 2020-07-22    N/A   \n",
       "20865824  NO GOOD    23 2020-07-23    N/A   \n",
       "20887012  NO GOOD    20 2020-07-24    N/A   \n",
       "20903930  NO GOOD    21 2020-07-25    N/A   \n",
       "20932541  NO GOOD    24 2020-07-26    N/A   \n",
       "20960407  NO GOOD    36 2020-07-27    N/A   \n",
       "20992837  NO GOOD    43 2020-07-28    N/A   \n",
       "21026109  NO GOOD    40 2020-07-29    N/A   \n",
       "21057585  NO GOOD    46 2020-07-30    N/A   \n",
       "\n",
       "                                                            url region  \\\n",
       "20596664  https://open.spotify.com/track/4Qnz8tARYhUtDNePNsLx2C  Japan   \n",
       "20616457  https://open.spotify.com/track/4Qnz8tARYhUtDNePNsLx2C  Japan   \n",
       "20640094  https://open.spotify.com/track/4Qnz8tARYhUtDNePNsLx2C  Japan   \n",
       "20661724  https://open.spotify.com/track/4Qnz8tARYhUtDNePNsLx2C  Japan   \n",
       "20677645  https://open.spotify.com/track/4Qnz8tARYhUtDNePNsLx2C  Japan   \n",
       "20705363  https://open.spotify.com/track/4Qnz8tARYhUtDNePNsLx2C  Japan   \n",
       "20726697  https://open.spotify.com/track/4Qnz8tARYhUtDNePNsLx2C  Japan   \n",
       "20748638  https://open.spotify.com/track/4Qnz8tARYhUtDNePNsLx2C  Japan   \n",
       "20788975  https://open.spotify.com/track/4Qnz8tARYhUtDNePNsLx2C  Japan   \n",
       "20833982  https://open.spotify.com/track/4Qnz8tARYhUtDNePNsLx2C  Japan   \n",
       "20865824  https://open.spotify.com/track/4Qnz8tARYhUtDNePNsLx2C  Japan   \n",
       "20887012  https://open.spotify.com/track/4Qnz8tARYhUtDNePNsLx2C  Japan   \n",
       "20903930  https://open.spotify.com/track/4Qnz8tARYhUtDNePNsLx2C  Japan   \n",
       "20932541  https://open.spotify.com/track/4Qnz8tARYhUtDNePNsLx2C  Japan   \n",
       "20960407  https://open.spotify.com/track/4Qnz8tARYhUtDNePNsLx2C  Japan   \n",
       "20992837  https://open.spotify.com/track/4Qnz8tARYhUtDNePNsLx2C  Japan   \n",
       "21026109  https://open.spotify.com/track/4Qnz8tARYhUtDNePNsLx2C  Japan   \n",
       "21057585  https://open.spotify.com/track/4Qnz8tARYhUtDNePNsLx2C  Japan   \n",
       "\n",
       "            chart          trend  streams  \n",
       "20596664  viral50      NEW_ENTRY      NaN  \n",
       "20616457  viral50  SAME_POSITION      NaN  \n",
       "20640094  viral50  SAME_POSITION      NaN  \n",
       "20661724  viral50  SAME_POSITION      NaN  \n",
       "20677645  viral50  SAME_POSITION      NaN  \n",
       "20705363  viral50  SAME_POSITION      NaN  \n",
       "20726697  viral50  SAME_POSITION      NaN  \n",
       "20748638  viral50      MOVE_DOWN      NaN  \n",
       "20788975  viral50      MOVE_DOWN      NaN  \n",
       "20833982  viral50      MOVE_DOWN      NaN  \n",
       "20865824  viral50      MOVE_DOWN      NaN  \n",
       "20887012  viral50        MOVE_UP      NaN  \n",
       "20903930  viral50      MOVE_DOWN      NaN  \n",
       "20932541  viral50      MOVE_DOWN      NaN  \n",
       "20960407  viral50      MOVE_DOWN      NaN  \n",
       "20992837  viral50      MOVE_DOWN      NaN  \n",
       "21026109  viral50        MOVE_UP      NaN  \n",
       "21057585  viral50      MOVE_DOWN      NaN  "
      ]
     },
     "execution_count": 31,
     "metadata": {},
     "output_type": "execute_result"
    }
   ],
   "source": [
    "charts[charts['artist']=='N/A']"
   ]
  },
  {
   "cell_type": "code",
   "execution_count": 32,
   "metadata": {},
   "outputs": [
    {
     "data": {
      "text/plain": [
       "True"
      ]
     },
     "execution_count": 32,
     "metadata": {},
     "output_type": "execute_result"
    }
   ],
   "source": [
    "charts['streams'].hasnans"
   ]
  },
  {
   "cell_type": "markdown",
   "metadata": {},
   "source": [
    "`streams` tiene valores faltantes, veamos cuantos son"
   ]
  },
  {
   "cell_type": "code",
   "execution_count": 33,
   "metadata": {},
   "outputs": [
    {
     "data": {
      "text/plain": [
       "(5851610, 9)"
      ]
     },
     "execution_count": 33,
     "metadata": {},
     "output_type": "execute_result"
    }
   ],
   "source": [
    "charts[charts['streams'].isna()].shape"
   ]
  },
  {
   "cell_type": "markdown",
   "metadata": {},
   "source": [
    "5.851.610 filas tienen `streams` faltantes, veamos a que colecciones pertenecen"
   ]
  },
  {
   "cell_type": "code",
   "execution_count": 34,
   "metadata": {},
   "outputs": [
    {
     "data": {
      "text/plain": [
       "chart\n",
       "viral50    5851610\n",
       "top200           0\n",
       "Name: count, dtype: int64"
      ]
     },
     "execution_count": 34,
     "metadata": {},
     "output_type": "execute_result"
    }
   ],
   "source": [
    "charts[charts['streams'].isna()]['chart'].value_counts()"
   ]
  },
  {
   "cell_type": "markdown",
   "metadata": {},
   "source": [
    "Todas las 5.851.610 filas son de la coleccion \"50 Virales\", comprobemos si es que esa coleccion no tiene `streams` en todos sus casos."
   ]
  },
  {
   "cell_type": "code",
   "execution_count": 35,
   "metadata": {},
   "outputs": [
    {
     "data": {
      "text/plain": [
       "streams\n",
       "True    5851610\n",
       "Name: count, dtype: int64"
      ]
     },
     "execution_count": 35,
     "metadata": {},
     "output_type": "execute_result"
    }
   ],
   "source": [
    "charts[charts['chart']=='viral50']['streams'].isna().value_counts()"
   ]
  },
  {
   "cell_type": "markdown",
   "metadata": {},
   "source": [
    "En efecto, las 5.851.610 filas que no poseen `streams` es debido a que las canciones de la coleccion \"50 Virales\" no poseen tal informacion."
   ]
  },
  {
   "cell_type": "markdown",
   "metadata": {},
   "source": [
    "## analisis de columnas"
   ]
  },
  {
   "cell_type": "code",
   "execution_count": 36,
   "metadata": {},
   "outputs": [
    {
     "data": {
      "text/html": [
       "<div>\n",
       "<style scoped>\n",
       "    .dataframe tbody tr th:only-of-type {\n",
       "        vertical-align: middle;\n",
       "    }\n",
       "\n",
       "    .dataframe tbody tr th {\n",
       "        vertical-align: top;\n",
       "    }\n",
       "\n",
       "    .dataframe thead th {\n",
       "        text-align: right;\n",
       "    }\n",
       "</style>\n",
       "<table border=\"1\" class=\"dataframe\">\n",
       "  <thead>\n",
       "    <tr style=\"text-align: right;\">\n",
       "      <th></th>\n",
       "      <th>rank</th>\n",
       "      <th>date</th>\n",
       "      <th>streams</th>\n",
       "    </tr>\n",
       "  </thead>\n",
       "  <tbody>\n",
       "    <tr>\n",
       "      <th>count</th>\n",
       "      <td>26173514.0000</td>\n",
       "      <td>26173514</td>\n",
       "      <td>20321904.0000</td>\n",
       "    </tr>\n",
       "    <tr>\n",
       "      <th>mean</th>\n",
       "      <td>80.9231</td>\n",
       "      <td>2019-08-20 15:35:30.458598912</td>\n",
       "      <td>55261.3144</td>\n",
       "    </tr>\n",
       "    <tr>\n",
       "      <th>min</th>\n",
       "      <td>1.0000</td>\n",
       "      <td>2017-01-01 00:00:00</td>\n",
       "      <td>1001.0000</td>\n",
       "    </tr>\n",
       "    <tr>\n",
       "      <th>25%</th>\n",
       "      <td>29.0000</td>\n",
       "      <td>2018-06-16 00:00:00</td>\n",
       "      <td>3546.0000</td>\n",
       "    </tr>\n",
       "    <tr>\n",
       "      <th>50%</th>\n",
       "      <td>67.0000</td>\n",
       "      <td>2019-09-18 00:00:00</td>\n",
       "      <td>9565.0000</td>\n",
       "    </tr>\n",
       "    <tr>\n",
       "      <th>75%</th>\n",
       "      <td>131.0000</td>\n",
       "      <td>2020-11-11 00:00:00</td>\n",
       "      <td>35409.0000</td>\n",
       "    </tr>\n",
       "    <tr>\n",
       "      <th>max</th>\n",
       "      <td>200.0000</td>\n",
       "      <td>2021-12-31 00:00:00</td>\n",
       "      <td>19749704.0000</td>\n",
       "    </tr>\n",
       "    <tr>\n",
       "      <th>std</th>\n",
       "      <td>59.1860</td>\n",
       "      <td>NaN</td>\n",
       "      <td>209587.2447</td>\n",
       "    </tr>\n",
       "  </tbody>\n",
       "</table>\n",
       "</div>"
      ],
      "text/plain": [
       "               rank                           date       streams\n",
       "count 26173514.0000                       26173514 20321904.0000\n",
       "mean        80.9231  2019-08-20 15:35:30.458598912    55261.3144\n",
       "min          1.0000            2017-01-01 00:00:00     1001.0000\n",
       "25%         29.0000            2018-06-16 00:00:00     3546.0000\n",
       "50%         67.0000            2019-09-18 00:00:00     9565.0000\n",
       "75%        131.0000            2020-11-11 00:00:00    35409.0000\n",
       "max        200.0000            2021-12-31 00:00:00 19749704.0000\n",
       "std         59.1860                            NaN   209587.2447"
      ]
     },
     "execution_count": 36,
     "metadata": {},
     "output_type": "execute_result"
    }
   ],
   "source": [
    "charts.describe()"
   ]
  },
  {
   "cell_type": "code",
   "execution_count": 37,
   "metadata": {},
   "outputs": [
    {
     "data": {
      "text/plain": [
       "region\n",
       "Argentina        455308\n",
       "United States    455057\n",
       "Austria          454593\n",
       "Brazil           454439\n",
       "Australia        453103\n",
       "                  ...  \n",
       "Ukraine          127544\n",
       "Russia           126837\n",
       "Luxembourg        98053\n",
       "Andorra           79592\n",
       "South Korea       76276\n",
       "Name: count, Length: 70, dtype: int64"
      ]
     },
     "execution_count": 37,
     "metadata": {},
     "output_type": "execute_result"
    }
   ],
   "source": [
    "charts['region'].value_counts().sort_values(ascending=False)"
   ]
  },
  {
   "cell_type": "code",
   "execution_count": 38,
   "metadata": {},
   "outputs": [
    {
     "data": {
      "text/plain": [
       "chart\n",
       "top200     20321904\n",
       "viral50     5851610\n",
       "Name: count, dtype: int64"
      ]
     },
     "execution_count": 38,
     "metadata": {},
     "output_type": "execute_result"
    }
   ],
   "source": [
    "charts['chart'].value_counts()"
   ]
  },
  {
   "cell_type": "markdown",
   "metadata": {},
   "source": [
    "Los datos se encuentran en proporcion 200:50 = 4:1"
   ]
  },
  {
   "cell_type": "code",
   "execution_count": 39,
   "metadata": {},
   "outputs": [
    {
     "data": {
      "text/plain": [
       "trend\n",
       "MOVE_DOWN        11220434\n",
       "MOVE_UP           9801048\n",
       "SAME_POSITION     3298392\n",
       "NEW_ENTRY         1853640\n",
       "Name: count, dtype: int64"
      ]
     },
     "execution_count": 39,
     "metadata": {},
     "output_type": "execute_result"
    }
   ],
   "source": [
    "charts['trend'].value_counts()"
   ]
  },
  {
   "cell_type": "code",
   "execution_count": 40,
   "metadata": {},
   "outputs": [
    {
     "data": {
      "text/plain": [
       "((164807,), (96157,))"
      ]
     },
     "execution_count": 40,
     "metadata": {},
     "output_type": "execute_result"
    }
   ],
   "source": [
    "charts['title'].unique().shape, charts['artist'].unique().shape"
   ]
  },
  {
   "cell_type": "markdown",
   "metadata": {},
   "source": [
    "Tenemos 164.807 canciones y 96.157 artistas unicos"
   ]
  },
  {
   "cell_type": "code",
   "execution_count": 41,
   "metadata": {},
   "outputs": [
    {
     "data": {
      "text/plain": [
       "(1826,)"
      ]
     },
     "execution_count": 41,
     "metadata": {},
     "output_type": "execute_result"
    }
   ],
   "source": [
    "charts['date'].unique().shape"
   ]
  },
  {
   "cell_type": "markdown",
   "metadata": {},
   "source": [
    "tenemos 1.826 fechas distintas"
   ]
  },
  {
   "cell_type": "code",
   "execution_count": 42,
   "metadata": {},
   "outputs": [
    {
     "data": {
      "text/plain": [
       "date\n",
       "2017    4401145\n",
       "2018    4863016\n",
       "2019    5412669\n",
       "2020    5793148\n",
       "2021    5703536\n",
       "Name: count, dtype: int64"
      ]
     },
     "execution_count": 42,
     "metadata": {},
     "output_type": "execute_result"
    }
   ],
   "source": [
    "charts['date'].dt.year.value_counts().sort_index()"
   ]
  },
  {
   "cell_type": "markdown",
   "metadata": {},
   "source": [
    "En general, tenemos datos balanceados en los años"
   ]
  },
  {
   "cell_type": "markdown",
   "metadata": {},
   "source": [
    "# data.csv\n",
    "\n",
    "`data.csv` es un [dataset de kaggle](https://www.kaggle.com/datasets/ivannatarov/spotify-daily-top-200-songs-with-genres-20172021) que contiene la coleccion \"Top 200\" obtenida diariamente desde 2017 hasta 2021. \\\n",
    "El usuario que subio este dataset declara que es util para principiantes, dado que contiene cosas que se suelen tratar en la exploracion de datos."
   ]
  },
  {
   "cell_type": "markdown",
   "metadata": {},
   "source": [
    "## carga y modificaciones iniciales"
   ]
  },
  {
   "cell_type": "code",
   "execution_count": 43,
   "metadata": {},
   "outputs": [
    {
     "data": {
      "text/html": [
       "<div>\n",
       "<style scoped>\n",
       "    .dataframe tbody tr th:only-of-type {\n",
       "        vertical-align: middle;\n",
       "    }\n",
       "\n",
       "    .dataframe tbody tr th {\n",
       "        vertical-align: top;\n",
       "    }\n",
       "\n",
       "    .dataframe thead th {\n",
       "        text-align: right;\n",
       "    }\n",
       "</style>\n",
       "<table border=\"1\" class=\"dataframe\">\n",
       "  <thead>\n",
       "    <tr style=\"text-align: right;\">\n",
       "      <th></th>\n",
       "      <th>Position</th>\n",
       "      <th>Track Name</th>\n",
       "      <th>Artist</th>\n",
       "      <th>Streams</th>\n",
       "      <th>Date</th>\n",
       "      <th>Genre</th>\n",
       "    </tr>\n",
       "  </thead>\n",
       "  <tbody>\n",
       "    <tr>\n",
       "      <th>0</th>\n",
       "      <td>1</td>\n",
       "      <td>Starboy</td>\n",
       "      <td>The Weeknd</td>\n",
       "      <td>3135625</td>\n",
       "      <td>2017-01-01</td>\n",
       "      <td>['canadian pop', 'canadian contemporary r&amp;b', 'pop']</td>\n",
       "    </tr>\n",
       "    <tr>\n",
       "      <th>1</th>\n",
       "      <td>2</td>\n",
       "      <td>Closer</td>\n",
       "      <td>The Chainsmokers</td>\n",
       "      <td>3015525</td>\n",
       "      <td>2017-01-01</td>\n",
       "      <td>['pop', 'pop dance', 'tropical house', 'edm', 'electropop', 'dance pop']</td>\n",
       "    </tr>\n",
       "    <tr>\n",
       "      <th>2</th>\n",
       "      <td>3</td>\n",
       "      <td>Let Me Love You</td>\n",
       "      <td>DJ Snake</td>\n",
       "      <td>2545384</td>\n",
       "      <td>2017-01-01</td>\n",
       "      <td>['pop', 'electronic trap', 'dance pop', 'edm', 'pop dance', 'pop rap']</td>\n",
       "    </tr>\n",
       "    <tr>\n",
       "      <th>3</th>\n",
       "      <td>4</td>\n",
       "      <td>Rockabye (feat. Sean Paul &amp; Anne-Marie)</td>\n",
       "      <td>Clean Bandit</td>\n",
       "      <td>2356604</td>\n",
       "      <td>2017-01-01</td>\n",
       "      <td>['pop', 'uk dance', 'dance pop', 'uk funky', 'tropical house', 'pop dance', 'post-teen pop', 'edm']</td>\n",
       "    </tr>\n",
       "    <tr>\n",
       "      <th>4</th>\n",
       "      <td>5</td>\n",
       "      <td>One Dance</td>\n",
       "      <td>Drake</td>\n",
       "      <td>2259887</td>\n",
       "      <td>2017-01-01</td>\n",
       "      <td>['toronto rap', 'canadian pop', 'canadian hip hop', 'rap', 'pop rap', 'hip hop']</td>\n",
       "    </tr>\n",
       "  </tbody>\n",
       "</table>\n",
       "</div>"
      ],
      "text/plain": [
       "   Position                               Track Name            Artist  \\\n",
       "0         1                                  Starboy        The Weeknd   \n",
       "1         2                                   Closer  The Chainsmokers   \n",
       "2         3                          Let Me Love You          DJ Snake   \n",
       "3         4  Rockabye (feat. Sean Paul & Anne-Marie)      Clean Bandit   \n",
       "4         5                                One Dance             Drake   \n",
       "\n",
       "   Streams        Date  \\\n",
       "0  3135625  2017-01-01   \n",
       "1  3015525  2017-01-01   \n",
       "2  2545384  2017-01-01   \n",
       "3  2356604  2017-01-01   \n",
       "4  2259887  2017-01-01   \n",
       "\n",
       "                                                                                                 Genre  \n",
       "0                                                 ['canadian pop', 'canadian contemporary r&b', 'pop']  \n",
       "1                             ['pop', 'pop dance', 'tropical house', 'edm', 'electropop', 'dance pop']  \n",
       "2                               ['pop', 'electronic trap', 'dance pop', 'edm', 'pop dance', 'pop rap']  \n",
       "3  ['pop', 'uk dance', 'dance pop', 'uk funky', 'tropical house', 'pop dance', 'post-teen pop', 'edm']  \n",
       "4                     ['toronto rap', 'canadian pop', 'canadian hip hop', 'rap', 'pop rap', 'hip hop']  "
      ]
     },
     "execution_count": 43,
     "metadata": {},
     "output_type": "execute_result"
    }
   ],
   "source": [
    "data = pd.read_csv('data/data.csv', delimiter='#')\n",
    "data.head()"
   ]
  },
  {
   "cell_type": "code",
   "execution_count": 44,
   "metadata": {},
   "outputs": [
    {
     "data": {
      "text/plain": [
       "(321200, 6)"
      ]
     },
     "execution_count": 44,
     "metadata": {},
     "output_type": "execute_result"
    }
   ],
   "source": [
    "data.shape"
   ]
  },
  {
   "cell_type": "code",
   "execution_count": 45,
   "metadata": {},
   "outputs": [
    {
     "name": "stdout",
     "output_type": "stream",
     "text": [
      "<class 'pandas.core.frame.DataFrame'>\n",
      "RangeIndex: 321200 entries, 0 to 321199\n",
      "Data columns (total 6 columns):\n",
      " #   Column      Non-Null Count   Dtype \n",
      "---  ------      --------------   ----- \n",
      " 0   Position    321200 non-null  int64 \n",
      " 1   Track Name  321182 non-null  object\n",
      " 2   Artist      321182 non-null  object\n",
      " 3   Streams     321200 non-null  int64 \n",
      " 4   Date        321200 non-null  object\n",
      " 5   Genre       321182 non-null  object\n",
      "dtypes: int64(2), object(4)\n",
      "memory usage: 14.7+ MB\n"
     ]
    }
   ],
   "source": [
    "data.info()"
   ]
  },
  {
   "cell_type": "code",
   "execution_count": 46,
   "metadata": {},
   "outputs": [],
   "source": [
    "data['Date'] = pd.to_datetime(data['Date'])"
   ]
  },
  {
   "cell_type": "markdown",
   "metadata": {},
   "source": [
    "los generos estan como string para pandas, pero podemos notar que tiene nulos, tenemos que tratarlos primero"
   ]
  },
  {
   "cell_type": "markdown",
   "metadata": {},
   "source": [
    "## analisis y tratamiento de nulos"
   ]
  },
  {
   "cell_type": "code",
   "execution_count": 47,
   "metadata": {},
   "outputs": [
    {
     "name": "stdout",
     "output_type": "stream",
     "text": [
      "=== Has NaN? ===\n",
      "Position False\n",
      "Track Name True\n",
      "Artist True\n",
      "Streams False\n",
      "Date False\n",
      "Genre True\n"
     ]
    }
   ],
   "source": [
    "print(f\"=== Has NaN? ===\")\n",
    "for col in data.columns:\n",
    "  print(col, data[col].hasnans)"
   ]
  },
  {
   "cell_type": "code",
   "execution_count": 48,
   "metadata": {},
   "outputs": [
    {
     "data": {
      "text/plain": [
       "(18, 6)"
      ]
     },
     "execution_count": 48,
     "metadata": {},
     "output_type": "execute_result"
    }
   ],
   "source": [
    "data[data['Track Name'].isna()].shape"
   ]
  },
  {
   "cell_type": "code",
   "execution_count": 49,
   "metadata": {},
   "outputs": [
    {
     "data": {
      "text/plain": [
       "(18, 6)"
      ]
     },
     "execution_count": 49,
     "metadata": {},
     "output_type": "execute_result"
    }
   ],
   "source": [
    "data[data['Artist'].isna()].shape"
   ]
  },
  {
   "cell_type": "code",
   "execution_count": 50,
   "metadata": {},
   "outputs": [
    {
     "data": {
      "text/plain": [
       "(18, 6)"
      ]
     },
     "execution_count": 50,
     "metadata": {},
     "output_type": "execute_result"
    }
   ],
   "source": [
    "data[data['Genre'].isna()].shape"
   ]
  },
  {
   "cell_type": "markdown",
   "metadata": {},
   "source": [
    "es bastante sospechoso que sean 18 en todas estas columnas"
   ]
  },
  {
   "cell_type": "code",
   "execution_count": 51,
   "metadata": {},
   "outputs": [
    {
     "data": {
      "text/html": [
       "<div>\n",
       "<style scoped>\n",
       "    .dataframe tbody tr th:only-of-type {\n",
       "        vertical-align: middle;\n",
       "    }\n",
       "\n",
       "    .dataframe tbody tr th {\n",
       "        vertical-align: top;\n",
       "    }\n",
       "\n",
       "    .dataframe thead th {\n",
       "        text-align: right;\n",
       "    }\n",
       "</style>\n",
       "<table border=\"1\" class=\"dataframe\">\n",
       "  <thead>\n",
       "    <tr style=\"text-align: right;\">\n",
       "      <th></th>\n",
       "      <th>Position</th>\n",
       "      <th>Track Name</th>\n",
       "      <th>Artist</th>\n",
       "      <th>Streams</th>\n",
       "      <th>Date</th>\n",
       "      <th>Genre</th>\n",
       "    </tr>\n",
       "  </thead>\n",
       "  <tbody>\n",
       "    <tr>\n",
       "      <th>39204</th>\n",
       "      <td>5</td>\n",
       "      <td>NaN</td>\n",
       "      <td>NaN</td>\n",
       "      <td>3568811</td>\n",
       "      <td>2017-07-20</td>\n",
       "      <td>NaN</td>\n",
       "    </tr>\n",
       "    <tr>\n",
       "      <th>39212</th>\n",
       "      <td>13</td>\n",
       "      <td>NaN</td>\n",
       "      <td>NaN</td>\n",
       "      <td>2571960</td>\n",
       "      <td>2017-07-20</td>\n",
       "      <td>NaN</td>\n",
       "    </tr>\n",
       "    <tr>\n",
       "      <th>39229</th>\n",
       "      <td>30</td>\n",
       "      <td>NaN</td>\n",
       "      <td>NaN</td>\n",
       "      <td>1798208</td>\n",
       "      <td>2017-07-20</td>\n",
       "      <td>NaN</td>\n",
       "    </tr>\n",
       "    <tr>\n",
       "      <th>39238</th>\n",
       "      <td>39</td>\n",
       "      <td>NaN</td>\n",
       "      <td>NaN</td>\n",
       "      <td>1520291</td>\n",
       "      <td>2017-07-20</td>\n",
       "      <td>NaN</td>\n",
       "    </tr>\n",
       "    <tr>\n",
       "      <th>39404</th>\n",
       "      <td>5</td>\n",
       "      <td>NaN</td>\n",
       "      <td>NaN</td>\n",
       "      <td>3653533</td>\n",
       "      <td>2017-07-21</td>\n",
       "      <td>NaN</td>\n",
       "    </tr>\n",
       "    <tr>\n",
       "      <th>39415</th>\n",
       "      <td>16</td>\n",
       "      <td>NaN</td>\n",
       "      <td>NaN</td>\n",
       "      <td>2522453</td>\n",
       "      <td>2017-07-21</td>\n",
       "      <td>NaN</td>\n",
       "    </tr>\n",
       "    <tr>\n",
       "      <th>39434</th>\n",
       "      <td>35</td>\n",
       "      <td>NaN</td>\n",
       "      <td>NaN</td>\n",
       "      <td>1798890</td>\n",
       "      <td>2017-07-21</td>\n",
       "      <td>NaN</td>\n",
       "    </tr>\n",
       "    <tr>\n",
       "      <th>39447</th>\n",
       "      <td>48</td>\n",
       "      <td>NaN</td>\n",
       "      <td>NaN</td>\n",
       "      <td>1526955</td>\n",
       "      <td>2017-07-21</td>\n",
       "      <td>NaN</td>\n",
       "    </tr>\n",
       "    <tr>\n",
       "      <th>39700</th>\n",
       "      <td>101</td>\n",
       "      <td>NaN</td>\n",
       "      <td>NaN</td>\n",
       "      <td>747893</td>\n",
       "      <td>2017-07-22</td>\n",
       "      <td>NaN</td>\n",
       "    </tr>\n",
       "    <tr>\n",
       "      <th>39888</th>\n",
       "      <td>89</td>\n",
       "      <td>NaN</td>\n",
       "      <td>NaN</td>\n",
       "      <td>690247</td>\n",
       "      <td>2017-07-23</td>\n",
       "      <td>NaN</td>\n",
       "    </tr>\n",
       "    <tr>\n",
       "      <th>61631</th>\n",
       "      <td>32</td>\n",
       "      <td>NaN</td>\n",
       "      <td>NaN</td>\n",
       "      <td>1496980</td>\n",
       "      <td>2017-11-09</td>\n",
       "      <td>NaN</td>\n",
       "    </tr>\n",
       "    <tr>\n",
       "      <th>61829</th>\n",
       "      <td>30</td>\n",
       "      <td>NaN</td>\n",
       "      <td>NaN</td>\n",
       "      <td>1660185</td>\n",
       "      <td>2017-11-10</td>\n",
       "      <td>NaN</td>\n",
       "    </tr>\n",
       "    <tr>\n",
       "      <th>62025</th>\n",
       "      <td>26</td>\n",
       "      <td>NaN</td>\n",
       "      <td>NaN</td>\n",
       "      <td>1762307</td>\n",
       "      <td>2017-11-11</td>\n",
       "      <td>NaN</td>\n",
       "    </tr>\n",
       "    <tr>\n",
       "      <th>62226</th>\n",
       "      <td>27</td>\n",
       "      <td>NaN</td>\n",
       "      <td>NaN</td>\n",
       "      <td>1544175</td>\n",
       "      <td>2017-11-12</td>\n",
       "      <td>NaN</td>\n",
       "    </tr>\n",
       "    <tr>\n",
       "      <th>62430</th>\n",
       "      <td>31</td>\n",
       "      <td>NaN</td>\n",
       "      <td>NaN</td>\n",
       "      <td>1473457</td>\n",
       "      <td>2017-11-13</td>\n",
       "      <td>NaN</td>\n",
       "    </tr>\n",
       "    <tr>\n",
       "      <th>62629</th>\n",
       "      <td>30</td>\n",
       "      <td>NaN</td>\n",
       "      <td>NaN</td>\n",
       "      <td>1581132</td>\n",
       "      <td>2017-11-14</td>\n",
       "      <td>NaN</td>\n",
       "    </tr>\n",
       "    <tr>\n",
       "      <th>66155</th>\n",
       "      <td>156</td>\n",
       "      <td>NaN</td>\n",
       "      <td>NaN</td>\n",
       "      <td>650496</td>\n",
       "      <td>2017-12-01</td>\n",
       "      <td>NaN</td>\n",
       "    </tr>\n",
       "    <tr>\n",
       "      <th>66180</th>\n",
       "      <td>181</td>\n",
       "      <td>NaN</td>\n",
       "      <td>NaN</td>\n",
       "      <td>588738</td>\n",
       "      <td>2017-12-01</td>\n",
       "      <td>NaN</td>\n",
       "    </tr>\n",
       "  </tbody>\n",
       "</table>\n",
       "</div>"
      ],
      "text/plain": [
       "       Position Track Name Artist  Streams       Date Genre\n",
       "39204         5        NaN    NaN  3568811 2017-07-20   NaN\n",
       "39212        13        NaN    NaN  2571960 2017-07-20   NaN\n",
       "39229        30        NaN    NaN  1798208 2017-07-20   NaN\n",
       "39238        39        NaN    NaN  1520291 2017-07-20   NaN\n",
       "39404         5        NaN    NaN  3653533 2017-07-21   NaN\n",
       "39415        16        NaN    NaN  2522453 2017-07-21   NaN\n",
       "39434        35        NaN    NaN  1798890 2017-07-21   NaN\n",
       "39447        48        NaN    NaN  1526955 2017-07-21   NaN\n",
       "39700       101        NaN    NaN   747893 2017-07-22   NaN\n",
       "39888        89        NaN    NaN   690247 2017-07-23   NaN\n",
       "61631        32        NaN    NaN  1496980 2017-11-09   NaN\n",
       "61829        30        NaN    NaN  1660185 2017-11-10   NaN\n",
       "62025        26        NaN    NaN  1762307 2017-11-11   NaN\n",
       "62226        27        NaN    NaN  1544175 2017-11-12   NaN\n",
       "62430        31        NaN    NaN  1473457 2017-11-13   NaN\n",
       "62629        30        NaN    NaN  1581132 2017-11-14   NaN\n",
       "66155       156        NaN    NaN   650496 2017-12-01   NaN\n",
       "66180       181        NaN    NaN   588738 2017-12-01   NaN"
      ]
     },
     "execution_count": 51,
     "metadata": {},
     "output_type": "execute_result"
    }
   ],
   "source": [
    "data[data['Track Name'].isna() | data['Artist'].isna() | data['Genre'].isna()]"
   ]
  },
  {
   "cell_type": "markdown",
   "metadata": {},
   "source": [
    "Lamentablemente no hay muchos datos que podamos sacar de esto sin las columnas que faltan"
   ]
  },
  {
   "cell_type": "code",
   "execution_count": 52,
   "metadata": {},
   "outputs": [
    {
     "name": "stdout",
     "output_type": "stream",
     "text": [
      "=== Has NaN? ===\n",
      "Position False\n",
      "Track Name False\n",
      "Artist False\n",
      "Streams False\n",
      "Date False\n",
      "Genre False\n"
     ]
    }
   ],
   "source": [
    "remove_data = data[data['Track Name'].isna() | data['Artist'].isna() | data['Genre'].isna()]\n",
    "data.drop(remove_data.index, inplace=True)\n",
    "del remove_data\n",
    "\n",
    "print(f\"=== Has NaN? ===\")\n",
    "for col in data.columns:\n",
    "  print(col, data[col].hasnans)"
   ]
  },
  {
   "cell_type": "markdown",
   "metadata": {},
   "source": [
    "Ahora que ya no hay nulos, trataremos la columna `Genre`"
   ]
  },
  {
   "cell_type": "code",
   "execution_count": 53,
   "metadata": {},
   "outputs": [
    {
     "data": {
      "text/plain": [
       "0                                         [canadian pop, canadian contemporary r&b, pop]\n",
       "1                           [pop, pop dance, tropical house, edm, electropop, dance pop]\n",
       "2                             [pop, electronic trap, dance pop, edm, pop dance, pop rap]\n",
       "3    [pop, uk dance, dance pop, uk funky, tropical house, pop dance, post-teen pop, edm]\n",
       "4                   [toronto rap, canadian pop, canadian hip hop, rap, pop rap, hip hop]\n",
       "Name: Genre, dtype: object"
      ]
     },
     "execution_count": 53,
     "metadata": {},
     "output_type": "execute_result"
    }
   ],
   "source": [
    "import re\n",
    "def process_genres_str(x: str):\n",
    "  # delete ' and \" characters\n",
    "  # delete the first and last character (they are [ and ])\n",
    "  # split by , and then strip each genre\n",
    "  return [i.strip() for i in re.sub(r'\\'|\\\"', '', x)[1:-1].split(',')]\n",
    "\n",
    "data['Genre'] = data['Genre'].apply(process_genres_str)\n",
    "data['Genre'].head()"
   ]
  },
  {
   "cell_type": "markdown",
   "metadata": {},
   "source": [
    "## analisis de columnas"
   ]
  },
  {
   "cell_type": "code",
   "execution_count": 54,
   "metadata": {},
   "outputs": [
    {
     "data": {
      "text/html": [
       "<div>\n",
       "<style scoped>\n",
       "    .dataframe tbody tr th:only-of-type {\n",
       "        vertical-align: middle;\n",
       "    }\n",
       "\n",
       "    .dataframe tbody tr th {\n",
       "        vertical-align: top;\n",
       "    }\n",
       "\n",
       "    .dataframe thead th {\n",
       "        text-align: right;\n",
       "    }\n",
       "</style>\n",
       "<table border=\"1\" class=\"dataframe\">\n",
       "  <thead>\n",
       "    <tr style=\"text-align: right;\">\n",
       "      <th></th>\n",
       "      <th>Position</th>\n",
       "      <th>Streams</th>\n",
       "      <th>Date</th>\n",
       "    </tr>\n",
       "  </thead>\n",
       "  <tbody>\n",
       "    <tr>\n",
       "      <th>count</th>\n",
       "      <td>321182.0000</td>\n",
       "      <td>321182.0000</td>\n",
       "      <td>321182</td>\n",
       "    </tr>\n",
       "    <tr>\n",
       "      <th>mean</th>\n",
       "      <td>100.5028</td>\n",
       "      <td>1188463.9883</td>\n",
       "      <td>2019-03-19 19:07:35.405346816</td>\n",
       "    </tr>\n",
       "    <tr>\n",
       "      <th>min</th>\n",
       "      <td>1.0000</td>\n",
       "      <td>325951.0000</td>\n",
       "      <td>2017-01-01 00:00:00</td>\n",
       "    </tr>\n",
       "    <tr>\n",
       "      <th>25%</th>\n",
       "      <td>51.0000</td>\n",
       "      <td>700483.2500</td>\n",
       "      <td>2018-02-10 00:00:00</td>\n",
       "    </tr>\n",
       "    <tr>\n",
       "      <th>50%</th>\n",
       "      <td>101.0000</td>\n",
       "      <td>895351.0000</td>\n",
       "      <td>2019-03-19 00:00:00</td>\n",
       "    </tr>\n",
       "    <tr>\n",
       "      <th>75%</th>\n",
       "      <td>151.0000</td>\n",
       "      <td>1364059.0000</td>\n",
       "      <td>2020-04-23 00:00:00</td>\n",
       "    </tr>\n",
       "    <tr>\n",
       "      <th>max</th>\n",
       "      <td>200.0000</td>\n",
       "      <td>17223237.0000</td>\n",
       "      <td>2021-07-17 00:00:00</td>\n",
       "    </tr>\n",
       "    <tr>\n",
       "      <th>std</th>\n",
       "      <td>57.7336</td>\n",
       "      <td>839659.5540</td>\n",
       "      <td>NaN</td>\n",
       "    </tr>\n",
       "  </tbody>\n",
       "</table>\n",
       "</div>"
      ],
      "text/plain": [
       "         Position       Streams                           Date\n",
       "count 321182.0000   321182.0000                         321182\n",
       "mean     100.5028  1188463.9883  2019-03-19 19:07:35.405346816\n",
       "min        1.0000   325951.0000            2017-01-01 00:00:00\n",
       "25%       51.0000   700483.2500            2018-02-10 00:00:00\n",
       "50%      101.0000   895351.0000            2019-03-19 00:00:00\n",
       "75%      151.0000  1364059.0000            2020-04-23 00:00:00\n",
       "max      200.0000 17223237.0000            2021-07-17 00:00:00\n",
       "std       57.7336   839659.5540                            NaN"
      ]
     },
     "execution_count": 54,
     "metadata": {},
     "output_type": "execute_result"
    }
   ],
   "source": [
    "data.describe()"
   ]
  },
  {
   "cell_type": "code",
   "execution_count": 55,
   "metadata": {},
   "outputs": [
    {
     "name": "stdout",
     "output_type": "stream",
     "text": [
      "<class 'pandas.core.frame.DataFrame'>\n",
      "Index: 321182 entries, 0 to 321199\n",
      "Data columns (total 6 columns):\n",
      " #   Column      Non-Null Count   Dtype         \n",
      "---  ------      --------------   -----         \n",
      " 0   Position    321182 non-null  int64         \n",
      " 1   Track Name  321182 non-null  object        \n",
      " 2   Artist      321182 non-null  object        \n",
      " 3   Streams     321182 non-null  int64         \n",
      " 4   Date        321182 non-null  datetime64[ns]\n",
      " 5   Genre       321182 non-null  object        \n",
      "dtypes: datetime64[ns](1), int64(2), object(3)\n",
      "memory usage: 17.2+ MB\n"
     ]
    }
   ],
   "source": [
    "data.info()"
   ]
  },
  {
   "cell_type": "code",
   "execution_count": 56,
   "metadata": {},
   "outputs": [
    {
     "data": {
      "text/plain": [
       "((5496,), (1127,))"
      ]
     },
     "execution_count": 56,
     "metadata": {},
     "output_type": "execute_result"
    }
   ],
   "source": [
    "data['Track Name'].unique().shape, data['Artist'].unique().shape"
   ]
  },
  {
   "cell_type": "markdown",
   "metadata": {},
   "source": [
    "5.496 canciones y 1.127 artistas unicos"
   ]
  },
  {
   "cell_type": "code",
   "execution_count": 57,
   "metadata": {},
   "outputs": [
    {
     "data": {
      "text/plain": [
       "Date\n",
       "2017    72182\n",
       "2018    73000\n",
       "2019    73000\n",
       "2020    72000\n",
       "2021    31000\n",
       "Name: count, dtype: int64"
      ]
     },
     "execution_count": 57,
     "metadata": {},
     "output_type": "execute_result"
    }
   ],
   "source": [
    "data['Date'].dt.year.value_counts().sort_index()"
   ]
  },
  {
   "cell_type": "markdown",
   "metadata": {},
   "source": [
    "Tenemos un muy buen balance entre las canciones de 2017 - 2020, en 2021 faltan, pero es esperable dada la fecha maxima encontrada"
   ]
  },
  {
   "cell_type": "code",
   "execution_count": 58,
   "metadata": {},
   "outputs": [
    {
     "data": {
      "text/html": [
       "<div>\n",
       "<style scoped>\n",
       "    .dataframe tbody tr th:only-of-type {\n",
       "        vertical-align: middle;\n",
       "    }\n",
       "\n",
       "    .dataframe tbody tr th {\n",
       "        vertical-align: top;\n",
       "    }\n",
       "\n",
       "    .dataframe thead th {\n",
       "        text-align: right;\n",
       "    }\n",
       "</style>\n",
       "<table border=\"1\" class=\"dataframe\">\n",
       "  <thead>\n",
       "    <tr style=\"text-align: right;\">\n",
       "      <th></th>\n",
       "      <th>count</th>\n",
       "    </tr>\n",
       "  </thead>\n",
       "  <tbody>\n",
       "    <tr>\n",
       "      <th>pop</th>\n",
       "      <td>146708</td>\n",
       "    </tr>\n",
       "    <tr>\n",
       "      <th>dance pop</th>\n",
       "      <td>89558</td>\n",
       "    </tr>\n",
       "    <tr>\n",
       "      <th>rap</th>\n",
       "      <td>66629</td>\n",
       "    </tr>\n",
       "    <tr>\n",
       "      <th>post-teen pop</th>\n",
       "      <td>64118</td>\n",
       "    </tr>\n",
       "    <tr>\n",
       "      <th>pop rap</th>\n",
       "      <td>48831</td>\n",
       "    </tr>\n",
       "  </tbody>\n",
       "</table>\n",
       "</div>"
      ],
      "text/plain": [
       "                count\n",
       "pop            146708\n",
       "dance pop       89558\n",
       "rap             66629\n",
       "post-teen pop   64118\n",
       "pop rap         48831"
      ]
     },
     "execution_count": 58,
     "metadata": {},
     "output_type": "execute_result"
    }
   ],
   "source": [
    "# obtain the genres\n",
    "data_genres = dict()\n",
    "for genre_list in data['Genre']:\n",
    "  for genre in genre_list:\n",
    "    if genre not in data_genres:\n",
    "      data_genres[genre] = 0\n",
    "    data_genres[genre] += 1\n",
    "\n",
    "data_genres = pd.DataFrame.from_dict(data_genres, orient='index', columns=['count'])\n",
    "data_genres.sort_values(by='count', ascending=False, inplace=True)\n",
    "data_genres.head()"
   ]
  },
  {
   "cell_type": "code",
   "execution_count": 59,
   "metadata": {},
   "outputs": [
    {
     "data": {
      "text/plain": [
       "(636, 1)"
      ]
     },
     "execution_count": 59,
     "metadata": {},
     "output_type": "execute_result"
    }
   ],
   "source": [
    "data_genres.shape"
   ]
  },
  {
   "cell_type": "markdown",
   "metadata": {},
   "source": [
    "tenemos 636 generos"
   ]
  }
 ],
 "metadata": {
  "kernelspec": {
   "display_name": "mineria",
   "language": "python",
   "name": "python3"
  },
  "language_info": {
   "codemirror_mode": {
    "name": "ipython",
    "version": 3
   },
   "file_extension": ".py",
   "mimetype": "text/x-python",
   "name": "python",
   "nbconvert_exporter": "python",
   "pygments_lexer": "ipython3",
   "version": "3.12.0"
  },
  "orig_nbformat": 4
 },
 "nbformat": 4,
 "nbformat_minor": 2
}
