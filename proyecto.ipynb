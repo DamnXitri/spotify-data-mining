{
 "cells": [
  {
   "cell_type": "markdown",
   "metadata": {},
   "source": [
    "# Proyecto Grupo 5 - Análisis Musical en Spotify"
   ]
  },
  {
   "cell_type": "markdown",
   "metadata": {},
   "source": [
    "# Librerias y Config"
   ]
  },
  {
   "cell_type": "code",
   "execution_count": 2,
   "metadata": {},
   "outputs": [],
   "source": [
    "import datetime\n",
    "import typing\n",
    "\n",
    "import numpy as np\n",
    "import pandas as pd\n",
    "\n",
    "import seaborn as sns\n",
    "import matplotlib.pyplot as plt"
   ]
  },
  {
   "cell_type": "code",
   "execution_count": 3,
   "metadata": {},
   "outputs": [],
   "source": [
    "pd.set_option('display.max_colwidth', None)\n",
    "pd.set_option('display.max_columns', 50)\n",
    "pd.set_option('display.max_rows', 50)\n",
    "pd.set_option('display.float_format', lambda x: '%.4f' % x)"
   ]
  },
  {
   "cell_type": "markdown",
   "metadata": {},
   "source": [
    "# spotify.sqlite\n",
    "\n",
    "`spotify.sqlite` es el archivo con el que partimos este proyecto, obtenido de [los siguientes datos de kaggle](https://www.kaggle.com/datasets/maltegrosse/8-m-spotify-tracks-genre-audio-features). Contiene millones de canciones junto al analisis de caracteristicas que provee la api de spotify."
   ]
  },
  {
   "cell_type": "markdown",
   "metadata": {},
   "source": [
    "### Cargando datos\n",
    "\n",
    "Estos se encuentran contenidos en una BDD `spotify.sqlite`, la cual tendremos en una carpeta `data`."
   ]
  },
  {
   "cell_type": "code",
   "execution_count": null,
   "metadata": {},
   "outputs": [],
   "source": [
    "import sqlite3\n",
    "\n",
    "# funcion para cargar las tablas de la base de datos en un diccionario de dataframes\n",
    "def load_data():\n",
    "  # conexion a la base de datos\n",
    "  conn = sqlite3.connect(\n",
    "    database='data/spotify.sqlite'\n",
    "  )\n",
    "  # para que no haya problemas con los caracteres especiales\n",
    "  conn.text_factory = lambda b: b.decode(encoding = 'utf-8', errors = 'ignore')\n",
    "  \n",
    "  # lista de tablas de la base de datos\n",
    "  tables = [\n",
    "    \"r_albums_artists\",\n",
    "    \"r_albums_tracks\",\n",
    "    \"r_artist_genre\",\n",
    "    \"r_track_artist\",\n",
    "    \"genres\",\n",
    "    \"albums\",\n",
    "    \"artists\",\n",
    "    \"audio_features\",\n",
    "    \"tracks\",\n",
    "  ]\n",
    "\n",
    "  # diccionario de dataframes\n",
    "  dataframes : typing.Dict[str, pd.DataFrame] = {}\n",
    "  \n",
    "  # cargar cada tabla en un dataframe\n",
    "  for table in tables:\n",
    "    dataframes[table] = pd.read_sql_query(\n",
    "      sql = f\"SELECT * FROM {table}\",\n",
    "      con = conn\n",
    "    )\n",
    "  \n",
    "  # cerrar la conexion a la base de datos\n",
    "  conn.close()\n",
    "\n",
    "  return dataframes\n",
    "\n",
    "# ejecutar la funcion\n",
    "dataframes : typing.Dict[str, pd.DataFrame] = load_data()\n",
    "[\n",
    "  tracks, artists, albums, genres, audio_features, \n",
    "  r_albums_artists, r_albums_tracks, r_artist_genre, r_track_artist\n",
    "] = [\n",
    "  dataframes['tracks'], dataframes['artists'], dataframes['albums'], dataframes['genres'], dataframes['audio_features'] ,\n",
    "  dataframes['r_albums_artists'], dataframes['r_albums_tracks'], dataframes['r_artist_genre'], dataframes['r_track_artist']\n",
    "]\n",
    "# ver las tablas cargadas\n",
    "dataframes.keys()"
   ]
  },
  {
   "cell_type": "markdown",
   "metadata": {},
   "source": [
    "### Formato de las tablas"
   ]
  },
  {
   "cell_type": "code",
   "execution_count": null,
   "metadata": {},
   "outputs": [],
   "source": [
    "info_df = pd.DataFrame()\n",
    "info_df['tabla'] = dataframes.keys()\n",
    "info_df['filas'] = [dataframes[i].shape[0] for i in dataframes.keys()]\n",
    "info_df['columnas'] = [dataframes[i].shape[1] for i in dataframes.keys()]\n",
    "info_df['nombre_columnas'] = [list(dataframes[i].columns) for i in dataframes.keys()]\n",
    "\n",
    "info_df.set_index('tabla', inplace=True)\n",
    "info_df"
   ]
  },
  {
   "cell_type": "markdown",
   "metadata": {},
   "source": [
    "### Estadisticas y exploración inicial"
   ]
  },
  {
   "cell_type": "markdown",
   "metadata": {},
   "source": [
    "Las tablas `r_albums_artists`, `r_albums_tracks`, `r_artist_genre` solamente contienen ids, por lo que no contienen estadisticas interesantes"
   ]
  },
  {
   "cell_type": "markdown",
   "metadata": {},
   "source": [
    "#### albums"
   ]
  },
  {
   "cell_type": "code",
   "execution_count": null,
   "metadata": {},
   "outputs": [],
   "source": [
    "albums.head()"
   ]
  },
  {
   "cell_type": "code",
   "execution_count": null,
   "metadata": {},
   "outputs": [],
   "source": [
    "albums.shape"
   ]
  },
  {
   "cell_type": "code",
   "execution_count": null,
   "metadata": {},
   "outputs": [],
   "source": [
    "albums.info()"
   ]
  },
  {
   "cell_type": "code",
   "execution_count": null,
   "metadata": {},
   "outputs": [],
   "source": [
    "albums.describe()"
   ]
  },
  {
   "cell_type": "markdown",
   "metadata": {},
   "source": [
    "En base a las celdas anteriores, consideramos: \n",
    "\n",
    "- Formalizar `release_date`, estan en formato timestamp unix, por lo que seria conveniente tener esa informacion como fecha. \\\n",
    "  Ademas debemos tener cuidado con los timestamps negativos, los que nos pueden traer problemas (algunos van al año 0)\n",
    "- Analizar si la popularidad del album es importante, pues 75% de sus valores es 0 en un rango de 0 a 100\n"
   ]
  },
  {
   "cell_type": "code",
   "execution_count": null,
   "metadata": {},
   "outputs": [],
   "source": [
    "albums['album_type'].value_counts()"
   ]
  },
  {
   "cell_type": "code",
   "execution_count": null,
   "metadata": {},
   "outputs": [],
   "source": [
    "albums['album_group'].value_counts()"
   ]
  },
  {
   "cell_type": "code",
   "execution_count": null,
   "metadata": {},
   "outputs": [],
   "source": [
    "(albums['album_group'] == '').value_counts()"
   ]
  },
  {
   "cell_type": "markdown",
   "metadata": {},
   "source": [
    "En base a las celdas anteriores, consideramos: \n",
    "\n",
    "- `album_group`, que solo contiene strings vacios, es candidato a eliminar."
   ]
  },
  {
   "cell_type": "markdown",
   "metadata": {},
   "source": [
    "#### artists"
   ]
  },
  {
   "cell_type": "code",
   "execution_count": null,
   "metadata": {},
   "outputs": [],
   "source": [
    "artists.head()"
   ]
  },
  {
   "cell_type": "code",
   "execution_count": null,
   "metadata": {},
   "outputs": [],
   "source": [
    "artists.shape"
   ]
  },
  {
   "cell_type": "code",
   "execution_count": null,
   "metadata": {},
   "outputs": [],
   "source": [
    "artists.info()"
   ]
  },
  {
   "cell_type": "code",
   "execution_count": null,
   "metadata": {},
   "outputs": [],
   "source": [
    "artists.describe()"
   ]
  },
  {
   "cell_type": "markdown",
   "metadata": {},
   "source": [
    "Aqui no consideramos modificar los datos. Pero hay que considerar un analisis mas en profundidad de las columnas de popularidad y seguidores."
   ]
  },
  {
   "cell_type": "markdown",
   "metadata": {},
   "source": [
    "#### tracks"
   ]
  },
  {
   "cell_type": "code",
   "execution_count": null,
   "metadata": {},
   "outputs": [],
   "source": [
    "tracks.head()"
   ]
  },
  {
   "cell_type": "code",
   "execution_count": null,
   "metadata": {},
   "outputs": [],
   "source": [
    "tracks.shape"
   ]
  },
  {
   "cell_type": "code",
   "execution_count": null,
   "metadata": {},
   "outputs": [],
   "source": [
    "tracks.info()"
   ]
  },
  {
   "cell_type": "code",
   "execution_count": null,
   "metadata": {},
   "outputs": [],
   "source": [
    "tracks.describe()"
   ]
  },
  {
   "cell_type": "markdown",
   "metadata": {},
   "source": [
    "A partir de las celdas anteriores, consideramos:\n",
    "\n",
    "- `disc_number` es candidato a eliminar, pues tiene poca varianza y algunos outliers.\n",
    "- Analizar si `track_number` puede ser una columna util o no. Parece tener outliers (ver `max`).\n",
    "- `is_playable` es candidato a eliminar, pues su count indica que muchos de sus valores son nulos."
   ]
  },
  {
   "cell_type": "code",
   "execution_count": null,
   "metadata": {},
   "outputs": [],
   "source": [
    "tracks['disc_number'].value_counts()"
   ]
  },
  {
   "cell_type": "code",
   "execution_count": null,
   "metadata": {},
   "outputs": [],
   "source": [
    "tracks['disc_number'].max()"
   ]
  },
  {
   "cell_type": "code",
   "execution_count": null,
   "metadata": {},
   "outputs": [],
   "source": [
    "tracks['disc_number'].var()"
   ]
  },
  {
   "cell_type": "code",
   "execution_count": null,
   "metadata": {},
   "outputs": [],
   "source": [
    "tracks['track_number'].value_counts()"
   ]
  },
  {
   "cell_type": "markdown",
   "metadata": {},
   "source": [
    "OPAAA, que paso ahi?\n",
    "investiguemos 😎"
   ]
  },
  {
   "cell_type": "code",
   "execution_count": null,
   "metadata": {},
   "outputs": [],
   "source": [
    "tracks['track_number'].max()"
   ]
  },
  {
   "cell_type": "code",
   "execution_count": null,
   "metadata": {},
   "outputs": [],
   "source": [
    "tracks[tracks['track_number'] >= 1000].sample(5)"
   ]
  },
  {
   "cell_type": "markdown",
   "metadata": {},
   "source": [
    "Curioso, estas canciones estan relacionadas y tienen su numero de **_Chapter_** como `track_number`, esto nos genera una serie de outliers que posiblemente van de track number 1 a 1522. Extendamos la busqueda."
   ]
  },
  {
   "cell_type": "code",
   "execution_count": null,
   "metadata": {},
   "outputs": [],
   "source": [
    "# obtenemos todos los tracks del album que contiene el track con el numero mas alto\n",
    "r_albums_tracks[\n",
    "  r_albums_tracks['album_id'] == r_albums_tracks[\n",
    "    # album que tiene el track con el numero mas alto\n",
    "    r_albums_tracks['track_id'] == tracks[\n",
    "      # track con el numero mas alto\n",
    "      tracks['track_number'] == tracks['track_number'].max()\n",
    "    ]['id'].values[0]\n",
    "  ]['album_id'].values[0]\n",
    "].shape"
   ]
  },
  {
   "cell_type": "markdown",
   "metadata": {},
   "source": [
    "Exactamente lo que pensabamos, tenemos nuestro primer outlier. Utilizemos `track_number` como filtro para ver si encontramos otros."
   ]
  },
  {
   "cell_type": "code",
   "execution_count": null,
   "metadata": {},
   "outputs": [],
   "source": [
    "tracks[tracks['track_number'] >= 500].sample(5)"
   ]
  },
  {
   "cell_type": "markdown",
   "metadata": {},
   "source": [
    "En efecto, Aparece nuevamente el conde de montecristo, pero ademas comenzamos a encontrar audios de la biblia (?), efectos de sonido y canciones de musica clasica (posiblemente de albumes recopilatorios).\n",
    "\n",
    "En base a esto podemos definir que `track_number` nos puede servir como filtro a todos estos datos que no nos sean utiles y que quizas podemos excluir los albumes recopilatorios de los datos.\n",
    "\n",
    "Finalmente, hay que decidir donde pondremos nuestro limite a considerar y si excluimos los albumes recopilatorios de los datos."
   ]
  },
  {
   "cell_type": "code",
   "execution_count": null,
   "metadata": {},
   "outputs": [],
   "source": [
    "tracks['is_playable'].value_counts()"
   ]
  },
  {
   "cell_type": "markdown",
   "metadata": {},
   "source": [
    "Ya habiamos visto que a esta columna le faltaban muchos datos, comprobemos cuantos son nulos."
   ]
  },
  {
   "cell_type": "code",
   "execution_count": null,
   "metadata": {},
   "outputs": [],
   "source": [
    "tracks[tracks['is_playable'].isna()].shape"
   ]
  },
  {
   "cell_type": "markdown",
   "metadata": {},
   "source": [
    "Hay muchos nulos en esta columna!!! Claramente es eliminable."
   ]
  },
  {
   "cell_type": "code",
   "execution_count": null,
   "metadata": {},
   "outputs": [],
   "source": [
    "tracks['explicit'].value_counts()"
   ]
  },
  {
   "cell_type": "code",
   "execution_count": null,
   "metadata": {},
   "outputs": [],
   "source": [
    "tracks['duration'].value_counts()"
   ]
  },
  {
   "cell_type": "markdown",
   "metadata": {},
   "source": [
    "La duracion tambien evidencia presencia de algunos outliers, sin embargo, conviene excluir a los albumes recopilatorios del analisis y verificar nuevamente."
   ]
  },
  {
   "cell_type": "markdown",
   "metadata": {},
   "source": [
    "#### audio_features"
   ]
  },
  {
   "cell_type": "code",
   "execution_count": null,
   "metadata": {},
   "outputs": [],
   "source": [
    "audio_features.head()"
   ]
  },
  {
   "cell_type": "code",
   "execution_count": null,
   "metadata": {},
   "outputs": [],
   "source": [
    "audio_features.shape"
   ]
  },
  {
   "cell_type": "code",
   "execution_count": null,
   "metadata": {},
   "outputs": [],
   "source": [
    "audio_features.info()"
   ]
  },
  {
   "cell_type": "code",
   "execution_count": null,
   "metadata": {},
   "outputs": [],
   "source": [
    "audio_features.describe()"
   ]
  },
  {
   "cell_type": "markdown",
   "metadata": {},
   "source": [
    "Aqui solo eliminaremos `analysis_url` (no nos sirve sin un token), pues es la tabla con la informacion de mayor interes."
   ]
  },
  {
   "cell_type": "markdown",
   "metadata": {},
   "source": [
    "#### genres"
   ]
  },
  {
   "cell_type": "code",
   "execution_count": null,
   "metadata": {},
   "outputs": [],
   "source": [
    "genres.head()"
   ]
  },
  {
   "cell_type": "code",
   "execution_count": null,
   "metadata": {},
   "outputs": [],
   "source": [
    "genres.shape"
   ]
  },
  {
   "cell_type": "code",
   "execution_count": null,
   "metadata": {},
   "outputs": [],
   "source": [
    "genres.info()"
   ]
  },
  {
   "cell_type": "code",
   "execution_count": null,
   "metadata": {},
   "outputs": [],
   "source": [
    "genres.value_counts()"
   ]
  },
  {
   "cell_type": "markdown",
   "metadata": {},
   "source": [
    "Esta tabla va relacionada al artista, no a las canciones o albumes, por lo que hay que considerar si es realmente util o no."
   ]
  },
  {
   "cell_type": "markdown",
   "metadata": {},
   "source": [
    "### Eliminar y modificar columnas"
   ]
  },
  {
   "cell_type": "markdown",
   "metadata": {},
   "source": [
    "#### albums"
   ]
  },
  {
   "cell_type": "markdown",
   "metadata": {},
   "source": [
    "Inicialmente, modificaremos `release_date` para que sea en formato de fecha y no timestamp, luego eliminamos `album_group` debido a que todos son valores vacios."
   ]
  },
  {
   "cell_type": "code",
   "execution_count": null,
   "metadata": {},
   "outputs": [],
   "source": [
    "# debido a limitaciones en los timestamps de pandas, utilizamos la clase datetime de python (la columna será de tipo object para pandas)\n",
    "# no tan fun fact: pd.Timestamp.min es el 1 de enero de 1677 :(\n",
    "\n",
    "# Para rematar, fromtimestamp() no acepta fechas negativas, por lo que tenemos que hacer un workaround con timedelta\n",
    "\n",
    "# funcion para convertir un timestamp a una fecha\n",
    "def convert_timestamp_to_date(timestamp):\n",
    "  try:\n",
    "    # pasamos el timestamp a dias y luego a fecha\n",
    "    return (datetime.datetime.fromtimestamp(0) + datetime.timedelta(days = timestamp / 1000 / 60 / 60 / 24)).date()\n",
    "  # existe un limite para las fechas negativas, lo que nos da un error de OverflowError\n",
    "  except OverflowError:\n",
    "    # si el timestamp es positivo, devolvemos la fecha maxima\n",
    "    if timestamp > 0:\n",
    "      return datetime.datetime.max.date()\n",
    "    # si el timestamp es negativo, devolvemos la fecha minima\n",
    "    else:\n",
    "      return datetime.datetime.min.date()"
   ]
  },
  {
   "cell_type": "code",
   "execution_count": null,
   "metadata": {},
   "outputs": [],
   "source": [
    "# pasar release_date de timestamp a datetime\n",
    "albums['album_release_date'] = albums['release_date'].apply(\n",
    "  lambda x: convert_timestamp_to_date(x)\n",
    ")\n",
    "albums['album_release_year'] = albums['album_release_date'].apply(\n",
    "  lambda x: x.year\n",
    ")\n",
    "albums['album_release_month'] = albums['album_release_date'].apply(\n",
    "  lambda x: x.month\n",
    ")\n",
    "# OJO: probablemente no sea muy preciso\n",
    "albums['album_release_day'] = albums['album_release_date'].apply(\n",
    "  lambda x: x.day\n",
    ")\n",
    "\n",
    "albums.drop(columns=[\n",
    "  'album_group', 'release_date',\n",
    "], inplace=True)\n",
    "albums.rename(columns={\n",
    "  'id': 'album_id',\n",
    "  'name': 'album_name',\n",
    "  'popularity': 'album_popularity',\n",
    "}, inplace=True)\n",
    "albums.head()"
   ]
  },
  {
   "cell_type": "code",
   "execution_count": null,
   "metadata": {},
   "outputs": [],
   "source": [
    "albums.describe().apply(lambda s: s.apply(lambda x: format(x, '.0f')))"
   ]
  },
  {
   "cell_type": "markdown",
   "metadata": {},
   "source": [
    "#### artists"
   ]
  },
  {
   "cell_type": "code",
   "execution_count": null,
   "metadata": {},
   "outputs": [],
   "source": [
    "artists.rename(columns={\n",
    "  'id': 'artist_id',\n",
    "  'name': 'artist_name',\n",
    "  'popularity': 'artist_popularity',\n",
    "  'followers': 'artist_followers',\n",
    "}, inplace=True)\n",
    "artists.head()"
   ]
  },
  {
   "cell_type": "markdown",
   "metadata": {},
   "source": [
    "#### tracks"
   ]
  },
  {
   "cell_type": "markdown",
   "metadata": {},
   "source": [
    "Inicialmente, consideramos eliminar `disc_number` por baja varianza y `is_playable` por muchos valores nulos.\n",
    "Ademas cambiaremos algunos nombres de columnas."
   ]
  },
  {
   "cell_type": "code",
   "execution_count": null,
   "metadata": {},
   "outputs": [],
   "source": [
    "tracks.drop(columns=[\n",
    "  'preview_url', 'disc_number', 'is_playable'\n",
    "], inplace=True)\n",
    "tracks.rename(columns={\n",
    "  'id': 'track_id',\n",
    "  'name': 'track_name',\n",
    "  'duration': 'track_duration_ms',\n",
    "  'track_number': 'track_number_in_album',\n",
    "  'explicit': 'track_explicit',\n",
    "  'popularity': 'track_popularity'\n",
    "}, inplace=True)\n",
    "tracks.head()"
   ]
  },
  {
   "cell_type": "markdown",
   "metadata": {},
   "source": [
    "#### audio_features"
   ]
  },
  {
   "cell_type": "code",
   "execution_count": null,
   "metadata": {},
   "outputs": [],
   "source": [
    "audio_features.drop(columns=[\n",
    "  'analysis_url',\n",
    "], inplace=True)\n",
    "audio_features.rename(columns={\n",
    "  'id': 'audio_feature_id',\n",
    "  'duration_ms': 'feature_duration_ms',\n",
    "}, inplace=True)\n",
    "audio_features.head()"
   ]
  },
  {
   "cell_type": "markdown",
   "metadata": {},
   "source": [
    "### Mergear tablas"
   ]
  },
  {
   "cell_type": "code",
   "execution_count": null,
   "metadata": {},
   "outputs": [],
   "source": [
    "merged_data = pd.merge(\n",
    "  left = r_albums_tracks,\n",
    "  right = tracks,\n",
    "  how = 'inner',\n",
    "  on = 'track_id',\n",
    ")\n",
    "\n",
    "merged_data = pd.merge(\n",
    "  left = merged_data,\n",
    "  right = albums,\n",
    "  how = 'inner',\n",
    "  on = 'album_id',\n",
    ")\n",
    "\n",
    "merged_data = pd.merge(\n",
    "  left = r_albums_artists,\n",
    "  right = merged_data,\n",
    "  how = 'inner',\n",
    "  on = 'album_id',\n",
    ")\n",
    "\n",
    "merged_data = pd.merge(\n",
    "  left = merged_data,\n",
    "  right = artists,\n",
    "  how = 'inner',\n",
    "  on = 'artist_id',\n",
    ")\n",
    "\n",
    "merged_data = pd.merge(\n",
    "  left = merged_data,\n",
    "  right = audio_features,\n",
    "  how = 'inner',\n",
    "  on = 'audio_feature_id',\n",
    ")"
   ]
  },
  {
   "cell_type": "code",
   "execution_count": null,
   "metadata": {},
   "outputs": [],
   "source": [
    "merged_data.head()"
   ]
  },
  {
   "cell_type": "code",
   "execution_count": null,
   "metadata": {},
   "outputs": [],
   "source": [
    "merged_data.shape"
   ]
  },
  {
   "cell_type": "code",
   "execution_count": null,
   "metadata": {},
   "outputs": [],
   "source": [
    "merged_data.info()"
   ]
  },
  {
   "cell_type": "markdown",
   "metadata": {},
   "source": [
    "### Limitar/Filtrar data mergeada"
   ]
  },
  {
   "cell_type": "markdown",
   "metadata": {},
   "source": [
    "Dentro de las modificaciones para el hito 2, consideramos limitar el periodo, la duracion y eliminar los albumes recopilatorios. \\\n",
    "Además, aqui tambien eliminaremos completamente los albumes que posean más de 30 canciones, eliminando uno de los casos que vimos durante la exploración."
   ]
  },
  {
   "cell_type": "code",
   "execution_count": null,
   "metadata": {},
   "outputs": [],
   "source": [
    "MIN_YEAR_TO_CONSIDER = 2000\n",
    "MAX_YEAR_TO_CONSIDER = 2019\n",
    "MIN_TRACK_DURATION = 1 * 60 * 1000 # 1 minuto como minimo\n",
    "MAX_TRACK_DURATION = 6 * 60 * 1000 # 6 minutos como maximo\n",
    "MAX_TRACK_NUMBER_IN_ALBUM = 30 # 30 canciones como maximo en un album (si no se cumple, se eliminan todas las canciones del album)\n",
    "DELETED_TYPES = ['compilation']\n",
    "\n",
    "merged_data = merged_data[\n",
    "  (merged_data['album_release_year'] >= MIN_YEAR_TO_CONSIDER) &\n",
    "  (merged_data['album_release_year'] <= MAX_YEAR_TO_CONSIDER) &\n",
    "  (merged_data['track_duration_ms'] >= MIN_TRACK_DURATION) &\n",
    "  (merged_data['track_duration_ms'] <= MAX_TRACK_DURATION) &\n",
    "  (~merged_data['album_type'].isin(DELETED_TYPES))\n",
    "]\n",
    "\n",
    "removable_albums_ids = merged_data[\n",
    "  merged_data['track_number_in_album'] > MAX_TRACK_NUMBER_IN_ALBUM\n",
    "]['album_id'].unique()\n",
    "\n",
    "merged_data = merged_data[\n",
    "  ~merged_data['album_id'].isin(removable_albums_ids)\n",
    "]\n",
    "\n",
    "merged_data.drop_duplicates(subset=[\n",
    "  'track_id', 'artist_id', 'album_id'\n",
    "], inplace=True)\n"
   ]
  },
  {
   "cell_type": "code",
   "execution_count": null,
   "metadata": {},
   "outputs": [],
   "source": [
    "merged_data.info()"
   ]
  },
  {
   "cell_type": "markdown",
   "metadata": {},
   "source": [
    "### Guardado de datos en un csv"
   ]
  },
  {
   "cell_type": "code",
   "execution_count": null,
   "metadata": {},
   "outputs": [],
   "source": [
    "# cambiar estos valores para guardar el dataframe\n",
    "SAVE = False\n",
    "if SAVE:\n",
    "  merged_data.to_csv('data/merged_data.csv', index=False)"
   ]
  },
  {
   "cell_type": "markdown",
   "metadata": {},
   "source": [
    "## Graficando"
   ]
  },
  {
   "cell_type": "code",
   "execution_count": null,
   "metadata": {},
   "outputs": [],
   "source": [
    "# tomamos una muestra de los datos\n",
    "fraction = 0.4\n",
    "sampled_data = merged_data.sample(frac=fraction, random_state=42)\n",
    "sampled_data.shape"
   ]
  },
  {
   "cell_type": "code",
   "execution_count": null,
   "metadata": {},
   "outputs": [],
   "source": [
    "sampled_data['track_duration_s'] = sampled_data['track_duration_ms'] / 1000"
   ]
  },
  {
   "cell_type": "code",
   "execution_count": null,
   "metadata": {},
   "outputs": [],
   "source": [
    "# histograma de la duracion de las canciones\n",
    "sns.histplot(\n",
    "  data = sampled_data,\n",
    "  x = 'track_duration_s',\n",
    "  bins = 100,\n",
    "  kde = True,\n",
    ")"
   ]
  },
  {
   "cell_type": "code",
   "execution_count": null,
   "metadata": {},
   "outputs": [],
   "source": [
    "sns.histplot(\n",
    "  data = sampled_data,\n",
    "  x = 'track_popularity',\n",
    "  bins = 25,\n",
    "  kde = True,\n",
    ")\n"
   ]
  },
  {
   "cell_type": "code",
   "execution_count": null,
   "metadata": {},
   "outputs": [],
   "source": [
    "# plot release year\n",
    "sns.histplot(\n",
    "  data = sampled_data,\n",
    "  x = 'album_release_year',\n",
    "  bins = 20,\n",
    ")"
   ]
  },
  {
   "cell_type": "code",
   "execution_count": null,
   "metadata": {},
   "outputs": [],
   "source": [
    "\n",
    "# plot multiples histogramas (13 columnas/features)\n",
    "fig, axs = plt.subplots(4, 4, figsize=(20, 20))\n",
    "\n",
    "columns = sampled_data.columns[-13:]\n",
    "for i, col in enumerate(columns):\n",
    "  sns.histplot(\n",
    "    data = sampled_data,\n",
    "    x = col,\n",
    "    ax = axs[i // 4][i % 4],\n",
    "    bins = 25,\n",
    "    kde = True,\n",
    "  )\n"
   ]
  },
  {
   "cell_type": "markdown",
   "metadata": {},
   "source": [
    "# merged_data.csv\n",
    "\n",
    "`merged_data.csv` es el archivo resultante del procesamiento hecho en la seccion de `spotify.sqlite`, contiene todos los datos que consideramos luego de limpieza y seleccion de sus registros en un solo dataframe."
   ]
  },
  {
   "cell_type": "markdown",
   "metadata": {},
   "source": [
    "## carga"
   ]
  },
  {
   "cell_type": "code",
   "execution_count": 5,
   "metadata": {},
   "outputs": [
    {
     "data": {
      "text/html": [
       "<div>\n",
       "<style scoped>\n",
       "    .dataframe tbody tr th:only-of-type {\n",
       "        vertical-align: middle;\n",
       "    }\n",
       "\n",
       "    .dataframe tbody tr th {\n",
       "        vertical-align: top;\n",
       "    }\n",
       "\n",
       "    .dataframe thead th {\n",
       "        text-align: right;\n",
       "    }\n",
       "</style>\n",
       "<table border=\"1\" class=\"dataframe\">\n",
       "  <thead>\n",
       "    <tr style=\"text-align: right;\">\n",
       "      <th></th>\n",
       "      <th>album_id</th>\n",
       "      <th>artist_id</th>\n",
       "      <th>track_id</th>\n",
       "      <th>track_duration_ms</th>\n",
       "      <th>track_explicit</th>\n",
       "      <th>audio_feature_id</th>\n",
       "      <th>track_name</th>\n",
       "      <th>track_number_in_album</th>\n",
       "      <th>track_popularity</th>\n",
       "      <th>album_name</th>\n",
       "      <th>album_type</th>\n",
       "      <th>album_popularity</th>\n",
       "      <th>album_release_date</th>\n",
       "      <th>album_release_year</th>\n",
       "      <th>album_release_month</th>\n",
       "      <th>album_release_day</th>\n",
       "      <th>artist_name</th>\n",
       "      <th>artist_popularity</th>\n",
       "      <th>artist_followers</th>\n",
       "      <th>acousticness</th>\n",
       "      <th>danceability</th>\n",
       "      <th>duration</th>\n",
       "      <th>energy</th>\n",
       "      <th>instrumentalness</th>\n",
       "      <th>key</th>\n",
       "      <th>liveness</th>\n",
       "      <th>loudness</th>\n",
       "      <th>mode</th>\n",
       "      <th>speechiness</th>\n",
       "      <th>tempo</th>\n",
       "      <th>time_signature</th>\n",
       "      <th>valence</th>\n",
       "    </tr>\n",
       "  </thead>\n",
       "  <tbody>\n",
       "    <tr>\n",
       "      <th>0</th>\n",
       "      <td>1GZik94t53uY8oIANFq002</td>\n",
       "      <td>3VBpsrUi2vV7Uj87ONHu7Z</td>\n",
       "      <td>2XpZPnrvDqpKcNcfv6fviu</td>\n",
       "      <td>208759</td>\n",
       "      <td>0</td>\n",
       "      <td>2XpZPnrvDqpKcNcfv6fviu</td>\n",
       "      <td>I Put A Spell On You</td>\n",
       "      <td>1</td>\n",
       "      <td>28</td>\n",
       "      <td>My Little Shop Of Horrors</td>\n",
       "      <td>album</td>\n",
       "      <td>29</td>\n",
       "      <td>2006-08-16</td>\n",
       "      <td>2006</td>\n",
       "      <td>8</td>\n",
       "      <td>16</td>\n",
       "      <td>Screamin' Jay Hawkins</td>\n",
       "      <td>45</td>\n",
       "      <td>75914</td>\n",
       "      <td>0.3090</td>\n",
       "      <td>0.6010</td>\n",
       "      <td>208760</td>\n",
       "      <td>0.5990</td>\n",
       "      <td>0.0007</td>\n",
       "      <td>5</td>\n",
       "      <td>0.8230</td>\n",
       "      <td>-12.3040</td>\n",
       "      <td>0</td>\n",
       "      <td>0.2630</td>\n",
       "      <td>133.0850</td>\n",
       "      <td>3</td>\n",
       "      <td>0.6750</td>\n",
       "    </tr>\n",
       "    <tr>\n",
       "      <th>1</th>\n",
       "      <td>1GZik94t53uY8oIANFq002</td>\n",
       "      <td>3VBpsrUi2vV7Uj87ONHu7Z</td>\n",
       "      <td>1GZik94t53uY8oIANFq002</td>\n",
       "      <td>254879</td>\n",
       "      <td>0</td>\n",
       "      <td>1GZik94t53uY8oIANFq002</td>\n",
       "      <td>Portrait Of A Man</td>\n",
       "      <td>2</td>\n",
       "      <td>25</td>\n",
       "      <td>My Little Shop Of Horrors</td>\n",
       "      <td>album</td>\n",
       "      <td>29</td>\n",
       "      <td>2006-08-16</td>\n",
       "      <td>2006</td>\n",
       "      <td>8</td>\n",
       "      <td>16</td>\n",
       "      <td>Screamin' Jay Hawkins</td>\n",
       "      <td>45</td>\n",
       "      <td>75914</td>\n",
       "      <td>0.5730</td>\n",
       "      <td>0.4460</td>\n",
       "      <td>254880</td>\n",
       "      <td>0.2080</td>\n",
       "      <td>0.0167</td>\n",
       "      <td>1</td>\n",
       "      <td>0.1270</td>\n",
       "      <td>-14.1970</td>\n",
       "      <td>1</td>\n",
       "      <td>0.0325</td>\n",
       "      <td>145.9490</td>\n",
       "      <td>3</td>\n",
       "      <td>0.2780</td>\n",
       "    </tr>\n",
       "    <tr>\n",
       "      <th>2</th>\n",
       "      <td>1GZik94t53uY8oIANFq002</td>\n",
       "      <td>3VBpsrUi2vV7Uj87ONHu7Z</td>\n",
       "      <td>6xhWtLM0DoHRbf7kbU9ZID</td>\n",
       "      <td>297879</td>\n",
       "      <td>0</td>\n",
       "      <td>6xhWtLM0DoHRbf7kbU9ZID</td>\n",
       "      <td>What's Gonna Happen On The 8th Day</td>\n",
       "      <td>3</td>\n",
       "      <td>4</td>\n",
       "      <td>My Little Shop Of Horrors</td>\n",
       "      <td>album</td>\n",
       "      <td>29</td>\n",
       "      <td>2006-08-16</td>\n",
       "      <td>2006</td>\n",
       "      <td>8</td>\n",
       "      <td>16</td>\n",
       "      <td>Screamin' Jay Hawkins</td>\n",
       "      <td>45</td>\n",
       "      <td>75914</td>\n",
       "      <td>0.6410</td>\n",
       "      <td>0.5780</td>\n",
       "      <td>297880</td>\n",
       "      <td>0.5070</td>\n",
       "      <td>0.0000</td>\n",
       "      <td>10</td>\n",
       "      <td>0.3330</td>\n",
       "      <td>-11.6940</td>\n",
       "      <td>1</td>\n",
       "      <td>0.0895</td>\n",
       "      <td>114.6480</td>\n",
       "      <td>3</td>\n",
       "      <td>0.5140</td>\n",
       "    </tr>\n",
       "    <tr>\n",
       "      <th>3</th>\n",
       "      <td>1GZik94t53uY8oIANFq002</td>\n",
       "      <td>3VBpsrUi2vV7Uj87ONHu7Z</td>\n",
       "      <td>2R1Eime7xs6QeBmbzWW2qH</td>\n",
       "      <td>168519</td>\n",
       "      <td>0</td>\n",
       "      <td>2R1Eime7xs6QeBmbzWW2qH</td>\n",
       "      <td>We Love</td>\n",
       "      <td>4</td>\n",
       "      <td>3</td>\n",
       "      <td>My Little Shop Of Horrors</td>\n",
       "      <td>album</td>\n",
       "      <td>29</td>\n",
       "      <td>2006-08-16</td>\n",
       "      <td>2006</td>\n",
       "      <td>8</td>\n",
       "      <td>16</td>\n",
       "      <td>Screamin' Jay Hawkins</td>\n",
       "      <td>45</td>\n",
       "      <td>75914</td>\n",
       "      <td>0.5720</td>\n",
       "      <td>0.3730</td>\n",
       "      <td>168520</td>\n",
       "      <td>0.4020</td>\n",
       "      <td>0.0000</td>\n",
       "      <td>0</td>\n",
       "      <td>0.1280</td>\n",
       "      <td>-12.6550</td>\n",
       "      <td>1</td>\n",
       "      <td>0.0427</td>\n",
       "      <td>174.1390</td>\n",
       "      <td>3</td>\n",
       "      <td>0.4010</td>\n",
       "    </tr>\n",
       "    <tr>\n",
       "      <th>4</th>\n",
       "      <td>1GZik94t53uY8oIANFq002</td>\n",
       "      <td>3VBpsrUi2vV7Uj87ONHu7Z</td>\n",
       "      <td>5FvPZyLxWlBqGbZmzDW2Wr</td>\n",
       "      <td>226092</td>\n",
       "      <td>0</td>\n",
       "      <td>5FvPZyLxWlBqGbZmzDW2Wr</td>\n",
       "      <td>Please Don't Leave Me</td>\n",
       "      <td>5</td>\n",
       "      <td>3</td>\n",
       "      <td>My Little Shop Of Horrors</td>\n",
       "      <td>album</td>\n",
       "      <td>29</td>\n",
       "      <td>2006-08-16</td>\n",
       "      <td>2006</td>\n",
       "      <td>8</td>\n",
       "      <td>16</td>\n",
       "      <td>Screamin' Jay Hawkins</td>\n",
       "      <td>45</td>\n",
       "      <td>75914</td>\n",
       "      <td>0.2850</td>\n",
       "      <td>0.4210</td>\n",
       "      <td>226093</td>\n",
       "      <td>0.8050</td>\n",
       "      <td>0.0008</td>\n",
       "      <td>0</td>\n",
       "      <td>0.1580</td>\n",
       "      <td>-11.4710</td>\n",
       "      <td>1</td>\n",
       "      <td>0.0997</td>\n",
       "      <td>170.7830</td>\n",
       "      <td>4</td>\n",
       "      <td>0.7570</td>\n",
       "    </tr>\n",
       "  </tbody>\n",
       "</table>\n",
       "</div>"
      ],
      "text/plain": [
       "                 album_id               artist_id                track_id  \\\n",
       "0  1GZik94t53uY8oIANFq002  3VBpsrUi2vV7Uj87ONHu7Z  2XpZPnrvDqpKcNcfv6fviu   \n",
       "1  1GZik94t53uY8oIANFq002  3VBpsrUi2vV7Uj87ONHu7Z  1GZik94t53uY8oIANFq002   \n",
       "2  1GZik94t53uY8oIANFq002  3VBpsrUi2vV7Uj87ONHu7Z  6xhWtLM0DoHRbf7kbU9ZID   \n",
       "3  1GZik94t53uY8oIANFq002  3VBpsrUi2vV7Uj87ONHu7Z  2R1Eime7xs6QeBmbzWW2qH   \n",
       "4  1GZik94t53uY8oIANFq002  3VBpsrUi2vV7Uj87ONHu7Z  5FvPZyLxWlBqGbZmzDW2Wr   \n",
       "\n",
       "   track_duration_ms  track_explicit        audio_feature_id  \\\n",
       "0             208759               0  2XpZPnrvDqpKcNcfv6fviu   \n",
       "1             254879               0  1GZik94t53uY8oIANFq002   \n",
       "2             297879               0  6xhWtLM0DoHRbf7kbU9ZID   \n",
       "3             168519               0  2R1Eime7xs6QeBmbzWW2qH   \n",
       "4             226092               0  5FvPZyLxWlBqGbZmzDW2Wr   \n",
       "\n",
       "                           track_name  track_number_in_album  \\\n",
       "0                I Put A Spell On You                      1   \n",
       "1                   Portrait Of A Man                      2   \n",
       "2  What's Gonna Happen On The 8th Day                      3   \n",
       "3                             We Love                      4   \n",
       "4               Please Don't Leave Me                      5   \n",
       "\n",
       "   track_popularity                 album_name album_type  album_popularity  \\\n",
       "0                28  My Little Shop Of Horrors      album                29   \n",
       "1                25  My Little Shop Of Horrors      album                29   \n",
       "2                 4  My Little Shop Of Horrors      album                29   \n",
       "3                 3  My Little Shop Of Horrors      album                29   \n",
       "4                 3  My Little Shop Of Horrors      album                29   \n",
       "\n",
       "  album_release_date  album_release_year  album_release_month  \\\n",
       "0         2006-08-16                2006                    8   \n",
       "1         2006-08-16                2006                    8   \n",
       "2         2006-08-16                2006                    8   \n",
       "3         2006-08-16                2006                    8   \n",
       "4         2006-08-16                2006                    8   \n",
       "\n",
       "   album_release_day            artist_name  artist_popularity  \\\n",
       "0                 16  Screamin' Jay Hawkins                 45   \n",
       "1                 16  Screamin' Jay Hawkins                 45   \n",
       "2                 16  Screamin' Jay Hawkins                 45   \n",
       "3                 16  Screamin' Jay Hawkins                 45   \n",
       "4                 16  Screamin' Jay Hawkins                 45   \n",
       "\n",
       "   artist_followers  acousticness  danceability  duration  energy  \\\n",
       "0             75914        0.3090        0.6010    208760  0.5990   \n",
       "1             75914        0.5730        0.4460    254880  0.2080   \n",
       "2             75914        0.6410        0.5780    297880  0.5070   \n",
       "3             75914        0.5720        0.3730    168520  0.4020   \n",
       "4             75914        0.2850        0.4210    226093  0.8050   \n",
       "\n",
       "   instrumentalness  key  liveness  loudness  mode  speechiness    tempo  \\\n",
       "0            0.0007    5    0.8230  -12.3040     0       0.2630 133.0850   \n",
       "1            0.0167    1    0.1270  -14.1970     1       0.0325 145.9490   \n",
       "2            0.0000   10    0.3330  -11.6940     1       0.0895 114.6480   \n",
       "3            0.0000    0    0.1280  -12.6550     1       0.0427 174.1390   \n",
       "4            0.0008    0    0.1580  -11.4710     1       0.0997 170.7830   \n",
       "\n",
       "   time_signature  valence  \n",
       "0               3   0.6750  \n",
       "1               3   0.2780  \n",
       "2               3   0.5140  \n",
       "3               3   0.4010  \n",
       "4               4   0.7570  "
      ]
     },
     "execution_count": 5,
     "metadata": {},
     "output_type": "execute_result"
    }
   ],
   "source": [
    "merged_data = pd.read_csv('data/merged_data.csv')\n",
    "merged_data.head()"
   ]
  },
  {
   "cell_type": "code",
   "execution_count": 6,
   "metadata": {},
   "outputs": [
    {
     "data": {
      "text/plain": [
       "(4508534, 32)"
      ]
     },
     "execution_count": 6,
     "metadata": {},
     "output_type": "execute_result"
    }
   ],
   "source": [
    "merged_data.shape"
   ]
  },
  {
   "cell_type": "code",
   "execution_count": 7,
   "metadata": {},
   "outputs": [
    {
     "name": "stdout",
     "output_type": "stream",
     "text": [
      "<class 'pandas.core.frame.DataFrame'>\n",
      "RangeIndex: 4508534 entries, 0 to 4508533\n",
      "Data columns (total 32 columns):\n",
      " #   Column                 Dtype  \n",
      "---  ------                 -----  \n",
      " 0   album_id               object \n",
      " 1   artist_id              object \n",
      " 2   track_id               object \n",
      " 3   track_duration_ms      int64  \n",
      " 4   track_explicit         int64  \n",
      " 5   audio_feature_id       object \n",
      " 6   track_name             object \n",
      " 7   track_number_in_album  int64  \n",
      " 8   track_popularity       int64  \n",
      " 9   album_name             object \n",
      " 10  album_type             object \n",
      " 11  album_popularity       int64  \n",
      " 12  album_release_date     object \n",
      " 13  album_release_year     int64  \n",
      " 14  album_release_month    int64  \n",
      " 15  album_release_day      int64  \n",
      " 16  artist_name            object \n",
      " 17  artist_popularity      int64  \n",
      " 18  artist_followers       int64  \n",
      " 19  acousticness           float64\n",
      " 20  danceability           float64\n",
      " 21  duration               int64  \n",
      " 22  energy                 float64\n",
      " 23  instrumentalness       float64\n",
      " 24  key                    int64  \n",
      " 25  liveness               float64\n",
      " 26  loudness               float64\n",
      " 27  mode                   int64  \n",
      " 28  speechiness            float64\n",
      " 29  tempo                  float64\n",
      " 30  time_signature         int64  \n",
      " 31  valence                float64\n",
      "dtypes: float64(9), int64(14), object(9)\n",
      "memory usage: 1.1+ GB\n"
     ]
    }
   ],
   "source": [
    "merged_data.info()"
   ]
  },
  {
   "cell_type": "markdown",
   "metadata": {},
   "source": [
    "# songs_normalize.csv\n",
    "\n",
    "`songs_normalize.csv` es [un dataset de kaggle](https://www.kaggle.com/datasets/paradisejoy/top-hits-spotify-from-20002019) de los mejores hits de spotify, considerando desde 2000 al 2019."
   ]
  },
  {
   "cell_type": "markdown",
   "metadata": {},
   "source": [
    "## carga y modificaciones iniciales"
   ]
  },
  {
   "cell_type": "code",
   "execution_count": null,
   "metadata": {},
   "outputs": [],
   "source": [
    "songs_normalize = pd.read_csv('data/songs_normalize.csv')\n",
    "songs_normalize.head()"
   ]
  },
  {
   "cell_type": "code",
   "execution_count": null,
   "metadata": {},
   "outputs": [],
   "source": [
    "songs_normalize.shape"
   ]
  },
  {
   "cell_type": "markdown",
   "metadata": {},
   "source": [
    "2000 filas y 18 columnas"
   ]
  },
  {
   "cell_type": "code",
   "execution_count": null,
   "metadata": {},
   "outputs": [],
   "source": [
    "songs_normalize.info()"
   ]
  },
  {
   "cell_type": "markdown",
   "metadata": {},
   "source": [
    "Podemos tratar un poco la columna `genre`, para que sea una lista de generos para cada cancion"
   ]
  },
  {
   "cell_type": "code",
   "execution_count": null,
   "metadata": {},
   "outputs": [],
   "source": [
    "songs_normalize['genre'] = songs_normalize['genre'].apply(\n",
    "  # split and then strip each genre\n",
    "  lambda x: [i.strip() for i in x.split(',')]\n",
    ")\n",
    "songs_normalize['genre'].head()"
   ]
  },
  {
   "cell_type": "markdown",
   "metadata": {},
   "source": [
    "## analisis y tratamiento de nulos"
   ]
  },
  {
   "cell_type": "code",
   "execution_count": null,
   "metadata": {},
   "outputs": [],
   "source": [
    "print(f\"=== Has NaN? ===\")\n",
    "for col in songs_normalize.columns:\n",
    "  if col == 'genre':\n",
    "    print(col, songs_normalize[col].apply(lambda x: len(x) == 0).any())\n",
    "  else:\n",
    "    print(col, songs_normalize[col].hasnans)"
   ]
  },
  {
   "cell_type": "markdown",
   "metadata": {},
   "source": [
    "## analisis de columnas"
   ]
  },
  {
   "cell_type": "code",
   "execution_count": null,
   "metadata": {},
   "outputs": [],
   "source": [
    "songs_normalize.describe()"
   ]
  },
  {
   "cell_type": "code",
   "execution_count": null,
   "metadata": {},
   "outputs": [],
   "source": [
    "songs_normalize.info()"
   ]
  },
  {
   "cell_type": "code",
   "execution_count": null,
   "metadata": {},
   "outputs": [],
   "source": [
    "songs_normalize['explicit'].value_counts()"
   ]
  },
  {
   "cell_type": "code",
   "execution_count": null,
   "metadata": {},
   "outputs": [],
   "source": [
    "songs_normalize['year'].value_counts().sort_index()"
   ]
  },
  {
   "cell_type": "markdown",
   "metadata": {},
   "source": [
    "Tenemos un buen balance de canciones que salieron en los 2000 - 2019, pero fuera de ese rango existe una cantidad significativa de canciones."
   ]
  },
  {
   "cell_type": "code",
   "execution_count": null,
   "metadata": {},
   "outputs": [],
   "source": [
    "# obtain the genres\n",
    "songs_normalize_genres = dict()\n",
    "for genre_list in songs_normalize['genre']:\n",
    "  for genre in genre_list:\n",
    "    if genre not in songs_normalize_genres:\n",
    "      songs_normalize_genres[genre] = 0\n",
    "    songs_normalize_genres[genre] += 1\n",
    "\n",
    "songs_normalize_genres = pd.DataFrame.from_dict(songs_normalize_genres, orient='index', columns=['count'])\n",
    "songs_normalize_genres.sort_values(by='count', ascending=False, inplace=True)\n",
    "songs_normalize_genres.head()"
   ]
  },
  {
   "cell_type": "code",
   "execution_count": null,
   "metadata": {},
   "outputs": [],
   "source": [
    "songs_normalize_genres.shape"
   ]
  },
  {
   "cell_type": "markdown",
   "metadata": {},
   "source": [
    "Solamente hay 15 generos"
   ]
  },
  {
   "cell_type": "markdown",
   "metadata": {},
   "source": [
    "# charts.csv\n",
    "\n",
    "`charts.csv` es [un dataset de kaggle](https://www.kaggle.com/datasets/dhruvildave/spotify-charts) que compila las colecciones \"Top 200\" y \"50 virales\" desde 2017 al 2021. Estas colecciones se publican globalmente cada 2-3 dias, dando informacion valiosa historica y alto valor de analisis."
   ]
  },
  {
   "cell_type": "markdown",
   "metadata": {},
   "source": [
    "## carga y modificaciones iniciales"
   ]
  },
  {
   "cell_type": "code",
   "execution_count": null,
   "metadata": {},
   "outputs": [],
   "source": [
    "charts = pd.read_csv('data/charts.csv')\n",
    "charts.head()"
   ]
  },
  {
   "cell_type": "code",
   "execution_count": null,
   "metadata": {},
   "outputs": [],
   "source": [
    "charts.shape"
   ]
  },
  {
   "cell_type": "markdown",
   "metadata": {},
   "source": [
    "26.173.541 filas y 9 columnas"
   ]
  },
  {
   "cell_type": "code",
   "execution_count": null,
   "metadata": {},
   "outputs": [],
   "source": [
    "charts.info()"
   ]
  },
  {
   "cell_type": "markdown",
   "metadata": {},
   "source": [
    "Inicialmente notemos que hay columnas que podemos expresar como de tipo fechas y otras declarar como columnas categoricas."
   ]
  },
  {
   "cell_type": "code",
   "execution_count": null,
   "metadata": {},
   "outputs": [],
   "source": [
    "charts['date'] = pd.to_datetime(charts['date'])\n",
    "charts['region'] = charts['region'].astype('category')\n",
    "charts['chart'] = charts['chart'].astype('category')\n",
    "charts['trend'] = charts['trend'].astype('category')"
   ]
  },
  {
   "cell_type": "code",
   "execution_count": null,
   "metadata": {},
   "outputs": [],
   "source": [
    "charts.info()"
   ]
  },
  {
   "cell_type": "markdown",
   "metadata": {},
   "source": [
    "## analisis y tratamiento de nulos"
   ]
  },
  {
   "cell_type": "code",
   "execution_count": null,
   "metadata": {},
   "outputs": [],
   "source": [
    "print(f\"=== Has NaN? ===\")\n",
    "for col in charts.columns:\n",
    "  print(col, charts[col].hasnans)"
   ]
  },
  {
   "cell_type": "code",
   "execution_count": null,
   "metadata": {},
   "outputs": [],
   "source": [
    "charts['title'].hasnans"
   ]
  },
  {
   "cell_type": "markdown",
   "metadata": {},
   "source": [
    "`title` tiene valores faltantes, veamos cuantos son"
   ]
  },
  {
   "cell_type": "code",
   "execution_count": null,
   "metadata": {},
   "outputs": [],
   "source": [
    "charts[charts['title'].isna()].shape"
   ]
  },
  {
   "cell_type": "markdown",
   "metadata": {},
   "source": [
    "solamente 11 filas con titulo de cancion faltante veamos cuales son"
   ]
  },
  {
   "cell_type": "code",
   "execution_count": null,
   "metadata": {},
   "outputs": [],
   "source": [
    "charts[charts['title'].isna()]"
   ]
  },
  {
   "cell_type": "markdown",
   "metadata": {},
   "source": [
    "Accediendo a la url y al artista por internet, podemos encontrar que existe una cancion llamada \"NA\", probablemente ocurrio algun error al ser cargadas. Podemos arreglarlo facilmente."
   ]
  },
  {
   "cell_type": "code",
   "execution_count": null,
   "metadata": {},
   "outputs": [],
   "source": [
    "# fix the title \"NA\"\n",
    "charts.loc[charts['title'].isna(), 'title'] = 'NA'"
   ]
  },
  {
   "cell_type": "code",
   "execution_count": null,
   "metadata": {},
   "outputs": [],
   "source": [
    "charts[charts['title'].isna()].shape"
   ]
  },
  {
   "cell_type": "code",
   "execution_count": null,
   "metadata": {},
   "outputs": [],
   "source": [
    "charts[charts['title']=='NA']"
   ]
  },
  {
   "cell_type": "code",
   "execution_count": null,
   "metadata": {},
   "outputs": [],
   "source": [
    "charts['artist'].hasnans"
   ]
  },
  {
   "cell_type": "markdown",
   "metadata": {},
   "source": [
    "`artist` tiene valores faltantes, veamos cuantos son"
   ]
  },
  {
   "cell_type": "code",
   "execution_count": null,
   "metadata": {},
   "outputs": [],
   "source": [
    "charts[charts['artist'].isna()].shape"
   ]
  },
  {
   "cell_type": "markdown",
   "metadata": {},
   "source": [
    "solamente 18 filas tienen artista faltante, veamos cuales son"
   ]
  },
  {
   "cell_type": "code",
   "execution_count": null,
   "metadata": {},
   "outputs": [],
   "source": [
    "charts[charts['artist'].isna()]"
   ]
  },
  {
   "cell_type": "markdown",
   "metadata": {},
   "source": [
    "Buscando en internet la cancion, podemos identificar que el artista tiene nombre \"N/A\", probablemente ocurrio algun error al ser cargadas. Solucionemoslo."
   ]
  },
  {
   "cell_type": "code",
   "execution_count": null,
   "metadata": {},
   "outputs": [],
   "source": [
    "# fix the artist name \"N/A\"\n",
    "charts.loc[charts['artist'].isna(), 'artist'] = 'N/A'"
   ]
  },
  {
   "cell_type": "code",
   "execution_count": null,
   "metadata": {},
   "outputs": [],
   "source": [
    "charts[charts['artist'].isna()].shape"
   ]
  },
  {
   "cell_type": "code",
   "execution_count": null,
   "metadata": {},
   "outputs": [],
   "source": [
    "charts[charts['artist']=='N/A']"
   ]
  },
  {
   "cell_type": "code",
   "execution_count": null,
   "metadata": {},
   "outputs": [],
   "source": [
    "charts['streams'].hasnans"
   ]
  },
  {
   "cell_type": "markdown",
   "metadata": {},
   "source": [
    "`streams` tiene valores faltantes, veamos cuantos son"
   ]
  },
  {
   "cell_type": "code",
   "execution_count": null,
   "metadata": {},
   "outputs": [],
   "source": [
    "charts[charts['streams'].isna()].shape"
   ]
  },
  {
   "cell_type": "markdown",
   "metadata": {},
   "source": [
    "5.851.610 filas tienen `streams` faltantes, veamos a que colecciones pertenecen"
   ]
  },
  {
   "cell_type": "code",
   "execution_count": null,
   "metadata": {},
   "outputs": [],
   "source": [
    "charts[charts['streams'].isna()]['chart'].value_counts()"
   ]
  },
  {
   "cell_type": "markdown",
   "metadata": {},
   "source": [
    "Todas las 5.851.610 filas son de la coleccion \"50 Virales\", comprobemos si es que esa coleccion no tiene `streams` en todos sus casos."
   ]
  },
  {
   "cell_type": "code",
   "execution_count": null,
   "metadata": {},
   "outputs": [],
   "source": [
    "charts[charts['chart']=='viral50']['streams'].isna().value_counts()"
   ]
  },
  {
   "cell_type": "markdown",
   "metadata": {},
   "source": [
    "En efecto, las 5.851.610 filas que no poseen `streams` es debido a que las canciones de la coleccion \"50 Virales\" no poseen tal informacion."
   ]
  },
  {
   "cell_type": "markdown",
   "metadata": {},
   "source": [
    "## analisis de columnas"
   ]
  },
  {
   "cell_type": "code",
   "execution_count": null,
   "metadata": {},
   "outputs": [],
   "source": [
    "charts.describe()"
   ]
  },
  {
   "cell_type": "code",
   "execution_count": null,
   "metadata": {},
   "outputs": [],
   "source": [
    "charts['region'].value_counts().sort_values(ascending=False)"
   ]
  },
  {
   "cell_type": "code",
   "execution_count": null,
   "metadata": {},
   "outputs": [],
   "source": [
    "charts['chart'].value_counts()"
   ]
  },
  {
   "cell_type": "markdown",
   "metadata": {},
   "source": [
    "Los datos se encuentran en proporcion 200:50 = 4:1"
   ]
  },
  {
   "cell_type": "code",
   "execution_count": null,
   "metadata": {},
   "outputs": [],
   "source": [
    "charts['trend'].value_counts()"
   ]
  },
  {
   "cell_type": "code",
   "execution_count": null,
   "metadata": {},
   "outputs": [],
   "source": [
    "charts['title'].unique().shape, charts['artist'].unique().shape"
   ]
  },
  {
   "cell_type": "markdown",
   "metadata": {},
   "source": [
    "Tenemos 164.807 canciones y 96.157 artistas unicos"
   ]
  },
  {
   "cell_type": "code",
   "execution_count": null,
   "metadata": {},
   "outputs": [],
   "source": [
    "charts['date'].unique().shape"
   ]
  },
  {
   "cell_type": "markdown",
   "metadata": {},
   "source": [
    "tenemos 1.826 fechas distintas"
   ]
  },
  {
   "cell_type": "code",
   "execution_count": null,
   "metadata": {},
   "outputs": [],
   "source": [
    "charts['date'].dt.year.value_counts().sort_index()"
   ]
  },
  {
   "cell_type": "markdown",
   "metadata": {},
   "source": [
    "En general, tenemos datos balanceados en los años"
   ]
  },
  {
   "cell_type": "markdown",
   "metadata": {},
   "source": [
    "# data.csv\n",
    "\n",
    "`data.csv` es un [dataset de kaggle](https://www.kaggle.com/datasets/ivannatarov/spotify-daily-top-200-songs-with-genres-20172021) que contiene la coleccion \"Top 200\" obtenida diariamente desde 2017 hasta 2021. \\\n",
    "El usuario que subio este dataset declara que es util para principiantes, dado que contiene cosas que se suelen tratar en la exploracion de datos."
   ]
  },
  {
   "cell_type": "markdown",
   "metadata": {},
   "source": [
    "## carga y modificaciones iniciales"
   ]
  },
  {
   "cell_type": "code",
   "execution_count": 52,
   "metadata": {},
   "outputs": [
    {
     "data": {
      "text/html": [
       "<div>\n",
       "<style scoped>\n",
       "    .dataframe tbody tr th:only-of-type {\n",
       "        vertical-align: middle;\n",
       "    }\n",
       "\n",
       "    .dataframe tbody tr th {\n",
       "        vertical-align: top;\n",
       "    }\n",
       "\n",
       "    .dataframe thead th {\n",
       "        text-align: right;\n",
       "    }\n",
       "</style>\n",
       "<table border=\"1\" class=\"dataframe\">\n",
       "  <thead>\n",
       "    <tr style=\"text-align: right;\">\n",
       "      <th></th>\n",
       "      <th>Position</th>\n",
       "      <th>Track Name</th>\n",
       "      <th>Artist</th>\n",
       "      <th>Streams</th>\n",
       "      <th>Date</th>\n",
       "      <th>Genre</th>\n",
       "    </tr>\n",
       "  </thead>\n",
       "  <tbody>\n",
       "    <tr>\n",
       "      <th>0</th>\n",
       "      <td>1</td>\n",
       "      <td>Starboy</td>\n",
       "      <td>The Weeknd</td>\n",
       "      <td>3135625</td>\n",
       "      <td>2017-01-01</td>\n",
       "      <td>['canadian pop', 'canadian contemporary r&amp;b', 'pop']</td>\n",
       "    </tr>\n",
       "    <tr>\n",
       "      <th>1</th>\n",
       "      <td>2</td>\n",
       "      <td>Closer</td>\n",
       "      <td>The Chainsmokers</td>\n",
       "      <td>3015525</td>\n",
       "      <td>2017-01-01</td>\n",
       "      <td>['pop', 'pop dance', 'tropical house', 'edm', 'electropop', 'dance pop']</td>\n",
       "    </tr>\n",
       "    <tr>\n",
       "      <th>2</th>\n",
       "      <td>3</td>\n",
       "      <td>Let Me Love You</td>\n",
       "      <td>DJ Snake</td>\n",
       "      <td>2545384</td>\n",
       "      <td>2017-01-01</td>\n",
       "      <td>['pop', 'electronic trap', 'dance pop', 'edm', 'pop dance', 'pop rap']</td>\n",
       "    </tr>\n",
       "    <tr>\n",
       "      <th>3</th>\n",
       "      <td>4</td>\n",
       "      <td>Rockabye (feat. Sean Paul &amp; Anne-Marie)</td>\n",
       "      <td>Clean Bandit</td>\n",
       "      <td>2356604</td>\n",
       "      <td>2017-01-01</td>\n",
       "      <td>['pop', 'uk dance', 'dance pop', 'uk funky', 'tropical house', 'pop dance', 'post-teen pop', 'edm']</td>\n",
       "    </tr>\n",
       "    <tr>\n",
       "      <th>4</th>\n",
       "      <td>5</td>\n",
       "      <td>One Dance</td>\n",
       "      <td>Drake</td>\n",
       "      <td>2259887</td>\n",
       "      <td>2017-01-01</td>\n",
       "      <td>['toronto rap', 'canadian pop', 'canadian hip hop', 'rap', 'pop rap', 'hip hop']</td>\n",
       "    </tr>\n",
       "  </tbody>\n",
       "</table>\n",
       "</div>"
      ],
      "text/plain": [
       "   Position                               Track Name            Artist  \\\n",
       "0         1                                  Starboy        The Weeknd   \n",
       "1         2                                   Closer  The Chainsmokers   \n",
       "2         3                          Let Me Love You          DJ Snake   \n",
       "3         4  Rockabye (feat. Sean Paul & Anne-Marie)      Clean Bandit   \n",
       "4         5                                One Dance             Drake   \n",
       "\n",
       "   Streams        Date  \\\n",
       "0  3135625  2017-01-01   \n",
       "1  3015525  2017-01-01   \n",
       "2  2545384  2017-01-01   \n",
       "3  2356604  2017-01-01   \n",
       "4  2259887  2017-01-01   \n",
       "\n",
       "                                                                                                 Genre  \n",
       "0                                                 ['canadian pop', 'canadian contemporary r&b', 'pop']  \n",
       "1                             ['pop', 'pop dance', 'tropical house', 'edm', 'electropop', 'dance pop']  \n",
       "2                               ['pop', 'electronic trap', 'dance pop', 'edm', 'pop dance', 'pop rap']  \n",
       "3  ['pop', 'uk dance', 'dance pop', 'uk funky', 'tropical house', 'pop dance', 'post-teen pop', 'edm']  \n",
       "4                     ['toronto rap', 'canadian pop', 'canadian hip hop', 'rap', 'pop rap', 'hip hop']  "
      ]
     },
     "execution_count": 52,
     "metadata": {},
     "output_type": "execute_result"
    }
   ],
   "source": [
    "data = pd.read_csv('data/data.csv', delimiter='#')\n",
    "data.head()"
   ]
  },
  {
   "cell_type": "code",
   "execution_count": 53,
   "metadata": {},
   "outputs": [
    {
     "data": {
      "text/plain": [
       "(321200, 6)"
      ]
     },
     "execution_count": 53,
     "metadata": {},
     "output_type": "execute_result"
    }
   ],
   "source": [
    "data.shape"
   ]
  },
  {
   "cell_type": "code",
   "execution_count": 54,
   "metadata": {},
   "outputs": [
    {
     "name": "stdout",
     "output_type": "stream",
     "text": [
      "<class 'pandas.core.frame.DataFrame'>\n",
      "RangeIndex: 321200 entries, 0 to 321199\n",
      "Data columns (total 6 columns):\n",
      " #   Column      Non-Null Count   Dtype \n",
      "---  ------      --------------   ----- \n",
      " 0   Position    321200 non-null  int64 \n",
      " 1   Track Name  321182 non-null  object\n",
      " 2   Artist      321182 non-null  object\n",
      " 3   Streams     321200 non-null  int64 \n",
      " 4   Date        321200 non-null  object\n",
      " 5   Genre       321182 non-null  object\n",
      "dtypes: int64(2), object(4)\n",
      "memory usage: 14.7+ MB\n"
     ]
    }
   ],
   "source": [
    "data.info()"
   ]
  },
  {
   "cell_type": "code",
   "execution_count": 55,
   "metadata": {},
   "outputs": [],
   "source": [
    "data['Date'] = pd.to_datetime(data['Date'])"
   ]
  },
  {
   "cell_type": "markdown",
   "metadata": {},
   "source": [
    "los generos estan como string para pandas, pero podemos notar que tiene nulos, tenemos que tratarlos primero"
   ]
  },
  {
   "cell_type": "markdown",
   "metadata": {},
   "source": [
    "## analisis y tratamiento de nulos"
   ]
  },
  {
   "cell_type": "code",
   "execution_count": 56,
   "metadata": {},
   "outputs": [
    {
     "name": "stdout",
     "output_type": "stream",
     "text": [
      "=== Has NaN? ===\n",
      "Position False\n",
      "Track Name True\n",
      "Artist True\n",
      "Streams False\n",
      "Date False\n",
      "Genre True\n"
     ]
    }
   ],
   "source": [
    "print(f\"=== Has NaN? ===\")\n",
    "for col in data.columns:\n",
    "  print(col, data[col].hasnans)"
   ]
  },
  {
   "cell_type": "code",
   "execution_count": 57,
   "metadata": {},
   "outputs": [
    {
     "data": {
      "text/plain": [
       "(18, 6)"
      ]
     },
     "execution_count": 57,
     "metadata": {},
     "output_type": "execute_result"
    }
   ],
   "source": [
    "data[data['Track Name'].isna()].shape"
   ]
  },
  {
   "cell_type": "code",
   "execution_count": 58,
   "metadata": {},
   "outputs": [
    {
     "data": {
      "text/plain": [
       "(18, 6)"
      ]
     },
     "execution_count": 58,
     "metadata": {},
     "output_type": "execute_result"
    }
   ],
   "source": [
    "data[data['Artist'].isna()].shape"
   ]
  },
  {
   "cell_type": "code",
   "execution_count": 59,
   "metadata": {},
   "outputs": [
    {
     "data": {
      "text/plain": [
       "(18, 6)"
      ]
     },
     "execution_count": 59,
     "metadata": {},
     "output_type": "execute_result"
    }
   ],
   "source": [
    "data[data['Genre'].isna()].shape"
   ]
  },
  {
   "cell_type": "markdown",
   "metadata": {},
   "source": [
    "es bastante sospechoso que sean 18 en todas estas columnas"
   ]
  },
  {
   "cell_type": "code",
   "execution_count": 60,
   "metadata": {},
   "outputs": [
    {
     "data": {
      "text/html": [
       "<div>\n",
       "<style scoped>\n",
       "    .dataframe tbody tr th:only-of-type {\n",
       "        vertical-align: middle;\n",
       "    }\n",
       "\n",
       "    .dataframe tbody tr th {\n",
       "        vertical-align: top;\n",
       "    }\n",
       "\n",
       "    .dataframe thead th {\n",
       "        text-align: right;\n",
       "    }\n",
       "</style>\n",
       "<table border=\"1\" class=\"dataframe\">\n",
       "  <thead>\n",
       "    <tr style=\"text-align: right;\">\n",
       "      <th></th>\n",
       "      <th>Position</th>\n",
       "      <th>Track Name</th>\n",
       "      <th>Artist</th>\n",
       "      <th>Streams</th>\n",
       "      <th>Date</th>\n",
       "      <th>Genre</th>\n",
       "    </tr>\n",
       "  </thead>\n",
       "  <tbody>\n",
       "    <tr>\n",
       "      <th>39204</th>\n",
       "      <td>5</td>\n",
       "      <td>NaN</td>\n",
       "      <td>NaN</td>\n",
       "      <td>3568811</td>\n",
       "      <td>2017-07-20</td>\n",
       "      <td>NaN</td>\n",
       "    </tr>\n",
       "    <tr>\n",
       "      <th>39212</th>\n",
       "      <td>13</td>\n",
       "      <td>NaN</td>\n",
       "      <td>NaN</td>\n",
       "      <td>2571960</td>\n",
       "      <td>2017-07-20</td>\n",
       "      <td>NaN</td>\n",
       "    </tr>\n",
       "    <tr>\n",
       "      <th>39229</th>\n",
       "      <td>30</td>\n",
       "      <td>NaN</td>\n",
       "      <td>NaN</td>\n",
       "      <td>1798208</td>\n",
       "      <td>2017-07-20</td>\n",
       "      <td>NaN</td>\n",
       "    </tr>\n",
       "    <tr>\n",
       "      <th>39238</th>\n",
       "      <td>39</td>\n",
       "      <td>NaN</td>\n",
       "      <td>NaN</td>\n",
       "      <td>1520291</td>\n",
       "      <td>2017-07-20</td>\n",
       "      <td>NaN</td>\n",
       "    </tr>\n",
       "    <tr>\n",
       "      <th>39404</th>\n",
       "      <td>5</td>\n",
       "      <td>NaN</td>\n",
       "      <td>NaN</td>\n",
       "      <td>3653533</td>\n",
       "      <td>2017-07-21</td>\n",
       "      <td>NaN</td>\n",
       "    </tr>\n",
       "    <tr>\n",
       "      <th>39415</th>\n",
       "      <td>16</td>\n",
       "      <td>NaN</td>\n",
       "      <td>NaN</td>\n",
       "      <td>2522453</td>\n",
       "      <td>2017-07-21</td>\n",
       "      <td>NaN</td>\n",
       "    </tr>\n",
       "    <tr>\n",
       "      <th>39434</th>\n",
       "      <td>35</td>\n",
       "      <td>NaN</td>\n",
       "      <td>NaN</td>\n",
       "      <td>1798890</td>\n",
       "      <td>2017-07-21</td>\n",
       "      <td>NaN</td>\n",
       "    </tr>\n",
       "    <tr>\n",
       "      <th>39447</th>\n",
       "      <td>48</td>\n",
       "      <td>NaN</td>\n",
       "      <td>NaN</td>\n",
       "      <td>1526955</td>\n",
       "      <td>2017-07-21</td>\n",
       "      <td>NaN</td>\n",
       "    </tr>\n",
       "    <tr>\n",
       "      <th>39700</th>\n",
       "      <td>101</td>\n",
       "      <td>NaN</td>\n",
       "      <td>NaN</td>\n",
       "      <td>747893</td>\n",
       "      <td>2017-07-22</td>\n",
       "      <td>NaN</td>\n",
       "    </tr>\n",
       "    <tr>\n",
       "      <th>39888</th>\n",
       "      <td>89</td>\n",
       "      <td>NaN</td>\n",
       "      <td>NaN</td>\n",
       "      <td>690247</td>\n",
       "      <td>2017-07-23</td>\n",
       "      <td>NaN</td>\n",
       "    </tr>\n",
       "    <tr>\n",
       "      <th>61631</th>\n",
       "      <td>32</td>\n",
       "      <td>NaN</td>\n",
       "      <td>NaN</td>\n",
       "      <td>1496980</td>\n",
       "      <td>2017-11-09</td>\n",
       "      <td>NaN</td>\n",
       "    </tr>\n",
       "    <tr>\n",
       "      <th>61829</th>\n",
       "      <td>30</td>\n",
       "      <td>NaN</td>\n",
       "      <td>NaN</td>\n",
       "      <td>1660185</td>\n",
       "      <td>2017-11-10</td>\n",
       "      <td>NaN</td>\n",
       "    </tr>\n",
       "    <tr>\n",
       "      <th>62025</th>\n",
       "      <td>26</td>\n",
       "      <td>NaN</td>\n",
       "      <td>NaN</td>\n",
       "      <td>1762307</td>\n",
       "      <td>2017-11-11</td>\n",
       "      <td>NaN</td>\n",
       "    </tr>\n",
       "    <tr>\n",
       "      <th>62226</th>\n",
       "      <td>27</td>\n",
       "      <td>NaN</td>\n",
       "      <td>NaN</td>\n",
       "      <td>1544175</td>\n",
       "      <td>2017-11-12</td>\n",
       "      <td>NaN</td>\n",
       "    </tr>\n",
       "    <tr>\n",
       "      <th>62430</th>\n",
       "      <td>31</td>\n",
       "      <td>NaN</td>\n",
       "      <td>NaN</td>\n",
       "      <td>1473457</td>\n",
       "      <td>2017-11-13</td>\n",
       "      <td>NaN</td>\n",
       "    </tr>\n",
       "    <tr>\n",
       "      <th>62629</th>\n",
       "      <td>30</td>\n",
       "      <td>NaN</td>\n",
       "      <td>NaN</td>\n",
       "      <td>1581132</td>\n",
       "      <td>2017-11-14</td>\n",
       "      <td>NaN</td>\n",
       "    </tr>\n",
       "    <tr>\n",
       "      <th>66155</th>\n",
       "      <td>156</td>\n",
       "      <td>NaN</td>\n",
       "      <td>NaN</td>\n",
       "      <td>650496</td>\n",
       "      <td>2017-12-01</td>\n",
       "      <td>NaN</td>\n",
       "    </tr>\n",
       "    <tr>\n",
       "      <th>66180</th>\n",
       "      <td>181</td>\n",
       "      <td>NaN</td>\n",
       "      <td>NaN</td>\n",
       "      <td>588738</td>\n",
       "      <td>2017-12-01</td>\n",
       "      <td>NaN</td>\n",
       "    </tr>\n",
       "  </tbody>\n",
       "</table>\n",
       "</div>"
      ],
      "text/plain": [
       "       Position Track Name Artist  Streams       Date Genre\n",
       "39204         5        NaN    NaN  3568811 2017-07-20   NaN\n",
       "39212        13        NaN    NaN  2571960 2017-07-20   NaN\n",
       "39229        30        NaN    NaN  1798208 2017-07-20   NaN\n",
       "39238        39        NaN    NaN  1520291 2017-07-20   NaN\n",
       "39404         5        NaN    NaN  3653533 2017-07-21   NaN\n",
       "39415        16        NaN    NaN  2522453 2017-07-21   NaN\n",
       "39434        35        NaN    NaN  1798890 2017-07-21   NaN\n",
       "39447        48        NaN    NaN  1526955 2017-07-21   NaN\n",
       "39700       101        NaN    NaN   747893 2017-07-22   NaN\n",
       "39888        89        NaN    NaN   690247 2017-07-23   NaN\n",
       "61631        32        NaN    NaN  1496980 2017-11-09   NaN\n",
       "61829        30        NaN    NaN  1660185 2017-11-10   NaN\n",
       "62025        26        NaN    NaN  1762307 2017-11-11   NaN\n",
       "62226        27        NaN    NaN  1544175 2017-11-12   NaN\n",
       "62430        31        NaN    NaN  1473457 2017-11-13   NaN\n",
       "62629        30        NaN    NaN  1581132 2017-11-14   NaN\n",
       "66155       156        NaN    NaN   650496 2017-12-01   NaN\n",
       "66180       181        NaN    NaN   588738 2017-12-01   NaN"
      ]
     },
     "execution_count": 60,
     "metadata": {},
     "output_type": "execute_result"
    }
   ],
   "source": [
    "data[data['Track Name'].isna() | data['Artist'].isna() | data['Genre'].isna()]"
   ]
  },
  {
   "cell_type": "markdown",
   "metadata": {},
   "source": [
    "Lamentablemente no hay muchos datos que podamos sacar de esto sin las columnas que faltan"
   ]
  },
  {
   "cell_type": "code",
   "execution_count": 61,
   "metadata": {},
   "outputs": [
    {
     "name": "stdout",
     "output_type": "stream",
     "text": [
      "=== Has NaN? ===\n",
      "Position False\n",
      "Track Name False\n",
      "Artist False\n",
      "Streams False\n",
      "Date False\n",
      "Genre False\n"
     ]
    }
   ],
   "source": [
    "remove_data = data[data['Track Name'].isna() | data['Artist'].isna() | data['Genre'].isna()]\n",
    "data.drop(remove_data.index, inplace=True)\n",
    "del remove_data\n",
    "\n",
    "print(f\"=== Has NaN? ===\")\n",
    "for col in data.columns:\n",
    "  print(col, data[col].hasnans)"
   ]
  },
  {
   "cell_type": "markdown",
   "metadata": {},
   "source": [
    "Ahora que ya no hay nulos, trataremos la columna `Genre`"
   ]
  },
  {
   "cell_type": "code",
   "execution_count": 62,
   "metadata": {},
   "outputs": [
    {
     "data": {
      "text/plain": [
       "0                                         [canadian pop, canadian contemporary r&b, pop]\n",
       "1                           [pop, pop dance, tropical house, edm, electropop, dance pop]\n",
       "2                             [pop, electronic trap, dance pop, edm, pop dance, pop rap]\n",
       "3    [pop, uk dance, dance pop, uk funky, tropical house, pop dance, post-teen pop, edm]\n",
       "4                   [toronto rap, canadian pop, canadian hip hop, rap, pop rap, hip hop]\n",
       "Name: Genre, dtype: object"
      ]
     },
     "execution_count": 62,
     "metadata": {},
     "output_type": "execute_result"
    }
   ],
   "source": [
    "import re\n",
    "def process_genres_str(x: str):\n",
    "  # delete ' and \" characters\n",
    "  # delete the first and last character (they are [ and ])\n",
    "  # split by , and then strip each genre\n",
    "  return [i.strip() for i in re.sub(r'\\'|\\\"', '', x)[1:-1].split(',')]\n",
    "\n",
    "data['Genre'] = data['Genre'].apply(process_genres_str)\n",
    "data['Genre'].head()"
   ]
  },
  {
   "cell_type": "markdown",
   "metadata": {},
   "source": [
    "## analisis de columnas"
   ]
  },
  {
   "cell_type": "code",
   "execution_count": 66,
   "metadata": {},
   "outputs": [
    {
     "data": {
      "text/html": [
       "<div>\n",
       "<style scoped>\n",
       "    .dataframe tbody tr th:only-of-type {\n",
       "        vertical-align: middle;\n",
       "    }\n",
       "\n",
       "    .dataframe tbody tr th {\n",
       "        vertical-align: top;\n",
       "    }\n",
       "\n",
       "    .dataframe thead th {\n",
       "        text-align: right;\n",
       "    }\n",
       "</style>\n",
       "<table border=\"1\" class=\"dataframe\">\n",
       "  <thead>\n",
       "    <tr style=\"text-align: right;\">\n",
       "      <th></th>\n",
       "      <th>Position</th>\n",
       "      <th>Streams</th>\n",
       "      <th>Date</th>\n",
       "    </tr>\n",
       "  </thead>\n",
       "  <tbody>\n",
       "    <tr>\n",
       "      <th>count</th>\n",
       "      <td>321182.0000</td>\n",
       "      <td>321182.0000</td>\n",
       "      <td>321182</td>\n",
       "    </tr>\n",
       "    <tr>\n",
       "      <th>mean</th>\n",
       "      <td>100.5028</td>\n",
       "      <td>1188463.9883</td>\n",
       "      <td>2019-03-19 19:07:35.405346816</td>\n",
       "    </tr>\n",
       "    <tr>\n",
       "      <th>min</th>\n",
       "      <td>1.0000</td>\n",
       "      <td>325951.0000</td>\n",
       "      <td>2017-01-01 00:00:00</td>\n",
       "    </tr>\n",
       "    <tr>\n",
       "      <th>25%</th>\n",
       "      <td>51.0000</td>\n",
       "      <td>700483.2500</td>\n",
       "      <td>2018-02-10 00:00:00</td>\n",
       "    </tr>\n",
       "    <tr>\n",
       "      <th>50%</th>\n",
       "      <td>101.0000</td>\n",
       "      <td>895351.0000</td>\n",
       "      <td>2019-03-19 00:00:00</td>\n",
       "    </tr>\n",
       "    <tr>\n",
       "      <th>75%</th>\n",
       "      <td>151.0000</td>\n",
       "      <td>1364059.0000</td>\n",
       "      <td>2020-04-23 00:00:00</td>\n",
       "    </tr>\n",
       "    <tr>\n",
       "      <th>max</th>\n",
       "      <td>200.0000</td>\n",
       "      <td>17223237.0000</td>\n",
       "      <td>2021-07-17 00:00:00</td>\n",
       "    </tr>\n",
       "    <tr>\n",
       "      <th>std</th>\n",
       "      <td>57.7336</td>\n",
       "      <td>839659.5540</td>\n",
       "      <td>NaN</td>\n",
       "    </tr>\n",
       "  </tbody>\n",
       "</table>\n",
       "</div>"
      ],
      "text/plain": [
       "         Position       Streams                           Date\n",
       "count 321182.0000   321182.0000                         321182\n",
       "mean     100.5028  1188463.9883  2019-03-19 19:07:35.405346816\n",
       "min        1.0000   325951.0000            2017-01-01 00:00:00\n",
       "25%       51.0000   700483.2500            2018-02-10 00:00:00\n",
       "50%      101.0000   895351.0000            2019-03-19 00:00:00\n",
       "75%      151.0000  1364059.0000            2020-04-23 00:00:00\n",
       "max      200.0000 17223237.0000            2021-07-17 00:00:00\n",
       "std       57.7336   839659.5540                            NaN"
      ]
     },
     "execution_count": 66,
     "metadata": {},
     "output_type": "execute_result"
    }
   ],
   "source": [
    "data.describe()"
   ]
  },
  {
   "cell_type": "code",
   "execution_count": 67,
   "metadata": {},
   "outputs": [
    {
     "name": "stdout",
     "output_type": "stream",
     "text": [
      "<class 'pandas.core.frame.DataFrame'>\n",
      "Index: 321182 entries, 0 to 321199\n",
      "Data columns (total 6 columns):\n",
      " #   Column      Non-Null Count   Dtype         \n",
      "---  ------      --------------   -----         \n",
      " 0   Position    321182 non-null  int64         \n",
      " 1   Track Name  321182 non-null  object        \n",
      " 2   Artist      321182 non-null  object        \n",
      " 3   Streams     321182 non-null  int64         \n",
      " 4   Date        321182 non-null  datetime64[ns]\n",
      " 5   Genre       321182 non-null  object        \n",
      "dtypes: datetime64[ns](1), int64(2), object(3)\n",
      "memory usage: 17.2+ MB\n"
     ]
    }
   ],
   "source": [
    "data.info()"
   ]
  },
  {
   "cell_type": "code",
   "execution_count": 68,
   "metadata": {},
   "outputs": [
    {
     "data": {
      "text/plain": [
       "((5496,), (1127,))"
      ]
     },
     "execution_count": 68,
     "metadata": {},
     "output_type": "execute_result"
    }
   ],
   "source": [
    "data['Track Name'].unique().shape, data['Artist'].unique().shape"
   ]
  },
  {
   "cell_type": "markdown",
   "metadata": {},
   "source": [
    "5.496 canciones y 1.127 artistas unicos"
   ]
  },
  {
   "cell_type": "code",
   "execution_count": 69,
   "metadata": {},
   "outputs": [
    {
     "data": {
      "text/plain": [
       "Date\n",
       "2017    72182\n",
       "2018    73000\n",
       "2019    73000\n",
       "2020    72000\n",
       "2021    31000\n",
       "Name: count, dtype: int64"
      ]
     },
     "execution_count": 69,
     "metadata": {},
     "output_type": "execute_result"
    }
   ],
   "source": [
    "data['Date'].dt.year.value_counts().sort_index()"
   ]
  },
  {
   "cell_type": "markdown",
   "metadata": {},
   "source": [
    "Tenemos un muy buen balance entre las canciones de 2017 - 2020, en 2021 faltan, pero es esperable dada la fecha maxima encontrada"
   ]
  },
  {
   "cell_type": "code",
   "execution_count": 64,
   "metadata": {},
   "outputs": [
    {
     "data": {
      "text/html": [
       "<div>\n",
       "<style scoped>\n",
       "    .dataframe tbody tr th:only-of-type {\n",
       "        vertical-align: middle;\n",
       "    }\n",
       "\n",
       "    .dataframe tbody tr th {\n",
       "        vertical-align: top;\n",
       "    }\n",
       "\n",
       "    .dataframe thead th {\n",
       "        text-align: right;\n",
       "    }\n",
       "</style>\n",
       "<table border=\"1\" class=\"dataframe\">\n",
       "  <thead>\n",
       "    <tr style=\"text-align: right;\">\n",
       "      <th></th>\n",
       "      <th>count</th>\n",
       "    </tr>\n",
       "  </thead>\n",
       "  <tbody>\n",
       "    <tr>\n",
       "      <th>pop</th>\n",
       "      <td>146708</td>\n",
       "    </tr>\n",
       "    <tr>\n",
       "      <th>dance pop</th>\n",
       "      <td>89558</td>\n",
       "    </tr>\n",
       "    <tr>\n",
       "      <th>rap</th>\n",
       "      <td>66629</td>\n",
       "    </tr>\n",
       "    <tr>\n",
       "      <th>post-teen pop</th>\n",
       "      <td>64118</td>\n",
       "    </tr>\n",
       "    <tr>\n",
       "      <th>pop rap</th>\n",
       "      <td>48831</td>\n",
       "    </tr>\n",
       "  </tbody>\n",
       "</table>\n",
       "</div>"
      ],
      "text/plain": [
       "                count\n",
       "pop            146708\n",
       "dance pop       89558\n",
       "rap             66629\n",
       "post-teen pop   64118\n",
       "pop rap         48831"
      ]
     },
     "execution_count": 64,
     "metadata": {},
     "output_type": "execute_result"
    }
   ],
   "source": [
    "# obtain the genres\n",
    "data_genres = dict()\n",
    "for genre_list in data['Genre']:\n",
    "  for genre in genre_list:\n",
    "    if genre not in data_genres:\n",
    "      data_genres[genre] = 0\n",
    "    data_genres[genre] += 1\n",
    "\n",
    "data_genres = pd.DataFrame.from_dict(data_genres, orient='index', columns=['count'])\n",
    "data_genres.sort_values(by='count', ascending=False, inplace=True)\n",
    "data_genres.head()"
   ]
  },
  {
   "cell_type": "code",
   "execution_count": 65,
   "metadata": {},
   "outputs": [
    {
     "data": {
      "text/plain": [
       "(636, 1)"
      ]
     },
     "execution_count": 65,
     "metadata": {},
     "output_type": "execute_result"
    }
   ],
   "source": [
    "data_genres.shape"
   ]
  },
  {
   "cell_type": "markdown",
   "metadata": {},
   "source": [
    "tenemos 636 generos"
   ]
  }
 ],
 "metadata": {
  "kernelspec": {
   "display_name": "mineria",
   "language": "python",
   "name": "python3"
  },
  "language_info": {
   "codemirror_mode": {
    "name": "ipython",
    "version": 3
   },
   "file_extension": ".py",
   "mimetype": "text/x-python",
   "name": "python",
   "nbconvert_exporter": "python",
   "pygments_lexer": "ipython3",
   "version": "3.12.0"
  },
  "orig_nbformat": 4
 },
 "nbformat": 4,
 "nbformat_minor": 2
}
