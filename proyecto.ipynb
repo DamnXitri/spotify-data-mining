{
 "cells": [
  {
   "cell_type": "markdown",
   "metadata": {},
   "source": [
    "# Proyecto Grupo 5 - Análisis Musical en Spotify"
   ]
  },
  {
   "cell_type": "markdown",
   "metadata": {},
   "source": [
    "## Codigo"
   ]
  },
  {
   "cell_type": "markdown",
   "metadata": {},
   "source": [
    "### Cargando librerias"
   ]
  },
  {
   "cell_type": "code",
   "execution_count": 1,
   "metadata": {},
   "outputs": [],
   "source": [
    "import seaborn as sns\n",
    "import numpy as np\n",
    "import pandas as pd\n",
    "\n",
    "import sqlite3\n",
    "import datetime\n",
    "import typing"
   ]
  },
  {
   "cell_type": "markdown",
   "metadata": {},
   "source": [
    "### Config de notebook"
   ]
  },
  {
   "cell_type": "code",
   "execution_count": 2,
   "metadata": {},
   "outputs": [],
   "source": [
    "pd.set_option('display.max_colwidth', None)\n",
    "pd.set_option('display.max_columns', 35)\n",
    "pd.set_option('display.max_rows', 20)"
   ]
  },
  {
   "cell_type": "markdown",
   "metadata": {},
   "source": [
    "### Cargando datos\n",
    "\n",
    "Se utilizan [los siguientes datos de kaggle](https://www.kaggle.com/datasets/maltegrosse/8-m-spotify-tracks-genre-audio-features). Estos se encuentran contenidos en una BDD `spotify.sqlite`, la cual pondremos en una carpeta `data`."
   ]
  },
  {
   "cell_type": "code",
   "execution_count": 3,
   "metadata": {},
   "outputs": [
    {
     "data": {
      "text/plain": [
       "dict_keys(['r_albums_artists', 'r_albums_tracks', 'r_artist_genre', 'r_track_artist', 'genres', 'albums', 'artists', 'audio_features', 'tracks'])"
      ]
     },
     "execution_count": 3,
     "metadata": {},
     "output_type": "execute_result"
    }
   ],
   "source": [
    "# funcion para cargar las tablas de la base de datos en un diccionario de dataframes\n",
    "def load_data():\n",
    "  # conexion a la base de datos\n",
    "  conn = sqlite3.connect(\n",
    "    database='data/spotify.sqlite'\n",
    "  )\n",
    "  # para que no haya problemas con los caracteres especiales\n",
    "  conn.text_factory = lambda b: b.decode(encoding = 'utf-8', errors = 'ignore')\n",
    "  \n",
    "  # lista de tablas de la base de datos\n",
    "  tables = [\n",
    "    \"r_albums_artists\",\n",
    "    \"r_albums_tracks\",\n",
    "    \"r_artist_genre\",\n",
    "    \"r_track_artist\",\n",
    "    \"genres\",\n",
    "    \"albums\",\n",
    "    \"artists\",\n",
    "    \"audio_features\",\n",
    "    \"tracks\",\n",
    "  ]\n",
    "\n",
    "  # diccionario de dataframes\n",
    "  dataframes : typing.Dict[str, pd.DataFrame] = {}\n",
    "  \n",
    "  # cargar cada tabla en un dataframe\n",
    "  for table in tables:\n",
    "    dataframes[table] = pd.read_sql_query(\n",
    "      sql = f\"SELECT * FROM {table}\",\n",
    "      con = conn\n",
    "    )\n",
    "  \n",
    "  # cerrar la conexion a la base de datos\n",
    "  conn.close()\n",
    "\n",
    "  return dataframes\n",
    "\n",
    "# ejecutar la funcion\n",
    "dataframes : typing.Dict[str, pd.DataFrame] = load_data()\n",
    "[\n",
    "  tracks, artists, albums, genres, audio_features, \n",
    "  r_albums_artists, r_albums_tracks, r_artist_genre, r_track_artist\n",
    "] = [\n",
    "  dataframes['tracks'], dataframes['artists'], dataframes['albums'], dataframes['genres'], dataframes['audio_features'] ,\n",
    "  dataframes['r_albums_artists'], dataframes['r_albums_tracks'], dataframes['r_artist_genre'], dataframes['r_track_artist']\n",
    "]\n",
    "# ver las tablas cargadas\n",
    "dataframes.keys()"
   ]
  },
  {
   "cell_type": "markdown",
   "metadata": {},
   "source": [
    "### Formato de las tablas"
   ]
  },
  {
   "cell_type": "code",
   "execution_count": 4,
   "metadata": {},
   "outputs": [
    {
     "data": {
      "text/html": [
       "<div>\n",
       "<style scoped>\n",
       "    .dataframe tbody tr th:only-of-type {\n",
       "        vertical-align: middle;\n",
       "    }\n",
       "\n",
       "    .dataframe tbody tr th {\n",
       "        vertical-align: top;\n",
       "    }\n",
       "\n",
       "    .dataframe thead th {\n",
       "        text-align: right;\n",
       "    }\n",
       "</style>\n",
       "<table border=\"1\" class=\"dataframe\">\n",
       "  <thead>\n",
       "    <tr style=\"text-align: right;\">\n",
       "      <th></th>\n",
       "      <th>filas</th>\n",
       "      <th>columnas</th>\n",
       "      <th>nombre_columnas</th>\n",
       "    </tr>\n",
       "    <tr>\n",
       "      <th>tabla</th>\n",
       "      <th></th>\n",
       "      <th></th>\n",
       "      <th></th>\n",
       "    </tr>\n",
       "  </thead>\n",
       "  <tbody>\n",
       "    <tr>\n",
       "      <th>r_albums_artists</th>\n",
       "      <td>921486</td>\n",
       "      <td>2</td>\n",
       "      <td>[album_id, artist_id]</td>\n",
       "    </tr>\n",
       "    <tr>\n",
       "      <th>r_albums_tracks</th>\n",
       "      <td>9900173</td>\n",
       "      <td>2</td>\n",
       "      <td>[album_id, track_id]</td>\n",
       "    </tr>\n",
       "    <tr>\n",
       "      <th>r_artist_genre</th>\n",
       "      <td>487386</td>\n",
       "      <td>2</td>\n",
       "      <td>[genre_id, artist_id]</td>\n",
       "    </tr>\n",
       "    <tr>\n",
       "      <th>r_track_artist</th>\n",
       "      <td>11840402</td>\n",
       "      <td>2</td>\n",
       "      <td>[track_id, artist_id]</td>\n",
       "    </tr>\n",
       "    <tr>\n",
       "      <th>genres</th>\n",
       "      <td>5489</td>\n",
       "      <td>1</td>\n",
       "      <td>[id]</td>\n",
       "    </tr>\n",
       "    <tr>\n",
       "      <th>albums</th>\n",
       "      <td>4820754</td>\n",
       "      <td>6</td>\n",
       "      <td>[id, name, album_group, album_type, release_date, popularity]</td>\n",
       "    </tr>\n",
       "    <tr>\n",
       "      <th>artists</th>\n",
       "      <td>1066031</td>\n",
       "      <td>4</td>\n",
       "      <td>[name, id, popularity, followers]</td>\n",
       "    </tr>\n",
       "    <tr>\n",
       "      <th>audio_features</th>\n",
       "      <td>8740043</td>\n",
       "      <td>15</td>\n",
       "      <td>[id, acousticness, analysis_url, danceability, duration, energy, instrumentalness, key, liveness, loudness, mode, speechiness, tempo, time_signature, valence]</td>\n",
       "    </tr>\n",
       "    <tr>\n",
       "      <th>tracks</th>\n",
       "      <td>8741672</td>\n",
       "      <td>10</td>\n",
       "      <td>[id, disc_number, duration, explicit, audio_feature_id, name, preview_url, track_number, popularity, is_playable]</td>\n",
       "    </tr>\n",
       "  </tbody>\n",
       "</table>\n",
       "</div>"
      ],
      "text/plain": [
       "                     filas  columnas  \\\n",
       "tabla                                  \n",
       "r_albums_artists    921486         2   \n",
       "r_albums_tracks    9900173         2   \n",
       "r_artist_genre      487386         2   \n",
       "r_track_artist    11840402         2   \n",
       "genres                5489         1   \n",
       "albums             4820754         6   \n",
       "artists            1066031         4   \n",
       "audio_features     8740043        15   \n",
       "tracks             8741672        10   \n",
       "\n",
       "                                                                                                                                                                 nombre_columnas  \n",
       "tabla                                                                                                                                                                             \n",
       "r_albums_artists                                                                                                                                           [album_id, artist_id]  \n",
       "r_albums_tracks                                                                                                                                             [album_id, track_id]  \n",
       "r_artist_genre                                                                                                                                             [genre_id, artist_id]  \n",
       "r_track_artist                                                                                                                                             [track_id, artist_id]  \n",
       "genres                                                                                                                                                                      [id]  \n",
       "albums                                                                                                             [id, name, album_group, album_type, release_date, popularity]  \n",
       "artists                                                                                                                                        [name, id, popularity, followers]  \n",
       "audio_features    [id, acousticness, analysis_url, danceability, duration, energy, instrumentalness, key, liveness, loudness, mode, speechiness, tempo, time_signature, valence]  \n",
       "tracks                                                         [id, disc_number, duration, explicit, audio_feature_id, name, preview_url, track_number, popularity, is_playable]  "
      ]
     },
     "execution_count": 4,
     "metadata": {},
     "output_type": "execute_result"
    }
   ],
   "source": [
    "info_df = pd.DataFrame()\n",
    "info_df['tabla'] = dataframes.keys()\n",
    "info_df['filas'] = [dataframes[i].shape[0] for i in dataframes.keys()]\n",
    "info_df['columnas'] = [dataframes[i].shape[1] for i in dataframes.keys()]\n",
    "info_df['nombre_columnas'] = [list(dataframes[i].columns) for i in dataframes.keys()]\n",
    "\n",
    "info_df.set_index('tabla', inplace=True)\n",
    "info_df"
   ]
  },
  {
   "cell_type": "markdown",
   "metadata": {},
   "source": [
    "### Estadisticas y exploración inicial"
   ]
  },
  {
   "cell_type": "markdown",
   "metadata": {},
   "source": [
    "Las tablas `r_albums_artists`, `r_albums_tracks`, `r_artist_genre` solamente contienen ids, por lo que no contienen estadisticas interesantes"
   ]
  },
  {
   "cell_type": "markdown",
   "metadata": {},
   "source": [
    "#### albums"
   ]
  },
  {
   "cell_type": "code",
   "execution_count": 15,
   "metadata": {},
   "outputs": [
    {
     "data": {
      "text/html": [
       "<div>\n",
       "<style scoped>\n",
       "    .dataframe tbody tr th:only-of-type {\n",
       "        vertical-align: middle;\n",
       "    }\n",
       "\n",
       "    .dataframe tbody tr th {\n",
       "        vertical-align: top;\n",
       "    }\n",
       "\n",
       "    .dataframe thead th {\n",
       "        text-align: right;\n",
       "    }\n",
       "</style>\n",
       "<table border=\"1\" class=\"dataframe\">\n",
       "  <thead>\n",
       "    <tr style=\"text-align: right;\">\n",
       "      <th></th>\n",
       "      <th>id</th>\n",
       "      <th>name</th>\n",
       "      <th>album_group</th>\n",
       "      <th>album_type</th>\n",
       "      <th>release_date</th>\n",
       "      <th>popularity</th>\n",
       "    </tr>\n",
       "  </thead>\n",
       "  <tbody>\n",
       "    <tr>\n",
       "      <th>0</th>\n",
       "      <td>2jKoVlU7VAmExKJ1Jh3w9P</td>\n",
       "      <td>Alkaholik (feat. Erik Sermon, J Ro &amp; Tash)</td>\n",
       "      <td></td>\n",
       "      <td>album</td>\n",
       "      <td>954633600000</td>\n",
       "      <td>0</td>\n",
       "    </tr>\n",
       "    <tr>\n",
       "      <th>1</th>\n",
       "      <td>4JYUDRtPZuVNi7FAnbHyux</td>\n",
       "      <td>Flava in Ya Ear Remix (feat. Notorious B.I.G., L.L. Cool J, Busta Rhymes, Rampage)</td>\n",
       "      <td></td>\n",
       "      <td>single</td>\n",
       "      <td>757382400000</td>\n",
       "      <td>0</td>\n",
       "    </tr>\n",
       "    <tr>\n",
       "      <th>2</th>\n",
       "      <td>6YjKAkDYmlasMqYw73iB0w</td>\n",
       "      <td>Bitch Please II</td>\n",
       "      <td></td>\n",
       "      <td>album</td>\n",
       "      <td>959040000000</td>\n",
       "      <td>0</td>\n",
       "    </tr>\n",
       "    <tr>\n",
       "      <th>3</th>\n",
       "      <td>2YlvHjDb4Tyxl4A1IcDhAe</td>\n",
       "      <td>Just Dippin'</td>\n",
       "      <td></td>\n",
       "      <td>compilation</td>\n",
       "      <td>1104537600000</td>\n",
       "      <td>0</td>\n",
       "    </tr>\n",
       "    <tr>\n",
       "      <th>4</th>\n",
       "      <td>3UOuBNEin5peSRqdzvlnWM</td>\n",
       "      <td>Still D.R.E.</td>\n",
       "      <td></td>\n",
       "      <td>album</td>\n",
       "      <td>942710400000</td>\n",
       "      <td>0</td>\n",
       "    </tr>\n",
       "  </tbody>\n",
       "</table>\n",
       "</div>"
      ],
      "text/plain": [
       "                       id  \\\n",
       "0  2jKoVlU7VAmExKJ1Jh3w9P   \n",
       "1  4JYUDRtPZuVNi7FAnbHyux   \n",
       "2  6YjKAkDYmlasMqYw73iB0w   \n",
       "3  2YlvHjDb4Tyxl4A1IcDhAe   \n",
       "4  3UOuBNEin5peSRqdzvlnWM   \n",
       "\n",
       "                                                                                 name  \\\n",
       "0                                          Alkaholik (feat. Erik Sermon, J Ro & Tash)   \n",
       "1  Flava in Ya Ear Remix (feat. Notorious B.I.G., L.L. Cool J, Busta Rhymes, Rampage)   \n",
       "2                                                                     Bitch Please II   \n",
       "3                                                                        Just Dippin'   \n",
       "4                                                                        Still D.R.E.   \n",
       "\n",
       "  album_group   album_type   release_date  popularity  \n",
       "0                    album   954633600000           0  \n",
       "1                   single   757382400000           0  \n",
       "2                    album   959040000000           0  \n",
       "3              compilation  1104537600000           0  \n",
       "4                    album   942710400000           0  "
      ]
     },
     "execution_count": 15,
     "metadata": {},
     "output_type": "execute_result"
    }
   ],
   "source": [
    "albums.head()"
   ]
  },
  {
   "cell_type": "code",
   "execution_count": 17,
   "metadata": {},
   "outputs": [
    {
     "data": {
      "text/plain": [
       "(4820754, 6)"
      ]
     },
     "execution_count": 17,
     "metadata": {},
     "output_type": "execute_result"
    }
   ],
   "source": [
    "albums.shape"
   ]
  },
  {
   "cell_type": "code",
   "execution_count": 18,
   "metadata": {},
   "outputs": [
    {
     "name": "stdout",
     "output_type": "stream",
     "text": [
      "<class 'pandas.core.frame.DataFrame'>\n",
      "RangeIndex: 4820754 entries, 0 to 4820753\n",
      "Data columns (total 6 columns):\n",
      " #   Column        Dtype \n",
      "---  ------        ----- \n",
      " 0   id            object\n",
      " 1   name          object\n",
      " 2   album_group   object\n",
      " 3   album_type    object\n",
      " 4   release_date  int64 \n",
      " 5   popularity    int64 \n",
      "dtypes: int64(2), object(4)\n",
      "memory usage: 220.7+ MB\n"
     ]
    }
   ],
   "source": [
    "albums.info()"
   ]
  },
  {
   "cell_type": "code",
   "execution_count": 19,
   "metadata": {},
   "outputs": [
    {
     "data": {
      "text/html": [
       "<div>\n",
       "<style scoped>\n",
       "    .dataframe tbody tr th:only-of-type {\n",
       "        vertical-align: middle;\n",
       "    }\n",
       "\n",
       "    .dataframe tbody tr th {\n",
       "        vertical-align: top;\n",
       "    }\n",
       "\n",
       "    .dataframe thead th {\n",
       "        text-align: right;\n",
       "    }\n",
       "</style>\n",
       "<table border=\"1\" class=\"dataframe\">\n",
       "  <thead>\n",
       "    <tr style=\"text-align: right;\">\n",
       "      <th></th>\n",
       "      <th>release_date</th>\n",
       "      <th>popularity</th>\n",
       "    </tr>\n",
       "  </thead>\n",
       "  <tbody>\n",
       "    <tr>\n",
       "      <th>count</th>\n",
       "      <td>4820754.000</td>\n",
       "      <td>4820754.000</td>\n",
       "    </tr>\n",
       "    <tr>\n",
       "      <th>mean</th>\n",
       "      <td>1222681215510.437</td>\n",
       "      <td>2.152</td>\n",
       "    </tr>\n",
       "    <tr>\n",
       "      <th>std</th>\n",
       "      <td>469358868052.110</td>\n",
       "      <td>8.074</td>\n",
       "    </tr>\n",
       "    <tr>\n",
       "      <th>min</th>\n",
       "      <td>-62135769600000.000</td>\n",
       "      <td>0.000</td>\n",
       "    </tr>\n",
       "    <tr>\n",
       "      <th>25%</th>\n",
       "      <td>1139961600000.000</td>\n",
       "      <td>0.000</td>\n",
       "    </tr>\n",
       "    <tr>\n",
       "      <th>50%</th>\n",
       "      <td>1311033600000.000</td>\n",
       "      <td>0.000</td>\n",
       "    </tr>\n",
       "    <tr>\n",
       "      <th>75%</th>\n",
       "      <td>1414713600000.000</td>\n",
       "      <td>0.000</td>\n",
       "    </tr>\n",
       "    <tr>\n",
       "      <th>max</th>\n",
       "      <td>1644537600000.000</td>\n",
       "      <td>100.000</td>\n",
       "    </tr>\n",
       "  </tbody>\n",
       "</table>\n",
       "</div>"
      ],
      "text/plain": [
       "              release_date   popularity\n",
       "count          4820754.000  4820754.000\n",
       "mean     1222681215510.437        2.152\n",
       "std       469358868052.110        8.074\n",
       "min    -62135769600000.000        0.000\n",
       "25%      1139961600000.000        0.000\n",
       "50%      1311033600000.000        0.000\n",
       "75%      1414713600000.000        0.000\n",
       "max      1644537600000.000      100.000"
      ]
     },
     "execution_count": 19,
     "metadata": {},
     "output_type": "execute_result"
    }
   ],
   "source": [
    "albums.describe().apply(lambda s: s.apply(lambda x: format(x, '.3f')))"
   ]
  },
  {
   "cell_type": "markdown",
   "metadata": {},
   "source": [
    "En base a las celdas anteriores, consideramos: \n",
    "\n",
    "- Formalizar `release_date`, estan en formato timestamp unix, por lo que seria conveniente tener esa informacion como fecha. \\\n",
    "  Ademas debemos tener cuidado con los timestamps negativos, los que nos pueden traer problemas (algunos van al año 0)\n",
    "- Analizar si la popularidad del album es importante, pues 75% de sus valores es 0 en un rango de 0 a 100\n"
   ]
  },
  {
   "cell_type": "code",
   "execution_count": 20,
   "metadata": {},
   "outputs": [
    {
     "data": {
      "text/plain": [
       "album_type\n",
       "album          3612835\n",
       "compilation     766770\n",
       "single          441149\n",
       "Name: count, dtype: int64"
      ]
     },
     "execution_count": 20,
     "metadata": {},
     "output_type": "execute_result"
    }
   ],
   "source": [
    "albums['album_type'].value_counts()"
   ]
  },
  {
   "cell_type": "code",
   "execution_count": 21,
   "metadata": {},
   "outputs": [
    {
     "data": {
      "text/plain": [
       "album_group\n",
       "    4820754\n",
       "Name: count, dtype: int64"
      ]
     },
     "execution_count": 21,
     "metadata": {},
     "output_type": "execute_result"
    }
   ],
   "source": [
    "albums['album_group'].value_counts()"
   ]
  },
  {
   "cell_type": "code",
   "execution_count": 22,
   "metadata": {},
   "outputs": [
    {
     "data": {
      "text/plain": [
       "album_group\n",
       "True    4820754\n",
       "Name: count, dtype: int64"
      ]
     },
     "execution_count": 22,
     "metadata": {},
     "output_type": "execute_result"
    }
   ],
   "source": [
    "(albums['album_group'] == '').value_counts()"
   ]
  },
  {
   "cell_type": "markdown",
   "metadata": {},
   "source": [
    "En base a las celdas anteriores, consideramos: \n",
    "\n",
    "- `album_group`, que solo contiene strings vacios, es candidato a eliminar."
   ]
  },
  {
   "cell_type": "markdown",
   "metadata": {},
   "source": [
    "#### artists"
   ]
  },
  {
   "cell_type": "code",
   "execution_count": 23,
   "metadata": {},
   "outputs": [
    {
     "data": {
      "text/html": [
       "<div>\n",
       "<style scoped>\n",
       "    .dataframe tbody tr th:only-of-type {\n",
       "        vertical-align: middle;\n",
       "    }\n",
       "\n",
       "    .dataframe tbody tr th {\n",
       "        vertical-align: top;\n",
       "    }\n",
       "\n",
       "    .dataframe thead th {\n",
       "        text-align: right;\n",
       "    }\n",
       "</style>\n",
       "<table border=\"1\" class=\"dataframe\">\n",
       "  <thead>\n",
       "    <tr style=\"text-align: right;\">\n",
       "      <th></th>\n",
       "      <th>name</th>\n",
       "      <th>id</th>\n",
       "      <th>popularity</th>\n",
       "      <th>followers</th>\n",
       "    </tr>\n",
       "  </thead>\n",
       "  <tbody>\n",
       "    <tr>\n",
       "      <th>0</th>\n",
       "      <td>Xzibit</td>\n",
       "      <td>4tujQJicOnuZRLiBFdp3Ou</td>\n",
       "      <td>69</td>\n",
       "      <td>1193665</td>\n",
       "    </tr>\n",
       "    <tr>\n",
       "      <th>1</th>\n",
       "      <td>Erick Sermon</td>\n",
       "      <td>2VX0o9LDIVmKIgpnwdJpOJ</td>\n",
       "      <td>54</td>\n",
       "      <td>142007</td>\n",
       "    </tr>\n",
       "    <tr>\n",
       "      <th>2</th>\n",
       "      <td>J. Ro</td>\n",
       "      <td>3iBOsmwGzRKyR0vs2I61xP</td>\n",
       "      <td>45</td>\n",
       "      <td>158</td>\n",
       "    </tr>\n",
       "    <tr>\n",
       "      <th>3</th>\n",
       "      <td>Tash</td>\n",
       "      <td>22qf8cJRzBjIWb2Jc4JeOr</td>\n",
       "      <td>48</td>\n",
       "      <td>3421</td>\n",
       "    </tr>\n",
       "    <tr>\n",
       "      <th>4</th>\n",
       "      <td>Craig Mack</td>\n",
       "      <td>4akj4uteQQrrGxhX9Rjuyf</td>\n",
       "      <td>55</td>\n",
       "      <td>161966</td>\n",
       "    </tr>\n",
       "  </tbody>\n",
       "</table>\n",
       "</div>"
      ],
      "text/plain": [
       "           name                      id  popularity  followers\n",
       "0        Xzibit  4tujQJicOnuZRLiBFdp3Ou          69    1193665\n",
       "1  Erick Sermon  2VX0o9LDIVmKIgpnwdJpOJ          54     142007\n",
       "2         J. Ro  3iBOsmwGzRKyR0vs2I61xP          45        158\n",
       "3          Tash  22qf8cJRzBjIWb2Jc4JeOr          48       3421\n",
       "4    Craig Mack  4akj4uteQQrrGxhX9Rjuyf          55     161966"
      ]
     },
     "execution_count": 23,
     "metadata": {},
     "output_type": "execute_result"
    }
   ],
   "source": [
    "artists.head()"
   ]
  },
  {
   "cell_type": "code",
   "execution_count": 24,
   "metadata": {},
   "outputs": [
    {
     "data": {
      "text/plain": [
       "(1066031, 4)"
      ]
     },
     "execution_count": 24,
     "metadata": {},
     "output_type": "execute_result"
    }
   ],
   "source": [
    "artists.shape"
   ]
  },
  {
   "cell_type": "code",
   "execution_count": 25,
   "metadata": {},
   "outputs": [
    {
     "name": "stdout",
     "output_type": "stream",
     "text": [
      "<class 'pandas.core.frame.DataFrame'>\n",
      "RangeIndex: 1066031 entries, 0 to 1066030\n",
      "Data columns (total 4 columns):\n",
      " #   Column      Non-Null Count    Dtype \n",
      "---  ------      --------------    ----- \n",
      " 0   name        1066031 non-null  object\n",
      " 1   id          1066031 non-null  object\n",
      " 2   popularity  1066031 non-null  int64 \n",
      " 3   followers   1066031 non-null  int64 \n",
      "dtypes: int64(2), object(2)\n",
      "memory usage: 32.5+ MB\n"
     ]
    }
   ],
   "source": [
    "artists.info()"
   ]
  },
  {
   "cell_type": "code",
   "execution_count": 26,
   "metadata": {},
   "outputs": [
    {
     "data": {
      "text/html": [
       "<div>\n",
       "<style scoped>\n",
       "    .dataframe tbody tr th:only-of-type {\n",
       "        vertical-align: middle;\n",
       "    }\n",
       "\n",
       "    .dataframe tbody tr th {\n",
       "        vertical-align: top;\n",
       "    }\n",
       "\n",
       "    .dataframe thead th {\n",
       "        text-align: right;\n",
       "    }\n",
       "</style>\n",
       "<table border=\"1\" class=\"dataframe\">\n",
       "  <thead>\n",
       "    <tr style=\"text-align: right;\">\n",
       "      <th></th>\n",
       "      <th>popularity</th>\n",
       "      <th>followers</th>\n",
       "    </tr>\n",
       "  </thead>\n",
       "  <tbody>\n",
       "    <tr>\n",
       "      <th>count</th>\n",
       "      <td>1066031.000</td>\n",
       "      <td>1066031.000</td>\n",
       "    </tr>\n",
       "    <tr>\n",
       "      <th>mean</th>\n",
       "      <td>5.418</td>\n",
       "      <td>7012.360</td>\n",
       "    </tr>\n",
       "    <tr>\n",
       "      <th>std</th>\n",
       "      <td>11.944</td>\n",
       "      <td>208718.429</td>\n",
       "    </tr>\n",
       "    <tr>\n",
       "      <th>min</th>\n",
       "      <td>0.000</td>\n",
       "      <td>0.000</td>\n",
       "    </tr>\n",
       "    <tr>\n",
       "      <th>25%</th>\n",
       "      <td>0.000</td>\n",
       "      <td>0.000</td>\n",
       "    </tr>\n",
       "    <tr>\n",
       "      <th>50%</th>\n",
       "      <td>0.000</td>\n",
       "      <td>0.000</td>\n",
       "    </tr>\n",
       "    <tr>\n",
       "      <th>75%</th>\n",
       "      <td>3.000</td>\n",
       "      <td>101.000</td>\n",
       "    </tr>\n",
       "    <tr>\n",
       "      <th>max</th>\n",
       "      <td>98.000</td>\n",
       "      <td>78503098.000</td>\n",
       "    </tr>\n",
       "  </tbody>\n",
       "</table>\n",
       "</div>"
      ],
      "text/plain": [
       "        popularity     followers\n",
       "count  1066031.000   1066031.000\n",
       "mean         5.418      7012.360\n",
       "std         11.944    208718.429\n",
       "min          0.000         0.000\n",
       "25%          0.000         0.000\n",
       "50%          0.000         0.000\n",
       "75%          3.000       101.000\n",
       "max         98.000  78503098.000"
      ]
     },
     "execution_count": 26,
     "metadata": {},
     "output_type": "execute_result"
    }
   ],
   "source": [
    "artists.describe().apply(lambda s: s.apply(lambda x: format(x, '.3f')))"
   ]
  },
  {
   "cell_type": "markdown",
   "metadata": {},
   "source": [
    "Aqui no consideramos modificar los datos. Pero hay que considerar un analisis mas en profundidad de las columnas de popularidad y seguidores."
   ]
  },
  {
   "cell_type": "markdown",
   "metadata": {},
   "source": [
    "#### tracks"
   ]
  },
  {
   "cell_type": "code",
   "execution_count": 27,
   "metadata": {},
   "outputs": [
    {
     "data": {
      "text/html": [
       "<div>\n",
       "<style scoped>\n",
       "    .dataframe tbody tr th:only-of-type {\n",
       "        vertical-align: middle;\n",
       "    }\n",
       "\n",
       "    .dataframe tbody tr th {\n",
       "        vertical-align: top;\n",
       "    }\n",
       "\n",
       "    .dataframe thead th {\n",
       "        text-align: right;\n",
       "    }\n",
       "</style>\n",
       "<table border=\"1\" class=\"dataframe\">\n",
       "  <thead>\n",
       "    <tr style=\"text-align: right;\">\n",
       "      <th></th>\n",
       "      <th>id</th>\n",
       "      <th>disc_number</th>\n",
       "      <th>duration</th>\n",
       "      <th>explicit</th>\n",
       "      <th>audio_feature_id</th>\n",
       "      <th>name</th>\n",
       "      <th>preview_url</th>\n",
       "      <th>track_number</th>\n",
       "      <th>popularity</th>\n",
       "      <th>is_playable</th>\n",
       "    </tr>\n",
       "  </thead>\n",
       "  <tbody>\n",
       "    <tr>\n",
       "      <th>0</th>\n",
       "      <td>1dizvxctg9dHEyaYTFufVi</td>\n",
       "      <td>1</td>\n",
       "      <td>275893</td>\n",
       "      <td>1</td>\n",
       "      <td>1dizvxctg9dHEyaYTFufVi</td>\n",
       "      <td>Gz And Hustlas (feat. Nancy Fletcher)</td>\n",
       "      <td></td>\n",
       "      <td>12</td>\n",
       "      <td>0</td>\n",
       "      <td>NaN</td>\n",
       "    </tr>\n",
       "    <tr>\n",
       "      <th>1</th>\n",
       "      <td>2g8HN35AnVGIk7B8yMucww</td>\n",
       "      <td>1</td>\n",
       "      <td>252746</td>\n",
       "      <td>1</td>\n",
       "      <td>2g8HN35AnVGIk7B8yMucww</td>\n",
       "      <td>Big Poppa - 2005 Remaster</td>\n",
       "      <td>https://p.scdn.co/mp3-preview/770e023eb0318270ecc5caa018d758e5e0844de9?cid=cde021ca5d3e42a8bd440f1004a562dc</td>\n",
       "      <td>13</td>\n",
       "      <td>77</td>\n",
       "      <td>NaN</td>\n",
       "    </tr>\n",
       "    <tr>\n",
       "      <th>2</th>\n",
       "      <td>49pnyECzcMGCKAqxfTB4JZ</td>\n",
       "      <td>3</td>\n",
       "      <td>315080</td>\n",
       "      <td>0</td>\n",
       "      <td>49pnyECzcMGCKAqxfTB4JZ</td>\n",
       "      <td>You Were Born - Early Version Of \"One Of The Three\" / Outtake</td>\n",
       "      <td></td>\n",
       "      <td>6</td>\n",
       "      <td>8</td>\n",
       "      <td>1.0</td>\n",
       "    </tr>\n",
       "    <tr>\n",
       "      <th>3</th>\n",
       "      <td>4E5IFAXCob6QqZaJMTw5YN</td>\n",
       "      <td>1</td>\n",
       "      <td>240800</td>\n",
       "      <td>1</td>\n",
       "      <td>4E5IFAXCob6QqZaJMTw5YN</td>\n",
       "      <td>Poppin' Them Thangs</td>\n",
       "      <td>https://p.scdn.co/mp3-preview/f3b556ced9657f8987d2c981014205244daf4540?cid=cde021ca5d3e42a8bd440f1004a562dc</td>\n",
       "      <td>2</td>\n",
       "      <td>70</td>\n",
       "      <td>NaN</td>\n",
       "    </tr>\n",
       "    <tr>\n",
       "      <th>4</th>\n",
       "      <td>1gSt2UlC7mtRtJIc5zqKWn</td>\n",
       "      <td>2</td>\n",
       "      <td>203666</td>\n",
       "      <td>0</td>\n",
       "      <td>1gSt2UlC7mtRtJIc5zqKWn</td>\n",
       "      <td>It's Hard To Say \"I Do\", When I Don't</td>\n",
       "      <td></td>\n",
       "      <td>2</td>\n",
       "      <td>50</td>\n",
       "      <td>NaN</td>\n",
       "    </tr>\n",
       "  </tbody>\n",
       "</table>\n",
       "</div>"
      ],
      "text/plain": [
       "                       id  disc_number  duration  explicit  \\\n",
       "0  1dizvxctg9dHEyaYTFufVi            1    275893         1   \n",
       "1  2g8HN35AnVGIk7B8yMucww            1    252746         1   \n",
       "2  49pnyECzcMGCKAqxfTB4JZ            3    315080         0   \n",
       "3  4E5IFAXCob6QqZaJMTw5YN            1    240800         1   \n",
       "4  1gSt2UlC7mtRtJIc5zqKWn            2    203666         0   \n",
       "\n",
       "         audio_feature_id  \\\n",
       "0  1dizvxctg9dHEyaYTFufVi   \n",
       "1  2g8HN35AnVGIk7B8yMucww   \n",
       "2  49pnyECzcMGCKAqxfTB4JZ   \n",
       "3  4E5IFAXCob6QqZaJMTw5YN   \n",
       "4  1gSt2UlC7mtRtJIc5zqKWn   \n",
       "\n",
       "                                                            name  \\\n",
       "0                          Gz And Hustlas (feat. Nancy Fletcher)   \n",
       "1                                      Big Poppa - 2005 Remaster   \n",
       "2  You Were Born - Early Version Of \"One Of The Three\" / Outtake   \n",
       "3                                            Poppin' Them Thangs   \n",
       "4                          It's Hard To Say \"I Do\", When I Don't   \n",
       "\n",
       "                                                                                                   preview_url  \\\n",
       "0                                                                                                                \n",
       "1  https://p.scdn.co/mp3-preview/770e023eb0318270ecc5caa018d758e5e0844de9?cid=cde021ca5d3e42a8bd440f1004a562dc   \n",
       "2                                                                                                                \n",
       "3  https://p.scdn.co/mp3-preview/f3b556ced9657f8987d2c981014205244daf4540?cid=cde021ca5d3e42a8bd440f1004a562dc   \n",
       "4                                                                                                                \n",
       "\n",
       "   track_number  popularity  is_playable  \n",
       "0            12           0          NaN  \n",
       "1            13          77          NaN  \n",
       "2             6           8          1.0  \n",
       "3             2          70          NaN  \n",
       "4             2          50          NaN  "
      ]
     },
     "execution_count": 27,
     "metadata": {},
     "output_type": "execute_result"
    }
   ],
   "source": [
    "tracks.head()"
   ]
  },
  {
   "cell_type": "code",
   "execution_count": 28,
   "metadata": {},
   "outputs": [
    {
     "data": {
      "text/plain": [
       "(8741672, 10)"
      ]
     },
     "execution_count": 28,
     "metadata": {},
     "output_type": "execute_result"
    }
   ],
   "source": [
    "tracks.shape"
   ]
  },
  {
   "cell_type": "code",
   "execution_count": 29,
   "metadata": {},
   "outputs": [
    {
     "name": "stdout",
     "output_type": "stream",
     "text": [
      "<class 'pandas.core.frame.DataFrame'>\n",
      "RangeIndex: 8741672 entries, 0 to 8741671\n",
      "Data columns (total 10 columns):\n",
      " #   Column            Dtype  \n",
      "---  ------            -----  \n",
      " 0   id                object \n",
      " 1   disc_number       int64  \n",
      " 2   duration          int64  \n",
      " 3   explicit          int64  \n",
      " 4   audio_feature_id  object \n",
      " 5   name              object \n",
      " 6   preview_url       object \n",
      " 7   track_number      int64  \n",
      " 8   popularity        int64  \n",
      " 9   is_playable       float64\n",
      "dtypes: float64(1), int64(5), object(4)\n",
      "memory usage: 666.9+ MB\n"
     ]
    }
   ],
   "source": [
    "tracks.info()"
   ]
  },
  {
   "cell_type": "code",
   "execution_count": 30,
   "metadata": {},
   "outputs": [
    {
     "data": {
      "text/html": [
       "<div>\n",
       "<style scoped>\n",
       "    .dataframe tbody tr th:only-of-type {\n",
       "        vertical-align: middle;\n",
       "    }\n",
       "\n",
       "    .dataframe tbody tr th {\n",
       "        vertical-align: top;\n",
       "    }\n",
       "\n",
       "    .dataframe thead th {\n",
       "        text-align: right;\n",
       "    }\n",
       "</style>\n",
       "<table border=\"1\" class=\"dataframe\">\n",
       "  <thead>\n",
       "    <tr style=\"text-align: right;\">\n",
       "      <th></th>\n",
       "      <th>disc_number</th>\n",
       "      <th>duration</th>\n",
       "      <th>explicit</th>\n",
       "      <th>track_number</th>\n",
       "      <th>popularity</th>\n",
       "      <th>is_playable</th>\n",
       "    </tr>\n",
       "  </thead>\n",
       "  <tbody>\n",
       "    <tr>\n",
       "      <th>count</th>\n",
       "      <td>8741672.000</td>\n",
       "      <td>8741672.000</td>\n",
       "      <td>8741672.000</td>\n",
       "      <td>8741672.000</td>\n",
       "      <td>8741672.000</td>\n",
       "      <td>413800.000</td>\n",
       "    </tr>\n",
       "    <tr>\n",
       "      <th>mean</th>\n",
       "      <td>1.137</td>\n",
       "      <td>236968.739</td>\n",
       "      <td>0.067</td>\n",
       "      <td>10.932</td>\n",
       "      <td>6.118</td>\n",
       "      <td>0.875</td>\n",
       "    </tr>\n",
       "    <tr>\n",
       "      <th>std</th>\n",
       "      <td>0.996</td>\n",
       "      <td>159688.660</td>\n",
       "      <td>0.250</td>\n",
       "      <td>22.722</td>\n",
       "      <td>10.580</td>\n",
       "      <td>0.330</td>\n",
       "    </tr>\n",
       "    <tr>\n",
       "      <th>min</th>\n",
       "      <td>1.000</td>\n",
       "      <td>0.000</td>\n",
       "      <td>0.000</td>\n",
       "      <td>1.000</td>\n",
       "      <td>0.000</td>\n",
       "      <td>0.000</td>\n",
       "    </tr>\n",
       "    <tr>\n",
       "      <th>25%</th>\n",
       "      <td>1.000</td>\n",
       "      <td>169200.000</td>\n",
       "      <td>0.000</td>\n",
       "      <td>4.000</td>\n",
       "      <td>0.000</td>\n",
       "      <td>1.000</td>\n",
       "    </tr>\n",
       "    <tr>\n",
       "      <th>50%</th>\n",
       "      <td>1.000</td>\n",
       "      <td>216160.000</td>\n",
       "      <td>0.000</td>\n",
       "      <td>7.000</td>\n",
       "      <td>1.000</td>\n",
       "      <td>1.000</td>\n",
       "    </tr>\n",
       "    <tr>\n",
       "      <th>75%</th>\n",
       "      <td>1.000</td>\n",
       "      <td>273887.000</td>\n",
       "      <td>0.000</td>\n",
       "      <td>12.000</td>\n",
       "      <td>8.000</td>\n",
       "      <td>1.000</td>\n",
       "    </tr>\n",
       "    <tr>\n",
       "      <th>max</th>\n",
       "      <td>63.000</td>\n",
       "      <td>19672058.000</td>\n",
       "      <td>1.000</td>\n",
       "      <td>1522.000</td>\n",
       "      <td>100.000</td>\n",
       "      <td>1.000</td>\n",
       "    </tr>\n",
       "  </tbody>\n",
       "</table>\n",
       "</div>"
      ],
      "text/plain": [
       "       disc_number      duration     explicit track_number   popularity  \\\n",
       "count  8741672.000   8741672.000  8741672.000  8741672.000  8741672.000   \n",
       "mean         1.137    236968.739        0.067       10.932        6.118   \n",
       "std          0.996    159688.660        0.250       22.722       10.580   \n",
       "min          1.000         0.000        0.000        1.000        0.000   \n",
       "25%          1.000    169200.000        0.000        4.000        0.000   \n",
       "50%          1.000    216160.000        0.000        7.000        1.000   \n",
       "75%          1.000    273887.000        0.000       12.000        8.000   \n",
       "max         63.000  19672058.000        1.000     1522.000      100.000   \n",
       "\n",
       "      is_playable  \n",
       "count  413800.000  \n",
       "mean        0.875  \n",
       "std         0.330  \n",
       "min         0.000  \n",
       "25%         1.000  \n",
       "50%         1.000  \n",
       "75%         1.000  \n",
       "max         1.000  "
      ]
     },
     "execution_count": 30,
     "metadata": {},
     "output_type": "execute_result"
    }
   ],
   "source": [
    "tracks.describe().apply(lambda s: s.apply(lambda x: format(x, '.3f')))"
   ]
  },
  {
   "cell_type": "markdown",
   "metadata": {},
   "source": [
    "A partir de las celdas anteriores, consideramos:\n",
    "\n",
    "- `disc_number` es candidato a eliminar, pues tiene poca varianza y algunos outliers.\n",
    "- Analizar si `track_number` puede ser una columna util o no. Parece tener outliers (ver `max`).\n",
    "- `is_playable` es candidato a eliminar, pues su count indica que muchos de sus valores son nulos."
   ]
  },
  {
   "cell_type": "code",
   "execution_count": 31,
   "metadata": {},
   "outputs": [
    {
     "data": {
      "text/plain": [
       "disc_number\n",
       "1     8204349\n",
       "2      348328\n",
       "3       80298\n",
       "4       38099\n",
       "5       20324\n",
       "       ...   \n",
       "63          6\n",
       "57          5\n",
       "59          5\n",
       "62          4\n",
       "58          3\n",
       "Name: count, Length: 63, dtype: int64"
      ]
     },
     "execution_count": 31,
     "metadata": {},
     "output_type": "execute_result"
    }
   ],
   "source": [
    "tracks['disc_number'].value_counts()"
   ]
  },
  {
   "cell_type": "code",
   "execution_count": 32,
   "metadata": {},
   "outputs": [
    {
     "data": {
      "text/plain": [
       "63"
      ]
     },
     "execution_count": 32,
     "metadata": {},
     "output_type": "execute_result"
    }
   ],
   "source": [
    "tracks['disc_number'].max()"
   ]
  },
  {
   "cell_type": "code",
   "execution_count": 33,
   "metadata": {},
   "outputs": [
    {
     "data": {
      "text/plain": [
       "0.9917664238559349"
      ]
     },
     "execution_count": 33,
     "metadata": {},
     "output_type": "execute_result"
    }
   ],
   "source": [
    "tracks['disc_number'].var()"
   ]
  },
  {
   "cell_type": "code",
   "execution_count": 34,
   "metadata": {},
   "outputs": [
    {
     "data": {
      "text/plain": [
       "track_number\n",
       "1       806135\n",
       "2       680726\n",
       "3       652969\n",
       "4       632889\n",
       "5       603712\n",
       "         ...  \n",
       "1132         1\n",
       "1129         1\n",
       "1114         1\n",
       "1121         1\n",
       "999          1\n",
       "Name: count, Length: 1522, dtype: int64"
      ]
     },
     "execution_count": 34,
     "metadata": {},
     "output_type": "execute_result"
    }
   ],
   "source": [
    "tracks['track_number'].value_counts()"
   ]
  },
  {
   "cell_type": "markdown",
   "metadata": {},
   "source": [
    "OPAAA, que paso ahi?\n",
    "investiguemos 😎"
   ]
  },
  {
   "cell_type": "code",
   "execution_count": 35,
   "metadata": {},
   "outputs": [
    {
     "data": {
      "text/plain": [
       "1522"
      ]
     },
     "execution_count": 35,
     "metadata": {},
     "output_type": "execute_result"
    }
   ],
   "source": [
    "tracks['track_number'].max()"
   ]
  },
  {
   "cell_type": "code",
   "execution_count": 39,
   "metadata": {},
   "outputs": [
    {
     "data": {
      "text/html": [
       "<div>\n",
       "<style scoped>\n",
       "    .dataframe tbody tr th:only-of-type {\n",
       "        vertical-align: middle;\n",
       "    }\n",
       "\n",
       "    .dataframe tbody tr th {\n",
       "        vertical-align: top;\n",
       "    }\n",
       "\n",
       "    .dataframe thead th {\n",
       "        text-align: right;\n",
       "    }\n",
       "</style>\n",
       "<table border=\"1\" class=\"dataframe\">\n",
       "  <thead>\n",
       "    <tr style=\"text-align: right;\">\n",
       "      <th></th>\n",
       "      <th>id</th>\n",
       "      <th>disc_number</th>\n",
       "      <th>duration</th>\n",
       "      <th>explicit</th>\n",
       "      <th>audio_feature_id</th>\n",
       "      <th>name</th>\n",
       "      <th>preview_url</th>\n",
       "      <th>track_number</th>\n",
       "      <th>popularity</th>\n",
       "      <th>is_playable</th>\n",
       "    </tr>\n",
       "  </thead>\n",
       "  <tbody>\n",
       "    <tr>\n",
       "      <th>8507196</th>\n",
       "      <td>0GrJnG25UQXcvKpK0rIcRQ</td>\n",
       "      <td>1</td>\n",
       "      <td>122700</td>\n",
       "      <td>0</td>\n",
       "      <td>0GrJnG25UQXcvKpK0rIcRQ</td>\n",
       "      <td>Chapter 1159 - The Count of Monte Cristo</td>\n",
       "      <td>https://p.scdn.co/mp3-preview/417c2f7423d80a212aa6f53de6df2144fb060c3c?cid=cd552680dec84110b29ddf95d645cbe8</td>\n",
       "      <td>1159</td>\n",
       "      <td>0</td>\n",
       "      <td>NaN</td>\n",
       "    </tr>\n",
       "    <tr>\n",
       "      <th>3148986</th>\n",
       "      <td>52vTZqkfgKgrhIATNXtIfi</td>\n",
       "      <td>1</td>\n",
       "      <td>129000</td>\n",
       "      <td>0</td>\n",
       "      <td>52vTZqkfgKgrhIATNXtIfi</td>\n",
       "      <td>Chapter 1395 - The Count of Monte Cristo</td>\n",
       "      <td>https://p.scdn.co/mp3-preview/f42573897b580f43befe4ad352fa33c4314501a6?cid=cd552680dec84110b29ddf95d645cbe8</td>\n",
       "      <td>1395</td>\n",
       "      <td>0</td>\n",
       "      <td>NaN</td>\n",
       "    </tr>\n",
       "    <tr>\n",
       "      <th>494346</th>\n",
       "      <td>0W0kSvScPyvba1JUoqLC80</td>\n",
       "      <td>1</td>\n",
       "      <td>125500</td>\n",
       "      <td>0</td>\n",
       "      <td>0W0kSvScPyvba1JUoqLC80</td>\n",
       "      <td>Chapter 1495 - The Count of Monte Cristo</td>\n",
       "      <td>https://p.scdn.co/mp3-preview/85f0ecbd734faeb9dda2c9023af2a94e03f4e2a1?cid=cd552680dec84110b29ddf95d645cbe8</td>\n",
       "      <td>1495</td>\n",
       "      <td>0</td>\n",
       "      <td>NaN</td>\n",
       "    </tr>\n",
       "    <tr>\n",
       "      <th>2304746</th>\n",
       "      <td>5B6Oaw3Qp1UzaJNGPKf8mW</td>\n",
       "      <td>1</td>\n",
       "      <td>129100</td>\n",
       "      <td>0</td>\n",
       "      <td>5B6Oaw3Qp1UzaJNGPKf8mW</td>\n",
       "      <td>Chapter 1473 - The Count of Monte Cristo</td>\n",
       "      <td>https://p.scdn.co/mp3-preview/58d587b9c1e1b5b8d06aa2e16316e12470f097f9?cid=cd552680dec84110b29ddf95d645cbe8</td>\n",
       "      <td>1473</td>\n",
       "      <td>0</td>\n",
       "      <td>NaN</td>\n",
       "    </tr>\n",
       "    <tr>\n",
       "      <th>3148750</th>\n",
       "      <td>0K5gjkfAAYRLKV9i1wwUjf</td>\n",
       "      <td>1</td>\n",
       "      <td>132300</td>\n",
       "      <td>0</td>\n",
       "      <td>0K5gjkfAAYRLKV9i1wwUjf</td>\n",
       "      <td>Chapter 1147 - The Count of Monte Cristo</td>\n",
       "      <td>https://p.scdn.co/mp3-preview/05eb657cd01ba0b22ee808608692360c078c93dc?cid=cd552680dec84110b29ddf95d645cbe8</td>\n",
       "      <td>1147</td>\n",
       "      <td>0</td>\n",
       "      <td>NaN</td>\n",
       "    </tr>\n",
       "  </tbody>\n",
       "</table>\n",
       "</div>"
      ],
      "text/plain": [
       "                             id  disc_number  duration  explicit  \\\n",
       "8507196  0GrJnG25UQXcvKpK0rIcRQ            1    122700         0   \n",
       "3148986  52vTZqkfgKgrhIATNXtIfi            1    129000         0   \n",
       "494346   0W0kSvScPyvba1JUoqLC80            1    125500         0   \n",
       "2304746  5B6Oaw3Qp1UzaJNGPKf8mW            1    129100         0   \n",
       "3148750  0K5gjkfAAYRLKV9i1wwUjf            1    132300         0   \n",
       "\n",
       "               audio_feature_id                                      name  \\\n",
       "8507196  0GrJnG25UQXcvKpK0rIcRQ  Chapter 1159 - The Count of Monte Cristo   \n",
       "3148986  52vTZqkfgKgrhIATNXtIfi  Chapter 1395 - The Count of Monte Cristo   \n",
       "494346   0W0kSvScPyvba1JUoqLC80  Chapter 1495 - The Count of Monte Cristo   \n",
       "2304746  5B6Oaw3Qp1UzaJNGPKf8mW  Chapter 1473 - The Count of Monte Cristo   \n",
       "3148750  0K5gjkfAAYRLKV9i1wwUjf  Chapter 1147 - The Count of Monte Cristo   \n",
       "\n",
       "                                                                                                         preview_url  \\\n",
       "8507196  https://p.scdn.co/mp3-preview/417c2f7423d80a212aa6f53de6df2144fb060c3c?cid=cd552680dec84110b29ddf95d645cbe8   \n",
       "3148986  https://p.scdn.co/mp3-preview/f42573897b580f43befe4ad352fa33c4314501a6?cid=cd552680dec84110b29ddf95d645cbe8   \n",
       "494346   https://p.scdn.co/mp3-preview/85f0ecbd734faeb9dda2c9023af2a94e03f4e2a1?cid=cd552680dec84110b29ddf95d645cbe8   \n",
       "2304746  https://p.scdn.co/mp3-preview/58d587b9c1e1b5b8d06aa2e16316e12470f097f9?cid=cd552680dec84110b29ddf95d645cbe8   \n",
       "3148750  https://p.scdn.co/mp3-preview/05eb657cd01ba0b22ee808608692360c078c93dc?cid=cd552680dec84110b29ddf95d645cbe8   \n",
       "\n",
       "         track_number  popularity  is_playable  \n",
       "8507196          1159           0          NaN  \n",
       "3148986          1395           0          NaN  \n",
       "494346           1495           0          NaN  \n",
       "2304746          1473           0          NaN  \n",
       "3148750          1147           0          NaN  "
      ]
     },
     "execution_count": 39,
     "metadata": {},
     "output_type": "execute_result"
    }
   ],
   "source": [
    "tracks[tracks['track_number'] >= 1000].sample(5)"
   ]
  },
  {
   "cell_type": "markdown",
   "metadata": {},
   "source": [
    "Curioso, estas canciones estan relacionadas y tienen su numero de **_Chapter_** como `track_number`, esto nos genera una serie de outliers que posiblemente van de track number 1 a 1522. Extendamos la busqueda."
   ]
  },
  {
   "cell_type": "code",
   "execution_count": 40,
   "metadata": {},
   "outputs": [
    {
     "data": {
      "text/plain": [
       "(1522, 2)"
      ]
     },
     "execution_count": 40,
     "metadata": {},
     "output_type": "execute_result"
    }
   ],
   "source": [
    "# obtenemos todos los tracks del album que contiene el track con el numero mas alto\n",
    "r_albums_tracks[\n",
    "  r_albums_tracks['album_id'] == r_albums_tracks[\n",
    "    # album que tiene el track con el numero mas alto\n",
    "    r_albums_tracks['track_id'] == tracks[\n",
    "      # track con el numero mas alto\n",
    "      tracks['track_number'] == tracks['track_number'].max()\n",
    "    ]['id'].values[0]\n",
    "  ]['album_id'].values[0]\n",
    "].shape"
   ]
  },
  {
   "cell_type": "markdown",
   "metadata": {},
   "source": [
    "Exactamente lo que pensabamos, tenemos nuestro primer outlier. Utilizemos `track_number` como filtro para ver si encontramos otros."
   ]
  },
  {
   "cell_type": "code",
   "execution_count": 41,
   "metadata": {},
   "outputs": [
    {
     "data": {
      "text/html": [
       "<div>\n",
       "<style scoped>\n",
       "    .dataframe tbody tr th:only-of-type {\n",
       "        vertical-align: middle;\n",
       "    }\n",
       "\n",
       "    .dataframe tbody tr th {\n",
       "        vertical-align: top;\n",
       "    }\n",
       "\n",
       "    .dataframe thead th {\n",
       "        text-align: right;\n",
       "    }\n",
       "</style>\n",
       "<table border=\"1\" class=\"dataframe\">\n",
       "  <thead>\n",
       "    <tr style=\"text-align: right;\">\n",
       "      <th></th>\n",
       "      <th>id</th>\n",
       "      <th>disc_number</th>\n",
       "      <th>duration</th>\n",
       "      <th>explicit</th>\n",
       "      <th>audio_feature_id</th>\n",
       "      <th>name</th>\n",
       "      <th>preview_url</th>\n",
       "      <th>track_number</th>\n",
       "      <th>popularity</th>\n",
       "      <th>is_playable</th>\n",
       "    </tr>\n",
       "  </thead>\n",
       "  <tbody>\n",
       "    <tr>\n",
       "      <th>111742</th>\n",
       "      <td>69O5wLrHkSfJ48oaFl112N</td>\n",
       "      <td>1</td>\n",
       "      <td>127507</td>\n",
       "      <td>0</td>\n",
       "      <td>69O5wLrHkSfJ48oaFl112N</td>\n",
       "      <td>Chapter 332.2 &amp; Chapter 333.1 - Doktor Murek zredukowany</td>\n",
       "      <td>https://p.scdn.co/mp3-preview/2efd4d71b3d87c11523181e52c70bb630131099e?cid=cde021ca5d3e42a8bd440f1004a562dc</td>\n",
       "      <td>586</td>\n",
       "      <td>0</td>\n",
       "      <td>NaN</td>\n",
       "    </tr>\n",
       "    <tr>\n",
       "      <th>3661104</th>\n",
       "      <td>2W3gyFLgHNmzevjiR0LLhu</td>\n",
       "      <td>1</td>\n",
       "      <td>357370</td>\n",
       "      <td>0</td>\n",
       "      <td>2W3gyFLgHNmzevjiR0LLhu</td>\n",
       "      <td>Jeremiah 05</td>\n",
       "      <td>https://p.scdn.co/mp3-preview/641bf83b8591a7963ea49da5997833c0db82d162?cid=cd552680dec84110b29ddf95d645cbe8</td>\n",
       "      <td>751</td>\n",
       "      <td>9</td>\n",
       "      <td>NaN</td>\n",
       "    </tr>\n",
       "    <tr>\n",
       "      <th>8404295</th>\n",
       "      <td>0d2IirtaeYZPgRo4c4SD2R</td>\n",
       "      <td>1</td>\n",
       "      <td>317596</td>\n",
       "      <td>0</td>\n",
       "      <td>0d2IirtaeYZPgRo4c4SD2R</td>\n",
       "      <td>Ezekiel 37</td>\n",
       "      <td>https://p.scdn.co/mp3-preview/a3100a02bc4ee27443011980895454b25b248bb9?cid=cd552680dec84110b29ddf95d645cbe8</td>\n",
       "      <td>840</td>\n",
       "      <td>7</td>\n",
       "      <td>NaN</td>\n",
       "    </tr>\n",
       "    <tr>\n",
       "      <th>7747553</th>\n",
       "      <td>7ucQSgP3bGrgvIsMq1UMm1</td>\n",
       "      <td>1</td>\n",
       "      <td>6757</td>\n",
       "      <td>0</td>\n",
       "      <td>7ucQSgP3bGrgvIsMq1UMm1</td>\n",
       "      <td>Warped Clock Chime</td>\n",
       "      <td></td>\n",
       "      <td>660</td>\n",
       "      <td>0</td>\n",
       "      <td>NaN</td>\n",
       "    </tr>\n",
       "    <tr>\n",
       "      <th>3781233</th>\n",
       "      <td>3Bf4cGiAgf4Ip8TirOgl37</td>\n",
       "      <td>1</td>\n",
       "      <td>131800</td>\n",
       "      <td>0</td>\n",
       "      <td>3Bf4cGiAgf4Ip8TirOgl37</td>\n",
       "      <td>Chapter 587 - The Count of Monte Cristo</td>\n",
       "      <td>https://p.scdn.co/mp3-preview/412e46d6b835774443222e95e216eb7e2f37e472?cid=cd552680dec84110b29ddf95d645cbe8</td>\n",
       "      <td>587</td>\n",
       "      <td>1</td>\n",
       "      <td>NaN</td>\n",
       "    </tr>\n",
       "  </tbody>\n",
       "</table>\n",
       "</div>"
      ],
      "text/plain": [
       "                             id  disc_number  duration  explicit  \\\n",
       "111742   69O5wLrHkSfJ48oaFl112N            1    127507         0   \n",
       "3661104  2W3gyFLgHNmzevjiR0LLhu            1    357370         0   \n",
       "8404295  0d2IirtaeYZPgRo4c4SD2R            1    317596         0   \n",
       "7747553  7ucQSgP3bGrgvIsMq1UMm1            1      6757         0   \n",
       "3781233  3Bf4cGiAgf4Ip8TirOgl37            1    131800         0   \n",
       "\n",
       "               audio_feature_id  \\\n",
       "111742   69O5wLrHkSfJ48oaFl112N   \n",
       "3661104  2W3gyFLgHNmzevjiR0LLhu   \n",
       "8404295  0d2IirtaeYZPgRo4c4SD2R   \n",
       "7747553  7ucQSgP3bGrgvIsMq1UMm1   \n",
       "3781233  3Bf4cGiAgf4Ip8TirOgl37   \n",
       "\n",
       "                                                             name  \\\n",
       "111742   Chapter 332.2 & Chapter 333.1 - Doktor Murek zredukowany   \n",
       "3661104                                               Jeremiah 05   \n",
       "8404295                                                Ezekiel 37   \n",
       "7747553                                        Warped Clock Chime   \n",
       "3781233                   Chapter 587 - The Count of Monte Cristo   \n",
       "\n",
       "                                                                                                         preview_url  \\\n",
       "111742   https://p.scdn.co/mp3-preview/2efd4d71b3d87c11523181e52c70bb630131099e?cid=cde021ca5d3e42a8bd440f1004a562dc   \n",
       "3661104  https://p.scdn.co/mp3-preview/641bf83b8591a7963ea49da5997833c0db82d162?cid=cd552680dec84110b29ddf95d645cbe8   \n",
       "8404295  https://p.scdn.co/mp3-preview/a3100a02bc4ee27443011980895454b25b248bb9?cid=cd552680dec84110b29ddf95d645cbe8   \n",
       "7747553                                                                                                                \n",
       "3781233  https://p.scdn.co/mp3-preview/412e46d6b835774443222e95e216eb7e2f37e472?cid=cd552680dec84110b29ddf95d645cbe8   \n",
       "\n",
       "         track_number  popularity  is_playable  \n",
       "111742            586           0          NaN  \n",
       "3661104           751           9          NaN  \n",
       "8404295           840           7          NaN  \n",
       "7747553           660           0          NaN  \n",
       "3781233           587           1          NaN  "
      ]
     },
     "execution_count": 41,
     "metadata": {},
     "output_type": "execute_result"
    }
   ],
   "source": [
    "tracks[tracks['track_number'] >= 500].sample(5)"
   ]
  },
  {
   "cell_type": "markdown",
   "metadata": {},
   "source": [
    "En efecto, Aparece nuevamente el conde de montecristo, pero ademas comenzamos a encontrar audios de la biblia (?), efectos de sonido y canciones de musica clasica (posiblemente de albumes recopilatorios).\n",
    "\n",
    "En base a esto podemos definir que `track_number` nos puede servir como filtro a todos estos datos que no nos sean utiles y que quizas podemos excluir los albumes recopilatorios de los datos.\n",
    "\n",
    "Finalmente, hay que decidir donde pondremos nuestro limite a considerar y si excluimos los albumes recopilatorios de los datos."
   ]
  },
  {
   "cell_type": "code",
   "execution_count": 42,
   "metadata": {},
   "outputs": [
    {
     "data": {
      "text/plain": [
       "is_playable\n",
       "1.0    362237\n",
       "0.0     51563\n",
       "Name: count, dtype: int64"
      ]
     },
     "execution_count": 42,
     "metadata": {},
     "output_type": "execute_result"
    }
   ],
   "source": [
    "tracks['is_playable'].value_counts()"
   ]
  },
  {
   "cell_type": "markdown",
   "metadata": {},
   "source": [
    "Ya habiamos visto que a esta columna le faltaban muchos datos, comprobemos cuantos son nulos."
   ]
  },
  {
   "cell_type": "code",
   "execution_count": 43,
   "metadata": {},
   "outputs": [
    {
     "data": {
      "text/plain": [
       "(8327872, 10)"
      ]
     },
     "execution_count": 43,
     "metadata": {},
     "output_type": "execute_result"
    }
   ],
   "source": [
    "tracks[tracks['is_playable'].isna()].shape"
   ]
  },
  {
   "cell_type": "markdown",
   "metadata": {},
   "source": [
    "Hay muchos nulos en esta columna!!! Claramente es eliminable."
   ]
  },
  {
   "cell_type": "code",
   "execution_count": 44,
   "metadata": {},
   "outputs": [
    {
     "data": {
      "text/plain": [
       "explicit\n",
       "0    8157738\n",
       "1     583934\n",
       "Name: count, dtype: int64"
      ]
     },
     "execution_count": 44,
     "metadata": {},
     "output_type": "execute_result"
    }
   ],
   "source": [
    "tracks['explicit'].value_counts()"
   ]
  },
  {
   "cell_type": "code",
   "execution_count": 45,
   "metadata": {},
   "outputs": [
    {
     "data": {
      "text/plain": [
       "duration\n",
       "240000    4817\n",
       "180000    3807\n",
       "192000    3742\n",
       "210000    3034\n",
       "216000    2745\n",
       "          ... \n",
       "453684       1\n",
       "466432       1\n",
       "320482       1\n",
       "369663       1\n",
       "373341       1\n",
       "Name: count, Length: 521764, dtype: int64"
      ]
     },
     "execution_count": 45,
     "metadata": {},
     "output_type": "execute_result"
    }
   ],
   "source": [
    "tracks['duration'].value_counts()"
   ]
  },
  {
   "cell_type": "markdown",
   "metadata": {},
   "source": [
    "La duracion tambien evidencia presencia de algunos outliers, sin embargo, conviene excluir a los albumes recopilatorios del analisis y verificar nuevamente."
   ]
  },
  {
   "cell_type": "markdown",
   "metadata": {},
   "source": [
    "#### audio_features"
   ]
  },
  {
   "cell_type": "code",
   "execution_count": 46,
   "metadata": {},
   "outputs": [
    {
     "data": {
      "text/html": [
       "<div>\n",
       "<style scoped>\n",
       "    .dataframe tbody tr th:only-of-type {\n",
       "        vertical-align: middle;\n",
       "    }\n",
       "\n",
       "    .dataframe tbody tr th {\n",
       "        vertical-align: top;\n",
       "    }\n",
       "\n",
       "    .dataframe thead th {\n",
       "        text-align: right;\n",
       "    }\n",
       "</style>\n",
       "<table border=\"1\" class=\"dataframe\">\n",
       "  <thead>\n",
       "    <tr style=\"text-align: right;\">\n",
       "      <th></th>\n",
       "      <th>id</th>\n",
       "      <th>acousticness</th>\n",
       "      <th>analysis_url</th>\n",
       "      <th>danceability</th>\n",
       "      <th>duration</th>\n",
       "      <th>energy</th>\n",
       "      <th>instrumentalness</th>\n",
       "      <th>key</th>\n",
       "      <th>liveness</th>\n",
       "      <th>loudness</th>\n",
       "      <th>mode</th>\n",
       "      <th>speechiness</th>\n",
       "      <th>tempo</th>\n",
       "      <th>time_signature</th>\n",
       "      <th>valence</th>\n",
       "    </tr>\n",
       "  </thead>\n",
       "  <tbody>\n",
       "    <tr>\n",
       "      <th>0</th>\n",
       "      <td>2jKoVlU7VAmExKJ1Jh3w9P</td>\n",
       "      <td>0.1800</td>\n",
       "      <td>https://api.spotify.com/v1/audio-analysis/2jKoVlU7VAmExKJ1Jh3w9P</td>\n",
       "      <td>0.893</td>\n",
       "      <td>219160</td>\n",
       "      <td>0.514</td>\n",
       "      <td>0.000000</td>\n",
       "      <td>11</td>\n",
       "      <td>0.0596</td>\n",
       "      <td>-5.080</td>\n",
       "      <td>1</td>\n",
       "      <td>0.283</td>\n",
       "      <td>95.848000</td>\n",
       "      <td>4</td>\n",
       "      <td>0.787</td>\n",
       "    </tr>\n",
       "    <tr>\n",
       "      <th>1</th>\n",
       "      <td>4JYUDRtPZuVNi7FAnbHyux</td>\n",
       "      <td>0.2720</td>\n",
       "      <td>https://api.spotify.com/v1/audio-analysis/4JYUDRtPZuVNi7FAnbHyux</td>\n",
       "      <td>0.520</td>\n",
       "      <td>302013</td>\n",
       "      <td>0.847</td>\n",
       "      <td>0.000000</td>\n",
       "      <td>9</td>\n",
       "      <td>0.3250</td>\n",
       "      <td>-5.300</td>\n",
       "      <td>1</td>\n",
       "      <td>0.427</td>\n",
       "      <td>177.371002</td>\n",
       "      <td>4</td>\n",
       "      <td>0.799</td>\n",
       "    </tr>\n",
       "    <tr>\n",
       "      <th>2</th>\n",
       "      <td>6YjKAkDYmlasMqYw73iB0w</td>\n",
       "      <td>0.0783</td>\n",
       "      <td>https://api.spotify.com/v1/audio-analysis/6YjKAkDYmlasMqYw73iB0w</td>\n",
       "      <td>0.918</td>\n",
       "      <td>288200</td>\n",
       "      <td>0.586</td>\n",
       "      <td>0.000000</td>\n",
       "      <td>1</td>\n",
       "      <td>0.1450</td>\n",
       "      <td>-2.890</td>\n",
       "      <td>1</td>\n",
       "      <td>0.133</td>\n",
       "      <td>95.516998</td>\n",
       "      <td>4</td>\n",
       "      <td>0.779</td>\n",
       "    </tr>\n",
       "    <tr>\n",
       "      <th>3</th>\n",
       "      <td>2YlvHjDb4Tyxl4A1IcDhAe</td>\n",
       "      <td>0.5840</td>\n",
       "      <td>https://api.spotify.com/v1/audio-analysis/2YlvHjDb4Tyxl4A1IcDhAe</td>\n",
       "      <td>0.877</td>\n",
       "      <td>243013</td>\n",
       "      <td>0.681</td>\n",
       "      <td>0.000000</td>\n",
       "      <td>1</td>\n",
       "      <td>0.1190</td>\n",
       "      <td>-6.277</td>\n",
       "      <td>0</td>\n",
       "      <td>0.259</td>\n",
       "      <td>94.834999</td>\n",
       "      <td>4</td>\n",
       "      <td>0.839</td>\n",
       "    </tr>\n",
       "    <tr>\n",
       "      <th>4</th>\n",
       "      <td>3UOuBNEin5peSRqdzvlnWM</td>\n",
       "      <td>0.1700</td>\n",
       "      <td>https://api.spotify.com/v1/audio-analysis/3UOuBNEin5peSRqdzvlnWM</td>\n",
       "      <td>0.814</td>\n",
       "      <td>270667</td>\n",
       "      <td>0.781</td>\n",
       "      <td>0.000518</td>\n",
       "      <td>11</td>\n",
       "      <td>0.0520</td>\n",
       "      <td>-3.330</td>\n",
       "      <td>1</td>\n",
       "      <td>0.233</td>\n",
       "      <td>93.445000</td>\n",
       "      <td>4</td>\n",
       "      <td>0.536</td>\n",
       "    </tr>\n",
       "  </tbody>\n",
       "</table>\n",
       "</div>"
      ],
      "text/plain": [
       "                       id  acousticness  \\\n",
       "0  2jKoVlU7VAmExKJ1Jh3w9P        0.1800   \n",
       "1  4JYUDRtPZuVNi7FAnbHyux        0.2720   \n",
       "2  6YjKAkDYmlasMqYw73iB0w        0.0783   \n",
       "3  2YlvHjDb4Tyxl4A1IcDhAe        0.5840   \n",
       "4  3UOuBNEin5peSRqdzvlnWM        0.1700   \n",
       "\n",
       "                                                       analysis_url  \\\n",
       "0  https://api.spotify.com/v1/audio-analysis/2jKoVlU7VAmExKJ1Jh3w9P   \n",
       "1  https://api.spotify.com/v1/audio-analysis/4JYUDRtPZuVNi7FAnbHyux   \n",
       "2  https://api.spotify.com/v1/audio-analysis/6YjKAkDYmlasMqYw73iB0w   \n",
       "3  https://api.spotify.com/v1/audio-analysis/2YlvHjDb4Tyxl4A1IcDhAe   \n",
       "4  https://api.spotify.com/v1/audio-analysis/3UOuBNEin5peSRqdzvlnWM   \n",
       "\n",
       "   danceability  duration  energy  instrumentalness  key  liveness  loudness  \\\n",
       "0         0.893    219160   0.514          0.000000   11    0.0596    -5.080   \n",
       "1         0.520    302013   0.847          0.000000    9    0.3250    -5.300   \n",
       "2         0.918    288200   0.586          0.000000    1    0.1450    -2.890   \n",
       "3         0.877    243013   0.681          0.000000    1    0.1190    -6.277   \n",
       "4         0.814    270667   0.781          0.000518   11    0.0520    -3.330   \n",
       "\n",
       "   mode  speechiness       tempo  time_signature  valence  \n",
       "0     1        0.283   95.848000               4    0.787  \n",
       "1     1        0.427  177.371002               4    0.799  \n",
       "2     1        0.133   95.516998               4    0.779  \n",
       "3     0        0.259   94.834999               4    0.839  \n",
       "4     1        0.233   93.445000               4    0.536  "
      ]
     },
     "execution_count": 46,
     "metadata": {},
     "output_type": "execute_result"
    }
   ],
   "source": [
    "audio_features.head()"
   ]
  },
  {
   "cell_type": "code",
   "execution_count": 47,
   "metadata": {},
   "outputs": [
    {
     "data": {
      "text/plain": [
       "(8740043, 15)"
      ]
     },
     "execution_count": 47,
     "metadata": {},
     "output_type": "execute_result"
    }
   ],
   "source": [
    "audio_features.shape"
   ]
  },
  {
   "cell_type": "code",
   "execution_count": 48,
   "metadata": {},
   "outputs": [
    {
     "name": "stdout",
     "output_type": "stream",
     "text": [
      "<class 'pandas.core.frame.DataFrame'>\n",
      "RangeIndex: 8740043 entries, 0 to 8740042\n",
      "Data columns (total 15 columns):\n",
      " #   Column            Dtype  \n",
      "---  ------            -----  \n",
      " 0   id                object \n",
      " 1   acousticness      float64\n",
      " 2   analysis_url      object \n",
      " 3   danceability      float64\n",
      " 4   duration          int64  \n",
      " 5   energy            float64\n",
      " 6   instrumentalness  float64\n",
      " 7   key               int64  \n",
      " 8   liveness          float64\n",
      " 9   loudness          float64\n",
      " 10  mode              int64  \n",
      " 11  speechiness       float64\n",
      " 12  tempo             float64\n",
      " 13  time_signature    int64  \n",
      " 14  valence           float64\n",
      "dtypes: float64(9), int64(4), object(2)\n",
      "memory usage: 1000.2+ MB\n"
     ]
    }
   ],
   "source": [
    "audio_features.info()"
   ]
  },
  {
   "cell_type": "code",
   "execution_count": 49,
   "metadata": {},
   "outputs": [
    {
     "data": {
      "text/html": [
       "<div>\n",
       "<style scoped>\n",
       "    .dataframe tbody tr th:only-of-type {\n",
       "        vertical-align: middle;\n",
       "    }\n",
       "\n",
       "    .dataframe tbody tr th {\n",
       "        vertical-align: top;\n",
       "    }\n",
       "\n",
       "    .dataframe thead th {\n",
       "        text-align: right;\n",
       "    }\n",
       "</style>\n",
       "<table border=\"1\" class=\"dataframe\">\n",
       "  <thead>\n",
       "    <tr style=\"text-align: right;\">\n",
       "      <th></th>\n",
       "      <th>acousticness</th>\n",
       "      <th>danceability</th>\n",
       "      <th>duration</th>\n",
       "      <th>energy</th>\n",
       "      <th>instrumentalness</th>\n",
       "      <th>key</th>\n",
       "      <th>liveness</th>\n",
       "      <th>loudness</th>\n",
       "      <th>mode</th>\n",
       "      <th>speechiness</th>\n",
       "      <th>tempo</th>\n",
       "      <th>time_signature</th>\n",
       "      <th>valence</th>\n",
       "    </tr>\n",
       "  </thead>\n",
       "  <tbody>\n",
       "    <tr>\n",
       "      <th>count</th>\n",
       "      <td>8740043.000</td>\n",
       "      <td>8740043.000</td>\n",
       "      <td>8740043.000</td>\n",
       "      <td>8740043.000</td>\n",
       "      <td>8740043.000</td>\n",
       "      <td>8740043.000</td>\n",
       "      <td>8740043.000</td>\n",
       "      <td>8740043.000</td>\n",
       "      <td>8740043.000</td>\n",
       "      <td>8740043.000</td>\n",
       "      <td>8740043.000</td>\n",
       "      <td>8740043.000</td>\n",
       "      <td>8740043.000</td>\n",
       "    </tr>\n",
       "    <tr>\n",
       "      <th>mean</th>\n",
       "      <td>0.419</td>\n",
       "      <td>0.533</td>\n",
       "      <td>236811.438</td>\n",
       "      <td>0.548</td>\n",
       "      <td>0.256</td>\n",
       "      <td>5.242</td>\n",
       "      <td>0.207</td>\n",
       "      <td>-10.791</td>\n",
       "      <td>0.660</td>\n",
       "      <td>0.096</td>\n",
       "      <td>118.661</td>\n",
       "      <td>3.840</td>\n",
       "      <td>0.480</td>\n",
       "    </tr>\n",
       "    <tr>\n",
       "      <th>std</th>\n",
       "      <td>0.376</td>\n",
       "      <td>0.192</td>\n",
       "      <td>154643.241</td>\n",
       "      <td>0.282</td>\n",
       "      <td>0.368</td>\n",
       "      <td>3.543</td>\n",
       "      <td>0.182</td>\n",
       "      <td>6.280</td>\n",
       "      <td>0.474</td>\n",
       "      <td>0.141</td>\n",
       "      <td>31.042</td>\n",
       "      <td>0.567</td>\n",
       "      <td>0.280</td>\n",
       "    </tr>\n",
       "    <tr>\n",
       "      <th>min</th>\n",
       "      <td>0.000</td>\n",
       "      <td>0.000</td>\n",
       "      <td>1000.000</td>\n",
       "      <td>0.000</td>\n",
       "      <td>0.000</td>\n",
       "      <td>0.000</td>\n",
       "      <td>0.000</td>\n",
       "      <td>-60.000</td>\n",
       "      <td>0.000</td>\n",
       "      <td>0.000</td>\n",
       "      <td>0.000</td>\n",
       "      <td>0.000</td>\n",
       "      <td>0.000</td>\n",
       "    </tr>\n",
       "    <tr>\n",
       "      <th>25%</th>\n",
       "      <td>0.033</td>\n",
       "      <td>0.400</td>\n",
       "      <td>169227.000</td>\n",
       "      <td>0.317</td>\n",
       "      <td>0.000</td>\n",
       "      <td>2.000</td>\n",
       "      <td>0.096</td>\n",
       "      <td>-13.521</td>\n",
       "      <td>0.000</td>\n",
       "      <td>0.036</td>\n",
       "      <td>95.221</td>\n",
       "      <td>4.000</td>\n",
       "      <td>0.239</td>\n",
       "    </tr>\n",
       "    <tr>\n",
       "      <th>50%</th>\n",
       "      <td>0.331</td>\n",
       "      <td>0.549</td>\n",
       "      <td>216160.000</td>\n",
       "      <td>0.571</td>\n",
       "      <td>0.002</td>\n",
       "      <td>5.000</td>\n",
       "      <td>0.130</td>\n",
       "      <td>-9.136</td>\n",
       "      <td>1.000</td>\n",
       "      <td>0.047</td>\n",
       "      <td>119.098</td>\n",
       "      <td>4.000</td>\n",
       "      <td>0.475</td>\n",
       "    </tr>\n",
       "    <tr>\n",
       "      <th>75%</th>\n",
       "      <td>0.811</td>\n",
       "      <td>0.679</td>\n",
       "      <td>273893.000</td>\n",
       "      <td>0.791</td>\n",
       "      <td>0.633</td>\n",
       "      <td>8.000</td>\n",
       "      <td>0.264</td>\n",
       "      <td>-6.364</td>\n",
       "      <td>1.000</td>\n",
       "      <td>0.083</td>\n",
       "      <td>137.513</td>\n",
       "      <td>4.000</td>\n",
       "      <td>0.715</td>\n",
       "    </tr>\n",
       "    <tr>\n",
       "      <th>max</th>\n",
       "      <td>0.996</td>\n",
       "      <td>1.000</td>\n",
       "      <td>6072187.000</td>\n",
       "      <td>1.000</td>\n",
       "      <td>1.000</td>\n",
       "      <td>11.000</td>\n",
       "      <td>1.000</td>\n",
       "      <td>6.275</td>\n",
       "      <td>1.000</td>\n",
       "      <td>0.974</td>\n",
       "      <td>249.987</td>\n",
       "      <td>5.000</td>\n",
       "      <td>1.000</td>\n",
       "    </tr>\n",
       "  </tbody>\n",
       "</table>\n",
       "</div>"
      ],
      "text/plain": [
       "      acousticness danceability     duration       energy instrumentalness  \\\n",
       "count  8740043.000  8740043.000  8740043.000  8740043.000      8740043.000   \n",
       "mean         0.419        0.533   236811.438        0.548            0.256   \n",
       "std          0.376        0.192   154643.241        0.282            0.368   \n",
       "min          0.000        0.000     1000.000        0.000            0.000   \n",
       "25%          0.033        0.400   169227.000        0.317            0.000   \n",
       "50%          0.331        0.549   216160.000        0.571            0.002   \n",
       "75%          0.811        0.679   273893.000        0.791            0.633   \n",
       "max          0.996        1.000  6072187.000        1.000            1.000   \n",
       "\n",
       "               key     liveness     loudness         mode  speechiness  \\\n",
       "count  8740043.000  8740043.000  8740043.000  8740043.000  8740043.000   \n",
       "mean         5.242        0.207      -10.791        0.660        0.096   \n",
       "std          3.543        0.182        6.280        0.474        0.141   \n",
       "min          0.000        0.000      -60.000        0.000        0.000   \n",
       "25%          2.000        0.096      -13.521        0.000        0.036   \n",
       "50%          5.000        0.130       -9.136        1.000        0.047   \n",
       "75%          8.000        0.264       -6.364        1.000        0.083   \n",
       "max         11.000        1.000        6.275        1.000        0.974   \n",
       "\n",
       "             tempo time_signature      valence  \n",
       "count  8740043.000    8740043.000  8740043.000  \n",
       "mean       118.661          3.840        0.480  \n",
       "std         31.042          0.567        0.280  \n",
       "min          0.000          0.000        0.000  \n",
       "25%         95.221          4.000        0.239  \n",
       "50%        119.098          4.000        0.475  \n",
       "75%        137.513          4.000        0.715  \n",
       "max        249.987          5.000        1.000  "
      ]
     },
     "execution_count": 49,
     "metadata": {},
     "output_type": "execute_result"
    }
   ],
   "source": [
    "audio_features.describe().apply(lambda s: s.apply(lambda x: format(x, '.3f')))"
   ]
  },
  {
   "cell_type": "markdown",
   "metadata": {},
   "source": [
    "Aqui solo eliminaremos `analysis_url` (no nos sirve sin un token), pues es la tabla con la informacion de mayor interes."
   ]
  },
  {
   "cell_type": "markdown",
   "metadata": {},
   "source": [
    "#### genres"
   ]
  },
  {
   "cell_type": "code",
   "execution_count": 50,
   "metadata": {},
   "outputs": [
    {
     "data": {
      "text/html": [
       "<div>\n",
       "<style scoped>\n",
       "    .dataframe tbody tr th:only-of-type {\n",
       "        vertical-align: middle;\n",
       "    }\n",
       "\n",
       "    .dataframe tbody tr th {\n",
       "        vertical-align: top;\n",
       "    }\n",
       "\n",
       "    .dataframe thead th {\n",
       "        text-align: right;\n",
       "    }\n",
       "</style>\n",
       "<table border=\"1\" class=\"dataframe\">\n",
       "  <thead>\n",
       "    <tr style=\"text-align: right;\">\n",
       "      <th></th>\n",
       "      <th>id</th>\n",
       "    </tr>\n",
       "  </thead>\n",
       "  <tbody>\n",
       "    <tr>\n",
       "      <th>0</th>\n",
       "      <td>detroit hip hop</td>\n",
       "    </tr>\n",
       "    <tr>\n",
       "      <th>1</th>\n",
       "      <td>g funk</td>\n",
       "    </tr>\n",
       "    <tr>\n",
       "      <th>2</th>\n",
       "      <td>gangster rap</td>\n",
       "    </tr>\n",
       "    <tr>\n",
       "      <th>3</th>\n",
       "      <td>hardcore hip hop</td>\n",
       "    </tr>\n",
       "    <tr>\n",
       "      <th>4</th>\n",
       "      <td>hip hop</td>\n",
       "    </tr>\n",
       "  </tbody>\n",
       "</table>\n",
       "</div>"
      ],
      "text/plain": [
       "                 id\n",
       "0   detroit hip hop\n",
       "1            g funk\n",
       "2      gangster rap\n",
       "3  hardcore hip hop\n",
       "4           hip hop"
      ]
     },
     "execution_count": 50,
     "metadata": {},
     "output_type": "execute_result"
    }
   ],
   "source": [
    "genres.head()"
   ]
  },
  {
   "cell_type": "code",
   "execution_count": 51,
   "metadata": {},
   "outputs": [
    {
     "data": {
      "text/plain": [
       "(5489, 1)"
      ]
     },
     "execution_count": 51,
     "metadata": {},
     "output_type": "execute_result"
    }
   ],
   "source": [
    "genres.shape"
   ]
  },
  {
   "cell_type": "code",
   "execution_count": 52,
   "metadata": {},
   "outputs": [
    {
     "name": "stdout",
     "output_type": "stream",
     "text": [
      "<class 'pandas.core.frame.DataFrame'>\n",
      "RangeIndex: 5489 entries, 0 to 5488\n",
      "Data columns (total 1 columns):\n",
      " #   Column  Non-Null Count  Dtype \n",
      "---  ------  --------------  ----- \n",
      " 0   id      5489 non-null   object\n",
      "dtypes: object(1)\n",
      "memory usage: 43.0+ KB\n"
     ]
    }
   ],
   "source": [
    "genres.info()"
   ]
  },
  {
   "cell_type": "code",
   "execution_count": 53,
   "metadata": {},
   "outputs": [
    {
     "data": {
      "text/plain": [
       "id                    \n",
       "21st century classical    1\n",
       "norwegian blues           1\n",
       "norwegian folk            1\n",
       "norwegian experimental    1\n",
       "norwegian doom metal      1\n",
       "                         ..\n",
       "folk-pop                  1\n",
       "folk siciliana            1\n",
       "folk rock italiano        1\n",
       "folk rock                 1\n",
       "zydeco                    1\n",
       "Name: count, Length: 5489, dtype: int64"
      ]
     },
     "execution_count": 53,
     "metadata": {},
     "output_type": "execute_result"
    }
   ],
   "source": [
    "genres.value_counts()"
   ]
  },
  {
   "cell_type": "markdown",
   "metadata": {},
   "source": [
    "Esta tabla va relacionada al artista, no a las canciones o albumes, por lo que hay que considerar si es realmente util o no."
   ]
  },
  {
   "cell_type": "markdown",
   "metadata": {},
   "source": [
    "### Eliminar y modificar columnas"
   ]
  },
  {
   "cell_type": "markdown",
   "metadata": {},
   "source": [
    "#### albums"
   ]
  },
  {
   "cell_type": "markdown",
   "metadata": {},
   "source": [
    "Inicialmente, modificaremos `release_date` para que sea en formato de fecha y no timestamp, luego eliminamos `album_group` debido a que todos son valores vacios."
   ]
  },
  {
   "cell_type": "code",
   "execution_count": 54,
   "metadata": {},
   "outputs": [],
   "source": [
    "# debido a limitaciones en los timestamps de pandas, utilizamos la clase datetime de python (la columna será de tipo object para pandas)\n",
    "# no tan fun fact: pd.Timestamp.min es el 1 de enero de 1677 :(\n",
    "\n",
    "# Para rematar, fromtimestamp() no acepta fechas negativas, por lo que tenemos que hacer un workaround con timedelta\n",
    "\n",
    "# funcion para convertir un timestamp a una fecha\n",
    "def convert_timestamp_to_date(timestamp):\n",
    "  try:\n",
    "    # pasamos el timestamp a dias y luego a fecha\n",
    "    return (datetime.datetime.fromtimestamp(0) + datetime.timedelta(days = timestamp / 1000 / 60 / 60 / 24)).date()\n",
    "  # existe un limite para las fechas negativas, lo que nos da un error de OverflowError\n",
    "  except OverflowError:\n",
    "    # si el timestamp es positivo, devolvemos la fecha maxima\n",
    "    if timestamp > 0:\n",
    "      return datetime.datetime.max.date()\n",
    "    # si el timestamp es negativo, devolvemos la fecha minima\n",
    "    else:\n",
    "      return datetime.datetime.min.date()"
   ]
  },
  {
   "cell_type": "code",
   "execution_count": 55,
   "metadata": {},
   "outputs": [
    {
     "data": {
      "text/html": [
       "<div>\n",
       "<style scoped>\n",
       "    .dataframe tbody tr th:only-of-type {\n",
       "        vertical-align: middle;\n",
       "    }\n",
       "\n",
       "    .dataframe tbody tr th {\n",
       "        vertical-align: top;\n",
       "    }\n",
       "\n",
       "    .dataframe thead th {\n",
       "        text-align: right;\n",
       "    }\n",
       "</style>\n",
       "<table border=\"1\" class=\"dataframe\">\n",
       "  <thead>\n",
       "    <tr style=\"text-align: right;\">\n",
       "      <th></th>\n",
       "      <th>album_id</th>\n",
       "      <th>album_name</th>\n",
       "      <th>album_type</th>\n",
       "      <th>album_popularity</th>\n",
       "      <th>album_release_date</th>\n",
       "      <th>album_release_year</th>\n",
       "      <th>album_release_month</th>\n",
       "      <th>album_release_day</th>\n",
       "    </tr>\n",
       "  </thead>\n",
       "  <tbody>\n",
       "    <tr>\n",
       "      <th>0</th>\n",
       "      <td>2jKoVlU7VAmExKJ1Jh3w9P</td>\n",
       "      <td>Alkaholik (feat. Erik Sermon, J Ro &amp; Tash)</td>\n",
       "      <td>album</td>\n",
       "      <td>0</td>\n",
       "      <td>2000-04-01</td>\n",
       "      <td>2000</td>\n",
       "      <td>4</td>\n",
       "      <td>1</td>\n",
       "    </tr>\n",
       "    <tr>\n",
       "      <th>1</th>\n",
       "      <td>4JYUDRtPZuVNi7FAnbHyux</td>\n",
       "      <td>Flava in Ya Ear Remix (feat. Notorious B.I.G., L.L. Cool J, Busta Rhymes, Rampage)</td>\n",
       "      <td>single</td>\n",
       "      <td>0</td>\n",
       "      <td>1993-12-31</td>\n",
       "      <td>1993</td>\n",
       "      <td>12</td>\n",
       "      <td>31</td>\n",
       "    </tr>\n",
       "    <tr>\n",
       "      <th>2</th>\n",
       "      <td>6YjKAkDYmlasMqYw73iB0w</td>\n",
       "      <td>Bitch Please II</td>\n",
       "      <td>album</td>\n",
       "      <td>0</td>\n",
       "      <td>2000-05-22</td>\n",
       "      <td>2000</td>\n",
       "      <td>5</td>\n",
       "      <td>22</td>\n",
       "    </tr>\n",
       "    <tr>\n",
       "      <th>3</th>\n",
       "      <td>2YlvHjDb4Tyxl4A1IcDhAe</td>\n",
       "      <td>Just Dippin'</td>\n",
       "      <td>compilation</td>\n",
       "      <td>0</td>\n",
       "      <td>2004-12-31</td>\n",
       "      <td>2004</td>\n",
       "      <td>12</td>\n",
       "      <td>31</td>\n",
       "    </tr>\n",
       "    <tr>\n",
       "      <th>4</th>\n",
       "      <td>3UOuBNEin5peSRqdzvlnWM</td>\n",
       "      <td>Still D.R.E.</td>\n",
       "      <td>album</td>\n",
       "      <td>0</td>\n",
       "      <td>1999-11-15</td>\n",
       "      <td>1999</td>\n",
       "      <td>11</td>\n",
       "      <td>15</td>\n",
       "    </tr>\n",
       "  </tbody>\n",
       "</table>\n",
       "</div>"
      ],
      "text/plain": [
       "                 album_id  \\\n",
       "0  2jKoVlU7VAmExKJ1Jh3w9P   \n",
       "1  4JYUDRtPZuVNi7FAnbHyux   \n",
       "2  6YjKAkDYmlasMqYw73iB0w   \n",
       "3  2YlvHjDb4Tyxl4A1IcDhAe   \n",
       "4  3UOuBNEin5peSRqdzvlnWM   \n",
       "\n",
       "                                                                           album_name  \\\n",
       "0                                          Alkaholik (feat. Erik Sermon, J Ro & Tash)   \n",
       "1  Flava in Ya Ear Remix (feat. Notorious B.I.G., L.L. Cool J, Busta Rhymes, Rampage)   \n",
       "2                                                                     Bitch Please II   \n",
       "3                                                                        Just Dippin'   \n",
       "4                                                                        Still D.R.E.   \n",
       "\n",
       "    album_type  album_popularity album_release_date  album_release_year  \\\n",
       "0        album                 0         2000-04-01                2000   \n",
       "1       single                 0         1993-12-31                1993   \n",
       "2        album                 0         2000-05-22                2000   \n",
       "3  compilation                 0         2004-12-31                2004   \n",
       "4        album                 0         1999-11-15                1999   \n",
       "\n",
       "   album_release_month  album_release_day  \n",
       "0                    4                  1  \n",
       "1                   12                 31  \n",
       "2                    5                 22  \n",
       "3                   12                 31  \n",
       "4                   11                 15  "
      ]
     },
     "execution_count": 55,
     "metadata": {},
     "output_type": "execute_result"
    }
   ],
   "source": [
    "# pasar release_date de timestamp a datetime\n",
    "albums['album_release_date'] = albums['release_date'].apply(\n",
    "  lambda x: convert_timestamp_to_date(x)\n",
    ")\n",
    "albums['album_release_year'] = albums['album_release_date'].apply(\n",
    "  lambda x: x.year\n",
    ")\n",
    "albums['album_release_month'] = albums['album_release_date'].apply(\n",
    "  lambda x: x.month\n",
    ")\n",
    "# OJO: probablemente no sea muy preciso\n",
    "albums['album_release_day'] = albums['album_release_date'].apply(\n",
    "  lambda x: x.day\n",
    ")\n",
    "\n",
    "albums.drop(columns=[\n",
    "  'album_group', 'release_date',\n",
    "], inplace=True)\n",
    "albums.rename(columns={\n",
    "  'id': 'album_id',\n",
    "  'name': 'album_name',\n",
    "  'popularity': 'album_popularity',\n",
    "}, inplace=True)\n",
    "albums.head()"
   ]
  },
  {
   "cell_type": "code",
   "execution_count": 56,
   "metadata": {},
   "outputs": [
    {
     "data": {
      "text/html": [
       "<div>\n",
       "<style scoped>\n",
       "    .dataframe tbody tr th:only-of-type {\n",
       "        vertical-align: middle;\n",
       "    }\n",
       "\n",
       "    .dataframe tbody tr th {\n",
       "        vertical-align: top;\n",
       "    }\n",
       "\n",
       "    .dataframe thead th {\n",
       "        text-align: right;\n",
       "    }\n",
       "</style>\n",
       "<table border=\"1\" class=\"dataframe\">\n",
       "  <thead>\n",
       "    <tr style=\"text-align: right;\">\n",
       "      <th></th>\n",
       "      <th>album_popularity</th>\n",
       "      <th>album_release_year</th>\n",
       "      <th>album_release_month</th>\n",
       "      <th>album_release_day</th>\n",
       "    </tr>\n",
       "  </thead>\n",
       "  <tbody>\n",
       "    <tr>\n",
       "      <th>count</th>\n",
       "      <td>4820754</td>\n",
       "      <td>4820754</td>\n",
       "      <td>4820754</td>\n",
       "      <td>4820754</td>\n",
       "    </tr>\n",
       "    <tr>\n",
       "      <th>mean</th>\n",
       "      <td>2</td>\n",
       "      <td>2008</td>\n",
       "      <td>8</td>\n",
       "      <td>20</td>\n",
       "    </tr>\n",
       "    <tr>\n",
       "      <th>std</th>\n",
       "      <td>8</td>\n",
       "      <td>15</td>\n",
       "      <td>4</td>\n",
       "      <td>10</td>\n",
       "    </tr>\n",
       "    <tr>\n",
       "      <th>min</th>\n",
       "      <td>0</td>\n",
       "      <td>1</td>\n",
       "      <td>1</td>\n",
       "      <td>1</td>\n",
       "    </tr>\n",
       "    <tr>\n",
       "      <th>25%</th>\n",
       "      <td>0</td>\n",
       "      <td>2006</td>\n",
       "      <td>5</td>\n",
       "      <td>11</td>\n",
       "    </tr>\n",
       "    <tr>\n",
       "      <th>50%</th>\n",
       "      <td>0</td>\n",
       "      <td>2011</td>\n",
       "      <td>8</td>\n",
       "      <td>21</td>\n",
       "    </tr>\n",
       "    <tr>\n",
       "      <th>75%</th>\n",
       "      <td>0</td>\n",
       "      <td>2014</td>\n",
       "      <td>12</td>\n",
       "      <td>31</td>\n",
       "    </tr>\n",
       "    <tr>\n",
       "      <th>max</th>\n",
       "      <td>100</td>\n",
       "      <td>2022</td>\n",
       "      <td>12</td>\n",
       "      <td>31</td>\n",
       "    </tr>\n",
       "  </tbody>\n",
       "</table>\n",
       "</div>"
      ],
      "text/plain": [
       "      album_popularity album_release_year album_release_month  \\\n",
       "count          4820754            4820754             4820754   \n",
       "mean                 2               2008                   8   \n",
       "std                  8                 15                   4   \n",
       "min                  0                  1                   1   \n",
       "25%                  0               2006                   5   \n",
       "50%                  0               2011                   8   \n",
       "75%                  0               2014                  12   \n",
       "max                100               2022                  12   \n",
       "\n",
       "      album_release_day  \n",
       "count           4820754  \n",
       "mean                 20  \n",
       "std                  10  \n",
       "min                   1  \n",
       "25%                  11  \n",
       "50%                  21  \n",
       "75%                  31  \n",
       "max                  31  "
      ]
     },
     "execution_count": 56,
     "metadata": {},
     "output_type": "execute_result"
    }
   ],
   "source": [
    "albums.describe().apply(lambda s: s.apply(lambda x: format(x, '.0f')))"
   ]
  },
  {
   "cell_type": "markdown",
   "metadata": {},
   "source": [
    "#### artists"
   ]
  },
  {
   "cell_type": "code",
   "execution_count": 57,
   "metadata": {},
   "outputs": [
    {
     "data": {
      "text/html": [
       "<div>\n",
       "<style scoped>\n",
       "    .dataframe tbody tr th:only-of-type {\n",
       "        vertical-align: middle;\n",
       "    }\n",
       "\n",
       "    .dataframe tbody tr th {\n",
       "        vertical-align: top;\n",
       "    }\n",
       "\n",
       "    .dataframe thead th {\n",
       "        text-align: right;\n",
       "    }\n",
       "</style>\n",
       "<table border=\"1\" class=\"dataframe\">\n",
       "  <thead>\n",
       "    <tr style=\"text-align: right;\">\n",
       "      <th></th>\n",
       "      <th>artist_name</th>\n",
       "      <th>artist_id</th>\n",
       "      <th>artist_popularity</th>\n",
       "      <th>artist_followers</th>\n",
       "    </tr>\n",
       "  </thead>\n",
       "  <tbody>\n",
       "    <tr>\n",
       "      <th>0</th>\n",
       "      <td>Xzibit</td>\n",
       "      <td>4tujQJicOnuZRLiBFdp3Ou</td>\n",
       "      <td>69</td>\n",
       "      <td>1193665</td>\n",
       "    </tr>\n",
       "    <tr>\n",
       "      <th>1</th>\n",
       "      <td>Erick Sermon</td>\n",
       "      <td>2VX0o9LDIVmKIgpnwdJpOJ</td>\n",
       "      <td>54</td>\n",
       "      <td>142007</td>\n",
       "    </tr>\n",
       "    <tr>\n",
       "      <th>2</th>\n",
       "      <td>J. Ro</td>\n",
       "      <td>3iBOsmwGzRKyR0vs2I61xP</td>\n",
       "      <td>45</td>\n",
       "      <td>158</td>\n",
       "    </tr>\n",
       "    <tr>\n",
       "      <th>3</th>\n",
       "      <td>Tash</td>\n",
       "      <td>22qf8cJRzBjIWb2Jc4JeOr</td>\n",
       "      <td>48</td>\n",
       "      <td>3421</td>\n",
       "    </tr>\n",
       "    <tr>\n",
       "      <th>4</th>\n",
       "      <td>Craig Mack</td>\n",
       "      <td>4akj4uteQQrrGxhX9Rjuyf</td>\n",
       "      <td>55</td>\n",
       "      <td>161966</td>\n",
       "    </tr>\n",
       "  </tbody>\n",
       "</table>\n",
       "</div>"
      ],
      "text/plain": [
       "    artist_name               artist_id  artist_popularity  artist_followers\n",
       "0        Xzibit  4tujQJicOnuZRLiBFdp3Ou                 69           1193665\n",
       "1  Erick Sermon  2VX0o9LDIVmKIgpnwdJpOJ                 54            142007\n",
       "2         J. Ro  3iBOsmwGzRKyR0vs2I61xP                 45               158\n",
       "3          Tash  22qf8cJRzBjIWb2Jc4JeOr                 48              3421\n",
       "4    Craig Mack  4akj4uteQQrrGxhX9Rjuyf                 55            161966"
      ]
     },
     "execution_count": 57,
     "metadata": {},
     "output_type": "execute_result"
    }
   ],
   "source": [
    "artists.rename(columns={\n",
    "  'id': 'artist_id',\n",
    "  'name': 'artist_name',\n",
    "  'popularity': 'artist_popularity',\n",
    "  'followers': 'artist_followers',\n",
    "}, inplace=True)\n",
    "artists.head()"
   ]
  },
  {
   "cell_type": "markdown",
   "metadata": {},
   "source": [
    "#### tracks"
   ]
  },
  {
   "cell_type": "markdown",
   "metadata": {},
   "source": [
    "Inicialmente, consideramos eliminar `disc_number` por baja varianza y `is_playable` por muchos valores nulos.\n",
    "Ademas cambiaremos algunos nombres de columnas."
   ]
  },
  {
   "cell_type": "code",
   "execution_count": 58,
   "metadata": {},
   "outputs": [
    {
     "data": {
      "text/html": [
       "<div>\n",
       "<style scoped>\n",
       "    .dataframe tbody tr th:only-of-type {\n",
       "        vertical-align: middle;\n",
       "    }\n",
       "\n",
       "    .dataframe tbody tr th {\n",
       "        vertical-align: top;\n",
       "    }\n",
       "\n",
       "    .dataframe thead th {\n",
       "        text-align: right;\n",
       "    }\n",
       "</style>\n",
       "<table border=\"1\" class=\"dataframe\">\n",
       "  <thead>\n",
       "    <tr style=\"text-align: right;\">\n",
       "      <th></th>\n",
       "      <th>track_id</th>\n",
       "      <th>track_duration_ms</th>\n",
       "      <th>track_explicit</th>\n",
       "      <th>audio_feature_id</th>\n",
       "      <th>track_name</th>\n",
       "      <th>track_number_in_album</th>\n",
       "      <th>track_popularity</th>\n",
       "    </tr>\n",
       "  </thead>\n",
       "  <tbody>\n",
       "    <tr>\n",
       "      <th>0</th>\n",
       "      <td>1dizvxctg9dHEyaYTFufVi</td>\n",
       "      <td>275893</td>\n",
       "      <td>1</td>\n",
       "      <td>1dizvxctg9dHEyaYTFufVi</td>\n",
       "      <td>Gz And Hustlas (feat. Nancy Fletcher)</td>\n",
       "      <td>12</td>\n",
       "      <td>0</td>\n",
       "    </tr>\n",
       "    <tr>\n",
       "      <th>1</th>\n",
       "      <td>2g8HN35AnVGIk7B8yMucww</td>\n",
       "      <td>252746</td>\n",
       "      <td>1</td>\n",
       "      <td>2g8HN35AnVGIk7B8yMucww</td>\n",
       "      <td>Big Poppa - 2005 Remaster</td>\n",
       "      <td>13</td>\n",
       "      <td>77</td>\n",
       "    </tr>\n",
       "    <tr>\n",
       "      <th>2</th>\n",
       "      <td>49pnyECzcMGCKAqxfTB4JZ</td>\n",
       "      <td>315080</td>\n",
       "      <td>0</td>\n",
       "      <td>49pnyECzcMGCKAqxfTB4JZ</td>\n",
       "      <td>You Were Born - Early Version Of \"One Of The Three\" / Outtake</td>\n",
       "      <td>6</td>\n",
       "      <td>8</td>\n",
       "    </tr>\n",
       "    <tr>\n",
       "      <th>3</th>\n",
       "      <td>4E5IFAXCob6QqZaJMTw5YN</td>\n",
       "      <td>240800</td>\n",
       "      <td>1</td>\n",
       "      <td>4E5IFAXCob6QqZaJMTw5YN</td>\n",
       "      <td>Poppin' Them Thangs</td>\n",
       "      <td>2</td>\n",
       "      <td>70</td>\n",
       "    </tr>\n",
       "    <tr>\n",
       "      <th>4</th>\n",
       "      <td>1gSt2UlC7mtRtJIc5zqKWn</td>\n",
       "      <td>203666</td>\n",
       "      <td>0</td>\n",
       "      <td>1gSt2UlC7mtRtJIc5zqKWn</td>\n",
       "      <td>It's Hard To Say \"I Do\", When I Don't</td>\n",
       "      <td>2</td>\n",
       "      <td>50</td>\n",
       "    </tr>\n",
       "  </tbody>\n",
       "</table>\n",
       "</div>"
      ],
      "text/plain": [
       "                 track_id  track_duration_ms  track_explicit  \\\n",
       "0  1dizvxctg9dHEyaYTFufVi             275893               1   \n",
       "1  2g8HN35AnVGIk7B8yMucww             252746               1   \n",
       "2  49pnyECzcMGCKAqxfTB4JZ             315080               0   \n",
       "3  4E5IFAXCob6QqZaJMTw5YN             240800               1   \n",
       "4  1gSt2UlC7mtRtJIc5zqKWn             203666               0   \n",
       "\n",
       "         audio_feature_id  \\\n",
       "0  1dizvxctg9dHEyaYTFufVi   \n",
       "1  2g8HN35AnVGIk7B8yMucww   \n",
       "2  49pnyECzcMGCKAqxfTB4JZ   \n",
       "3  4E5IFAXCob6QqZaJMTw5YN   \n",
       "4  1gSt2UlC7mtRtJIc5zqKWn   \n",
       "\n",
       "                                                      track_name  \\\n",
       "0                          Gz And Hustlas (feat. Nancy Fletcher)   \n",
       "1                                      Big Poppa - 2005 Remaster   \n",
       "2  You Were Born - Early Version Of \"One Of The Three\" / Outtake   \n",
       "3                                            Poppin' Them Thangs   \n",
       "4                          It's Hard To Say \"I Do\", When I Don't   \n",
       "\n",
       "   track_number_in_album  track_popularity  \n",
       "0                     12                 0  \n",
       "1                     13                77  \n",
       "2                      6                 8  \n",
       "3                      2                70  \n",
       "4                      2                50  "
      ]
     },
     "execution_count": 58,
     "metadata": {},
     "output_type": "execute_result"
    }
   ],
   "source": [
    "tracks.drop(columns=[\n",
    "  'preview_url', 'disc_number', 'is_playable'\n",
    "], inplace=True)\n",
    "tracks.rename(columns={\n",
    "  'id': 'track_id',\n",
    "  'name': 'track_name',\n",
    "  'duration': 'track_duration_ms',\n",
    "  'track_number': 'track_number_in_album',\n",
    "  'explicit': 'track_explicit',\n",
    "  'popularity': 'track_popularity'\n",
    "}, inplace=True)\n",
    "tracks.head()"
   ]
  },
  {
   "cell_type": "markdown",
   "metadata": {},
   "source": [
    "#### audio_features"
   ]
  },
  {
   "cell_type": "code",
   "execution_count": 59,
   "metadata": {},
   "outputs": [
    {
     "data": {
      "text/html": [
       "<div>\n",
       "<style scoped>\n",
       "    .dataframe tbody tr th:only-of-type {\n",
       "        vertical-align: middle;\n",
       "    }\n",
       "\n",
       "    .dataframe tbody tr th {\n",
       "        vertical-align: top;\n",
       "    }\n",
       "\n",
       "    .dataframe thead th {\n",
       "        text-align: right;\n",
       "    }\n",
       "</style>\n",
       "<table border=\"1\" class=\"dataframe\">\n",
       "  <thead>\n",
       "    <tr style=\"text-align: right;\">\n",
       "      <th></th>\n",
       "      <th>audio_feature_id</th>\n",
       "      <th>acousticness</th>\n",
       "      <th>danceability</th>\n",
       "      <th>duration</th>\n",
       "      <th>energy</th>\n",
       "      <th>instrumentalness</th>\n",
       "      <th>key</th>\n",
       "      <th>liveness</th>\n",
       "      <th>loudness</th>\n",
       "      <th>mode</th>\n",
       "      <th>speechiness</th>\n",
       "      <th>tempo</th>\n",
       "      <th>time_signature</th>\n",
       "      <th>valence</th>\n",
       "    </tr>\n",
       "  </thead>\n",
       "  <tbody>\n",
       "    <tr>\n",
       "      <th>0</th>\n",
       "      <td>2jKoVlU7VAmExKJ1Jh3w9P</td>\n",
       "      <td>0.1800</td>\n",
       "      <td>0.893</td>\n",
       "      <td>219160</td>\n",
       "      <td>0.514</td>\n",
       "      <td>0.000000</td>\n",
       "      <td>11</td>\n",
       "      <td>0.0596</td>\n",
       "      <td>-5.080</td>\n",
       "      <td>1</td>\n",
       "      <td>0.283</td>\n",
       "      <td>95.848000</td>\n",
       "      <td>4</td>\n",
       "      <td>0.787</td>\n",
       "    </tr>\n",
       "    <tr>\n",
       "      <th>1</th>\n",
       "      <td>4JYUDRtPZuVNi7FAnbHyux</td>\n",
       "      <td>0.2720</td>\n",
       "      <td>0.520</td>\n",
       "      <td>302013</td>\n",
       "      <td>0.847</td>\n",
       "      <td>0.000000</td>\n",
       "      <td>9</td>\n",
       "      <td>0.3250</td>\n",
       "      <td>-5.300</td>\n",
       "      <td>1</td>\n",
       "      <td>0.427</td>\n",
       "      <td>177.371002</td>\n",
       "      <td>4</td>\n",
       "      <td>0.799</td>\n",
       "    </tr>\n",
       "    <tr>\n",
       "      <th>2</th>\n",
       "      <td>6YjKAkDYmlasMqYw73iB0w</td>\n",
       "      <td>0.0783</td>\n",
       "      <td>0.918</td>\n",
       "      <td>288200</td>\n",
       "      <td>0.586</td>\n",
       "      <td>0.000000</td>\n",
       "      <td>1</td>\n",
       "      <td>0.1450</td>\n",
       "      <td>-2.890</td>\n",
       "      <td>1</td>\n",
       "      <td>0.133</td>\n",
       "      <td>95.516998</td>\n",
       "      <td>4</td>\n",
       "      <td>0.779</td>\n",
       "    </tr>\n",
       "    <tr>\n",
       "      <th>3</th>\n",
       "      <td>2YlvHjDb4Tyxl4A1IcDhAe</td>\n",
       "      <td>0.5840</td>\n",
       "      <td>0.877</td>\n",
       "      <td>243013</td>\n",
       "      <td>0.681</td>\n",
       "      <td>0.000000</td>\n",
       "      <td>1</td>\n",
       "      <td>0.1190</td>\n",
       "      <td>-6.277</td>\n",
       "      <td>0</td>\n",
       "      <td>0.259</td>\n",
       "      <td>94.834999</td>\n",
       "      <td>4</td>\n",
       "      <td>0.839</td>\n",
       "    </tr>\n",
       "    <tr>\n",
       "      <th>4</th>\n",
       "      <td>3UOuBNEin5peSRqdzvlnWM</td>\n",
       "      <td>0.1700</td>\n",
       "      <td>0.814</td>\n",
       "      <td>270667</td>\n",
       "      <td>0.781</td>\n",
       "      <td>0.000518</td>\n",
       "      <td>11</td>\n",
       "      <td>0.0520</td>\n",
       "      <td>-3.330</td>\n",
       "      <td>1</td>\n",
       "      <td>0.233</td>\n",
       "      <td>93.445000</td>\n",
       "      <td>4</td>\n",
       "      <td>0.536</td>\n",
       "    </tr>\n",
       "  </tbody>\n",
       "</table>\n",
       "</div>"
      ],
      "text/plain": [
       "         audio_feature_id  acousticness  danceability  duration  energy  \\\n",
       "0  2jKoVlU7VAmExKJ1Jh3w9P        0.1800         0.893    219160   0.514   \n",
       "1  4JYUDRtPZuVNi7FAnbHyux        0.2720         0.520    302013   0.847   \n",
       "2  6YjKAkDYmlasMqYw73iB0w        0.0783         0.918    288200   0.586   \n",
       "3  2YlvHjDb4Tyxl4A1IcDhAe        0.5840         0.877    243013   0.681   \n",
       "4  3UOuBNEin5peSRqdzvlnWM        0.1700         0.814    270667   0.781   \n",
       "\n",
       "   instrumentalness  key  liveness  loudness  mode  speechiness       tempo  \\\n",
       "0          0.000000   11    0.0596    -5.080     1        0.283   95.848000   \n",
       "1          0.000000    9    0.3250    -5.300     1        0.427  177.371002   \n",
       "2          0.000000    1    0.1450    -2.890     1        0.133   95.516998   \n",
       "3          0.000000    1    0.1190    -6.277     0        0.259   94.834999   \n",
       "4          0.000518   11    0.0520    -3.330     1        0.233   93.445000   \n",
       "\n",
       "   time_signature  valence  \n",
       "0               4    0.787  \n",
       "1               4    0.799  \n",
       "2               4    0.779  \n",
       "3               4    0.839  \n",
       "4               4    0.536  "
      ]
     },
     "execution_count": 59,
     "metadata": {},
     "output_type": "execute_result"
    }
   ],
   "source": [
    "audio_features.drop(columns=[\n",
    "  'analysis_url',\n",
    "], inplace=True)\n",
    "audio_features.rename(columns={\n",
    "  'id': 'audio_feature_id',\n",
    "  'duration_ms': 'feature_duration_ms',\n",
    "}, inplace=True)\n",
    "audio_features.head()"
   ]
  },
  {
   "cell_type": "markdown",
   "metadata": {},
   "source": [
    "### Mergear tablas"
   ]
  },
  {
   "cell_type": "code",
   "execution_count": 66,
   "metadata": {},
   "outputs": [],
   "source": [
    "merged_data = pd.merge(\n",
    "  left = r_albums_tracks,\n",
    "  right = tracks,\n",
    "  how = 'inner',\n",
    "  on = 'track_id',\n",
    ")\n",
    "\n",
    "merged_data = pd.merge(\n",
    "  left = merged_data,\n",
    "  right = albums,\n",
    "  how = 'inner',\n",
    "  on = 'album_id',\n",
    ")\n",
    "\n",
    "merged_data = pd.merge(\n",
    "  left = r_albums_artists,\n",
    "  right = merged_data,\n",
    "  how = 'inner',\n",
    "  on = 'album_id',\n",
    ")\n",
    "\n",
    "merged_data = pd.merge(\n",
    "  left = merged_data,\n",
    "  right = artists,\n",
    "  how = 'inner',\n",
    "  on = 'artist_id',\n",
    ")\n",
    "\n",
    "merged_data = pd.merge(\n",
    "  left = merged_data,\n",
    "  right = audio_features,\n",
    "  how = 'inner',\n",
    "  on = 'audio_feature_id',\n",
    ")"
   ]
  },
  {
   "cell_type": "code",
   "execution_count": 67,
   "metadata": {},
   "outputs": [
    {
     "data": {
      "text/html": [
       "<div>\n",
       "<style scoped>\n",
       "    .dataframe tbody tr th:only-of-type {\n",
       "        vertical-align: middle;\n",
       "    }\n",
       "\n",
       "    .dataframe tbody tr th {\n",
       "        vertical-align: top;\n",
       "    }\n",
       "\n",
       "    .dataframe thead th {\n",
       "        text-align: right;\n",
       "    }\n",
       "</style>\n",
       "<table border=\"1\" class=\"dataframe\">\n",
       "  <thead>\n",
       "    <tr style=\"text-align: right;\">\n",
       "      <th></th>\n",
       "      <th>album_id</th>\n",
       "      <th>artist_id</th>\n",
       "      <th>track_id</th>\n",
       "      <th>track_duration_ms</th>\n",
       "      <th>track_explicit</th>\n",
       "      <th>audio_feature_id</th>\n",
       "      <th>track_name</th>\n",
       "      <th>track_number_in_album</th>\n",
       "      <th>track_popularity</th>\n",
       "      <th>album_name</th>\n",
       "      <th>album_type</th>\n",
       "      <th>album_popularity</th>\n",
       "      <th>album_release_date</th>\n",
       "      <th>album_release_year</th>\n",
       "      <th>album_release_month</th>\n",
       "      <th>album_release_day</th>\n",
       "      <th>artist_name</th>\n",
       "      <th>artist_popularity</th>\n",
       "      <th>artist_followers</th>\n",
       "      <th>acousticness</th>\n",
       "      <th>danceability</th>\n",
       "      <th>duration</th>\n",
       "      <th>energy</th>\n",
       "      <th>instrumentalness</th>\n",
       "      <th>key</th>\n",
       "      <th>liveness</th>\n",
       "      <th>loudness</th>\n",
       "      <th>mode</th>\n",
       "      <th>speechiness</th>\n",
       "      <th>tempo</th>\n",
       "      <th>time_signature</th>\n",
       "      <th>valence</th>\n",
       "    </tr>\n",
       "  </thead>\n",
       "  <tbody>\n",
       "    <tr>\n",
       "      <th>0</th>\n",
       "      <td>6os2Mv58OYnQClPf7B9E1s</td>\n",
       "      <td>2HS2wQTJXpA65XWOKlAVxk</td>\n",
       "      <td>3HnrHGLE9u2MjHtdobfWl9</td>\n",
       "      <td>198626</td>\n",
       "      <td>0</td>\n",
       "      <td>3HnrHGLE9u2MjHtdobfWl9</td>\n",
       "      <td>Crazy Blues - 78rpm Version</td>\n",
       "      <td>1</td>\n",
       "      <td>5</td>\n",
       "      <td>Crazy Blues: The Best Of Mamie Smith</td>\n",
       "      <td>compilation</td>\n",
       "      <td>13</td>\n",
       "      <td>1919-12-31</td>\n",
       "      <td>1919</td>\n",
       "      <td>12</td>\n",
       "      <td>31</td>\n",
       "      <td>Mamie Smith</td>\n",
       "      <td>30</td>\n",
       "      <td>8758</td>\n",
       "      <td>0.996</td>\n",
       "      <td>0.424</td>\n",
       "      <td>198627</td>\n",
       "      <td>0.245</td>\n",
       "      <td>0.7990</td>\n",
       "      <td>5</td>\n",
       "      <td>0.235</td>\n",
       "      <td>-11.470</td>\n",
       "      <td>1</td>\n",
       "      <td>0.0397</td>\n",
       "      <td>103.870003</td>\n",
       "      <td>4</td>\n",
       "      <td>0.477</td>\n",
       "    </tr>\n",
       "    <tr>\n",
       "      <th>1</th>\n",
       "      <td>6os2Mv58OYnQClPf7B9E1s</td>\n",
       "      <td>2HS2wQTJXpA65XWOKlAVxk</td>\n",
       "      <td>4lDjkpUrpWlMFofIpzuExK</td>\n",
       "      <td>170573</td>\n",
       "      <td>0</td>\n",
       "      <td>4lDjkpUrpWlMFofIpzuExK</td>\n",
       "      <td>It's Right Here for You</td>\n",
       "      <td>2</td>\n",
       "      <td>0</td>\n",
       "      <td>Crazy Blues: The Best Of Mamie Smith</td>\n",
       "      <td>compilation</td>\n",
       "      <td>13</td>\n",
       "      <td>1919-12-31</td>\n",
       "      <td>1919</td>\n",
       "      <td>12</td>\n",
       "      <td>31</td>\n",
       "      <td>Mamie Smith</td>\n",
       "      <td>30</td>\n",
       "      <td>8758</td>\n",
       "      <td>0.996</td>\n",
       "      <td>0.488</td>\n",
       "      <td>170573</td>\n",
       "      <td>0.230</td>\n",
       "      <td>0.4960</td>\n",
       "      <td>5</td>\n",
       "      <td>0.582</td>\n",
       "      <td>-14.439</td>\n",
       "      <td>1</td>\n",
       "      <td>0.0396</td>\n",
       "      <td>115.901001</td>\n",
       "      <td>4</td>\n",
       "      <td>0.701</td>\n",
       "    </tr>\n",
       "    <tr>\n",
       "      <th>2</th>\n",
       "      <td>6os2Mv58OYnQClPf7B9E1s</td>\n",
       "      <td>2HS2wQTJXpA65XWOKlAVxk</td>\n",
       "      <td>4RDT3ftT3V0IJVmW0TNgof</td>\n",
       "      <td>177426</td>\n",
       "      <td>0</td>\n",
       "      <td>4RDT3ftT3V0IJVmW0TNgof</td>\n",
       "      <td>Don't Care Blues</td>\n",
       "      <td>3</td>\n",
       "      <td>1</td>\n",
       "      <td>Crazy Blues: The Best Of Mamie Smith</td>\n",
       "      <td>compilation</td>\n",
       "      <td>13</td>\n",
       "      <td>1919-12-31</td>\n",
       "      <td>1919</td>\n",
       "      <td>12</td>\n",
       "      <td>31</td>\n",
       "      <td>Mamie Smith</td>\n",
       "      <td>30</td>\n",
       "      <td>8758</td>\n",
       "      <td>0.996</td>\n",
       "      <td>0.593</td>\n",
       "      <td>177427</td>\n",
       "      <td>0.291</td>\n",
       "      <td>0.0845</td>\n",
       "      <td>3</td>\n",
       "      <td>0.210</td>\n",
       "      <td>-11.421</td>\n",
       "      <td>1</td>\n",
       "      <td>0.0463</td>\n",
       "      <td>146.880005</td>\n",
       "      <td>4</td>\n",
       "      <td>0.856</td>\n",
       "    </tr>\n",
       "    <tr>\n",
       "      <th>3</th>\n",
       "      <td>6os2Mv58OYnQClPf7B9E1s</td>\n",
       "      <td>2HS2wQTJXpA65XWOKlAVxk</td>\n",
       "      <td>1DfwOz5apF0w2d8hccSkhH</td>\n",
       "      <td>177173</td>\n",
       "      <td>0</td>\n",
       "      <td>1DfwOz5apF0w2d8hccSkhH</td>\n",
       "      <td>Frankie Blues</td>\n",
       "      <td>4</td>\n",
       "      <td>0</td>\n",
       "      <td>Crazy Blues: The Best Of Mamie Smith</td>\n",
       "      <td>compilation</td>\n",
       "      <td>13</td>\n",
       "      <td>1919-12-31</td>\n",
       "      <td>1919</td>\n",
       "      <td>12</td>\n",
       "      <td>31</td>\n",
       "      <td>Mamie Smith</td>\n",
       "      <td>30</td>\n",
       "      <td>8758</td>\n",
       "      <td>0.996</td>\n",
       "      <td>0.575</td>\n",
       "      <td>177173</td>\n",
       "      <td>0.247</td>\n",
       "      <td>0.0684</td>\n",
       "      <td>9</td>\n",
       "      <td>0.362</td>\n",
       "      <td>-13.284</td>\n",
       "      <td>0</td>\n",
       "      <td>0.0400</td>\n",
       "      <td>130.804001</td>\n",
       "      <td>4</td>\n",
       "      <td>0.841</td>\n",
       "    </tr>\n",
       "    <tr>\n",
       "      <th>4</th>\n",
       "      <td>6os2Mv58OYnQClPf7B9E1s</td>\n",
       "      <td>2HS2wQTJXpA65XWOKlAVxk</td>\n",
       "      <td>46JY9OYPi4hJ7oLIS0FZt0</td>\n",
       "      <td>174293</td>\n",
       "      <td>0</td>\n",
       "      <td>46JY9OYPi4hJ7oLIS0FZt0</td>\n",
       "      <td>\"U\" Need Some Lovin' Blues</td>\n",
       "      <td>5</td>\n",
       "      <td>0</td>\n",
       "      <td>Crazy Blues: The Best Of Mamie Smith</td>\n",
       "      <td>compilation</td>\n",
       "      <td>13</td>\n",
       "      <td>1919-12-31</td>\n",
       "      <td>1919</td>\n",
       "      <td>12</td>\n",
       "      <td>31</td>\n",
       "      <td>Mamie Smith</td>\n",
       "      <td>30</td>\n",
       "      <td>8758</td>\n",
       "      <td>0.996</td>\n",
       "      <td>0.623</td>\n",
       "      <td>174293</td>\n",
       "      <td>0.283</td>\n",
       "      <td>0.4630</td>\n",
       "      <td>7</td>\n",
       "      <td>0.422</td>\n",
       "      <td>-13.830</td>\n",
       "      <td>1</td>\n",
       "      <td>0.0753</td>\n",
       "      <td>137.367996</td>\n",
       "      <td>4</td>\n",
       "      <td>0.743</td>\n",
       "    </tr>\n",
       "  </tbody>\n",
       "</table>\n",
       "</div>"
      ],
      "text/plain": [
       "                 album_id               artist_id                track_id  \\\n",
       "0  6os2Mv58OYnQClPf7B9E1s  2HS2wQTJXpA65XWOKlAVxk  3HnrHGLE9u2MjHtdobfWl9   \n",
       "1  6os2Mv58OYnQClPf7B9E1s  2HS2wQTJXpA65XWOKlAVxk  4lDjkpUrpWlMFofIpzuExK   \n",
       "2  6os2Mv58OYnQClPf7B9E1s  2HS2wQTJXpA65XWOKlAVxk  4RDT3ftT3V0IJVmW0TNgof   \n",
       "3  6os2Mv58OYnQClPf7B9E1s  2HS2wQTJXpA65XWOKlAVxk  1DfwOz5apF0w2d8hccSkhH   \n",
       "4  6os2Mv58OYnQClPf7B9E1s  2HS2wQTJXpA65XWOKlAVxk  46JY9OYPi4hJ7oLIS0FZt0   \n",
       "\n",
       "   track_duration_ms  track_explicit        audio_feature_id  \\\n",
       "0             198626               0  3HnrHGLE9u2MjHtdobfWl9   \n",
       "1             170573               0  4lDjkpUrpWlMFofIpzuExK   \n",
       "2             177426               0  4RDT3ftT3V0IJVmW0TNgof   \n",
       "3             177173               0  1DfwOz5apF0w2d8hccSkhH   \n",
       "4             174293               0  46JY9OYPi4hJ7oLIS0FZt0   \n",
       "\n",
       "                    track_name  track_number_in_album  track_popularity  \\\n",
       "0  Crazy Blues - 78rpm Version                      1                 5   \n",
       "1      It's Right Here for You                      2                 0   \n",
       "2             Don't Care Blues                      3                 1   \n",
       "3                Frankie Blues                      4                 0   \n",
       "4   \"U\" Need Some Lovin' Blues                      5                 0   \n",
       "\n",
       "                             album_name   album_type  album_popularity  \\\n",
       "0  Crazy Blues: The Best Of Mamie Smith  compilation                13   \n",
       "1  Crazy Blues: The Best Of Mamie Smith  compilation                13   \n",
       "2  Crazy Blues: The Best Of Mamie Smith  compilation                13   \n",
       "3  Crazy Blues: The Best Of Mamie Smith  compilation                13   \n",
       "4  Crazy Blues: The Best Of Mamie Smith  compilation                13   \n",
       "\n",
       "  album_release_date  album_release_year  album_release_month  \\\n",
       "0         1919-12-31                1919                   12   \n",
       "1         1919-12-31                1919                   12   \n",
       "2         1919-12-31                1919                   12   \n",
       "3         1919-12-31                1919                   12   \n",
       "4         1919-12-31                1919                   12   \n",
       "\n",
       "   album_release_day  artist_name  artist_popularity  artist_followers  \\\n",
       "0                 31  Mamie Smith                 30              8758   \n",
       "1                 31  Mamie Smith                 30              8758   \n",
       "2                 31  Mamie Smith                 30              8758   \n",
       "3                 31  Mamie Smith                 30              8758   \n",
       "4                 31  Mamie Smith                 30              8758   \n",
       "\n",
       "   acousticness  danceability  duration  energy  instrumentalness  key  \\\n",
       "0         0.996         0.424    198627   0.245            0.7990    5   \n",
       "1         0.996         0.488    170573   0.230            0.4960    5   \n",
       "2         0.996         0.593    177427   0.291            0.0845    3   \n",
       "3         0.996         0.575    177173   0.247            0.0684    9   \n",
       "4         0.996         0.623    174293   0.283            0.4630    7   \n",
       "\n",
       "   liveness  loudness  mode  speechiness       tempo  time_signature  valence  \n",
       "0     0.235   -11.470     1       0.0397  103.870003               4    0.477  \n",
       "1     0.582   -14.439     1       0.0396  115.901001               4    0.701  \n",
       "2     0.210   -11.421     1       0.0463  146.880005               4    0.856  \n",
       "3     0.362   -13.284     0       0.0400  130.804001               4    0.841  \n",
       "4     0.422   -13.830     1       0.0753  137.367996               4    0.743  "
      ]
     },
     "execution_count": 67,
     "metadata": {},
     "output_type": "execute_result"
    }
   ],
   "source": [
    "merged_data.head()"
   ]
  },
  {
   "cell_type": "code",
   "execution_count": 68,
   "metadata": {},
   "outputs": [
    {
     "data": {
      "text/plain": [
       "(11574928, 32)"
      ]
     },
     "execution_count": 68,
     "metadata": {},
     "output_type": "execute_result"
    }
   ],
   "source": [
    "merged_data.shape"
   ]
  },
  {
   "cell_type": "code",
   "execution_count": 69,
   "metadata": {},
   "outputs": [
    {
     "name": "stdout",
     "output_type": "stream",
     "text": [
      "<class 'pandas.core.frame.DataFrame'>\n",
      "RangeIndex: 11574928 entries, 0 to 11574927\n",
      "Data columns (total 32 columns):\n",
      " #   Column                 Dtype  \n",
      "---  ------                 -----  \n",
      " 0   album_id               object \n",
      " 1   artist_id              object \n",
      " 2   track_id               object \n",
      " 3   track_duration_ms      int64  \n",
      " 4   track_explicit         int64  \n",
      " 5   audio_feature_id       object \n",
      " 6   track_name             object \n",
      " 7   track_number_in_album  int64  \n",
      " 8   track_popularity       int64  \n",
      " 9   album_name             object \n",
      " 10  album_type             object \n",
      " 11  album_popularity       int64  \n",
      " 12  album_release_date     object \n",
      " 13  album_release_year     int64  \n",
      " 14  album_release_month    int64  \n",
      " 15  album_release_day      int64  \n",
      " 16  artist_name            object \n",
      " 17  artist_popularity      int64  \n",
      " 18  artist_followers       int64  \n",
      " 19  acousticness           float64\n",
      " 20  danceability           float64\n",
      " 21  duration               int64  \n",
      " 22  energy                 float64\n",
      " 23  instrumentalness       float64\n",
      " 24  key                    int64  \n",
      " 25  liveness               float64\n",
      " 26  loudness               float64\n",
      " 27  mode                   int64  \n",
      " 28  speechiness            float64\n",
      " 29  tempo                  float64\n",
      " 30  time_signature         int64  \n",
      " 31  valence                float64\n",
      "dtypes: float64(9), int64(14), object(9)\n",
      "memory usage: 2.8+ GB\n"
     ]
    }
   ],
   "source": [
    "merged_data.info()"
   ]
  },
  {
   "cell_type": "markdown",
   "metadata": {},
   "source": [
    "### Limitar/Filtrar data mergeada"
   ]
  },
  {
   "cell_type": "markdown",
   "metadata": {},
   "source": [
    "Dentro de las modificaciones para el hito 2, consideramos limitar el periodo, la duracion y eliminar los albumes recopilatorios. \\\n",
    "Además, aqui tambien eliminaremos completamente los albumes que posean más de 30 canciones, eliminando uno de los casos que vimos durante la exploración."
   ]
  },
  {
   "cell_type": "code",
   "execution_count": 70,
   "metadata": {},
   "outputs": [],
   "source": [
    "MIN_YEAR_TO_CONSIDER = 2000\n",
    "MAX_YEAR_TO_CONSIDER = 2019\n",
    "MIN_TRACK_DURATION = 1 * 60 * 1000 # 1 minuto como minimo\n",
    "MAX_TRACK_DURATION = 6 * 60 * 1000 # 6 minutos como maximo\n",
    "MAX_TRACK_NUMBER_IN_ALBUM = 30 # 30 canciones como maximo en un album (si no se cumple, se eliminan todas las canciones del album)\n",
    "DELETED_TYPES = ['compilation']\n",
    "\n",
    "merged_data = merged_data[\n",
    "  (merged_data['album_release_year'] >= MIN_YEAR_TO_CONSIDER) &\n",
    "  (merged_data['album_release_year'] <= MAX_YEAR_TO_CONSIDER) &\n",
    "  (merged_data['track_duration_ms'] > MIN_TRACK_DURATION) &\n",
    "  (merged_data['track_duration_ms'] < MAX_TRACK_DURATION) &\n",
    "  (~merged_data['album_type'].isin(DELETED_TYPES))\n",
    "]\n",
    "\n",
    "removable_albums_ids = merged_data[\n",
    "  merged_data['track_number_in_album'] > MAX_TRACK_NUMBER_IN_ALBUM\n",
    "]['album_id'].unique()\n",
    "\n",
    "merged_data = merged_data[\n",
    "  ~merged_data['album_id'].isin(removable_albums_ids)\n",
    "]\n",
    "\n",
    "merged_data.drop_duplicates(subset=[\n",
    "  'track_id'\n",
    "], inplace=True)\n"
   ]
  },
  {
   "cell_type": "code",
   "execution_count": 71,
   "metadata": {},
   "outputs": [
    {
     "name": "stdout",
     "output_type": "stream",
     "text": [
      "<class 'pandas.core.frame.DataFrame'>\n",
      "Index: 4508534 entries, 81 to 11574927\n",
      "Data columns (total 32 columns):\n",
      " #   Column                 Dtype  \n",
      "---  ------                 -----  \n",
      " 0   album_id               object \n",
      " 1   artist_id              object \n",
      " 2   track_id               object \n",
      " 3   track_duration_ms      int64  \n",
      " 4   track_explicit         int64  \n",
      " 5   audio_feature_id       object \n",
      " 6   track_name             object \n",
      " 7   track_number_in_album  int64  \n",
      " 8   track_popularity       int64  \n",
      " 9   album_name             object \n",
      " 10  album_type             object \n",
      " 11  album_popularity       int64  \n",
      " 12  album_release_date     object \n",
      " 13  album_release_year     int64  \n",
      " 14  album_release_month    int64  \n",
      " 15  album_release_day      int64  \n",
      " 16  artist_name            object \n",
      " 17  artist_popularity      int64  \n",
      " 18  artist_followers       int64  \n",
      " 19  acousticness           float64\n",
      " 20  danceability           float64\n",
      " 21  duration               int64  \n",
      " 22  energy                 float64\n",
      " 23  instrumentalness       float64\n",
      " 24  key                    int64  \n",
      " 25  liveness               float64\n",
      " 26  loudness               float64\n",
      " 27  mode                   int64  \n",
      " 28  speechiness            float64\n",
      " 29  tempo                  float64\n",
      " 30  time_signature         int64  \n",
      " 31  valence                float64\n",
      "dtypes: float64(9), int64(14), object(9)\n",
      "memory usage: 1.1+ GB\n"
     ]
    }
   ],
   "source": [
    "merged_data.info()"
   ]
  },
  {
   "cell_type": "markdown",
   "metadata": {},
   "source": [
    "### Guardado y cargado de datos en un csv"
   ]
  },
  {
   "cell_type": "code",
   "execution_count": 72,
   "metadata": {},
   "outputs": [],
   "source": [
    "# cambiar estos valores para guardar o cargar el dataframe\n",
    "SAVE = False\n",
    "if SAVE:\n",
    "  merged_data.to_csv('data/merged_data.csv', index=False)\n",
    "\n",
    "LOAD = False\n",
    "if LOAD:\n",
    "  merged_data = pd.read_csv('data/merged_data.csv')"
   ]
  },
  {
   "cell_type": "markdown",
   "metadata": {},
   "source": [
    "## Graficando"
   ]
  },
  {
   "cell_type": "code",
   "execution_count": 107,
   "metadata": {},
   "outputs": [
    {
     "data": {
      "text/plain": [
       "(1803414, 32)"
      ]
     },
     "execution_count": 107,
     "metadata": {},
     "output_type": "execute_result"
    }
   ],
   "source": [
    "# tomamos una muestra de los datos\n",
    "fraction = 0.4\n",
    "sampled_data = merged_data.sample(frac=fraction, random_state=42)\n",
    "sampled_data.shape"
   ]
  },
  {
   "cell_type": "code",
   "execution_count": 108,
   "metadata": {},
   "outputs": [],
   "source": [
    "sampled_data['track_duration_s'] = sampled_data['track_duration_ms'] / 1000"
   ]
  },
  {
   "cell_type": "code",
   "execution_count": 109,
   "metadata": {},
   "outputs": [
    {
     "data": {
      "text/plain": [
       "<Axes: xlabel='track_duration_s', ylabel='Count'>"
      ]
     },
     "execution_count": 109,
     "metadata": {},
     "output_type": "execute_result"
    },
    {
     "data": {
      "image/png": "[encoded data removed]",
      "text/plain": [
       "<Figure size 640x480 with 1 Axes>"
      ]
     },
     "metadata": {},
     "output_type": "display_data"
    }
   ],
   "source": [
    "# histograma de la duracion de las canciones\n",
    "sns.histplot(\n",
    "  data = sampled_data,\n",
    "  x = 'track_duration_s',\n",
    "  bins = 100,\n",
    "  kde = True,\n",
    ")"
   ]
  },
  {
   "cell_type": "code",
   "execution_count": 110,
   "metadata": {},
   "outputs": [
    {
     "data": {
      "text/plain": [
       "<Axes: xlabel='track_popularity', ylabel='Count'>"
      ]
     },
     "execution_count": 110,
     "metadata": {},
     "output_type": "execute_result"
    },
    {
     "data": {
      "image/png": "[encoded data removed]",
      "text/plain": [
       "<Figure size 640x480 with 1 Axes>"
      ]
     },
     "metadata": {},
     "output_type": "display_data"
    }
   ],
   "source": [
    "sns.histplot(\n",
    "  data = sampled_data,\n",
    "  x = 'track_popularity',\n",
    "  bins = 25,\n",
    "  kde = True,\n",
    ")\n"
   ]
  },
  {
   "cell_type": "code",
   "execution_count": 113,
   "metadata": {},
   "outputs": [
    {
     "data": {
      "text/plain": [
       "<Axes: xlabel='album_release_year', ylabel='Count'>"
      ]
     },
     "execution_count": 113,
     "metadata": {},
     "output_type": "execute_result"
    },
    {
     "data": {
      "image/png": "[encoded data removed]",
      "text/plain": [
       "<Figure size 640x480 with 1 Axes>"
      ]
     },
     "metadata": {},
     "output_type": "display_data"
    }
   ],
   "source": [
    "# plot release year\n",
    "sns.histplot(\n",
    "  data = sampled_data,\n",
    "  x = 'album_release_year',\n",
    "  bins = 20,\n",
    ")"
   ]
  },
  {
   "cell_type": "code",
   "execution_count": 114,
   "metadata": {},
   "outputs": [
    {
     "data": {
      "image/png": "[encoded data removed]",
      "text/plain": [
       "<Figure size 2000x2000 with 16 Axes>"
      ]
     },
     "metadata": {},
     "output_type": "display_data"
    }
   ],
   "source": [
    "import matplotlib.pyplot as plt\n",
    "# plot multiples histogramas (13 columnas/features)\n",
    "fig, axs = plt.subplots(4, 4, figsize=(20, 20))\n",
    "\n",
    "columns = sampled_data.columns[-13:]\n",
    "for i, col in enumerate(columns):\n",
    "  sns.histplot(\n",
    "    data = sampled_data,\n",
    "    x = col,\n",
    "    ax = axs[i // 4][i % 4],\n",
    "    bins = 25,\n",
    "    kde = True,\n",
    "  )\n"
   ]
  },
  {
   "cell_type": "code",
   "execution_count": 115,
   "metadata": {},
   "outputs": [],
   "source": [
    "# guardar la muestra\n",
    "SAVE_SAMPLE = False\n",
    "if SAVE_SAMPLE:\n",
    "  sampled_data.to_csv(f'data/sampled_data_{fraction}.csv', index=False)"
   ]
  }
 ],
 "metadata": {
  "kernelspec": {
   "display_name": "mineria",
   "language": "python",
   "name": "python3"
  },
  "language_info": {
   "codemirror_mode": {
    "name": "ipython",
    "version": 3
   },
   "file_extension": ".py",
   "mimetype": "text/x-python",
   "name": "python",
   "nbconvert_exporter": "python",
   "pygments_lexer": "ipython3",
   "version": "3.12.0"
  },
  "orig_nbformat": 4
 },
 "nbformat": 4,
 "nbformat_minor": 2
}
